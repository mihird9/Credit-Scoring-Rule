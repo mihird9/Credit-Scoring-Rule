{
 "cells": [
  {
   "cell_type": "code",
   "execution_count": 1,
   "metadata": {},
   "outputs": [
    {
     "name": "stderr",
     "output_type": "stream",
     "text": [
      "Installing package into 'C:/Users/mihir/.conda/envs/R_env/Scripts'\n",
      "(as 'lib' is unspecified)\n"
     ]
    },
    {
     "name": "stdout",
     "output_type": "stream",
     "text": [
      "package 'pastecs' successfully unpacked and MD5 sums checked\n",
      "\n",
      "The downloaded binary packages are in\n",
      "\tC:\\Users\\mihir\\AppData\\Local\\Temp\\RtmpYLMzsA\\downloaded_packages\n"
     ]
    },
    {
     "name": "stderr",
     "output_type": "stream",
     "text": [
      "Installing package into 'C:/Users/mihir/.conda/envs/R_env/Scripts'\n",
      "(as 'lib' is unspecified)\n"
     ]
    },
    {
     "name": "stdout",
     "output_type": "stream",
     "text": [
      "package 'psych' successfully unpacked and MD5 sums checked\n",
      "\n",
      "The downloaded binary packages are in\n",
      "\tC:\\Users\\mihir\\AppData\\Local\\Temp\\RtmpYLMzsA\\downloaded_packages\n"
     ]
    },
    {
     "name": "stderr",
     "output_type": "stream",
     "text": [
      "Installing package into 'C:/Users/mihir/.conda/envs/R_env/Scripts'\n",
      "(as 'lib' is unspecified)\n"
     ]
    },
    {
     "name": "stdout",
     "output_type": "stream",
     "text": [
      "package 'DT' successfully unpacked and MD5 sums checked\n",
      "\n",
      "The downloaded binary packages are in\n",
      "\tC:\\Users\\mihir\\AppData\\Local\\Temp\\RtmpYLMzsA\\downloaded_packages\n"
     ]
    },
    {
     "name": "stderr",
     "output_type": "stream",
     "text": [
      "Installing package into 'C:/Users/mihir/.conda/envs/R_env/Scripts'\n",
      "(as 'lib' is unspecified)\n"
     ]
    },
    {
     "name": "stdout",
     "output_type": "stream",
     "text": [
      "package 'corrplot' successfully unpacked and MD5 sums checked\n",
      "\n",
      "The downloaded binary packages are in\n",
      "\tC:\\Users\\mihir\\AppData\\Local\\Temp\\RtmpYLMzsA\\downloaded_packages\n"
     ]
    },
    {
     "name": "stderr",
     "output_type": "stream",
     "text": [
      "Installing package into 'C:/Users/mihir/.conda/envs/R_env/Scripts'\n",
      "(as 'lib' is unspecified)\n"
     ]
    },
    {
     "name": "stdout",
     "output_type": "stream",
     "text": [
      "package 'caret' successfully unpacked and MD5 sums checked\n",
      "\n",
      "The downloaded binary packages are in\n",
      "\tC:\\Users\\mihir\\AppData\\Local\\Temp\\RtmpYLMzsA\\downloaded_packages\n"
     ]
    },
    {
     "name": "stderr",
     "output_type": "stream",
     "text": [
      "Installing package into 'C:/Users/mihir/.conda/envs/R_env/Scripts'\n",
      "(as 'lib' is unspecified)\n"
     ]
    },
    {
     "name": "stdout",
     "output_type": "stream",
     "text": [
      "package 'MLmetrics' successfully unpacked and MD5 sums checked\n",
      "\n",
      "The downloaded binary packages are in\n",
      "\tC:\\Users\\mihir\\AppData\\Local\\Temp\\RtmpYLMzsA\\downloaded_packages\n"
     ]
    },
    {
     "name": "stderr",
     "output_type": "stream",
     "text": [
      "Installing package into 'C:/Users/mihir/.conda/envs/R_env/Scripts'\n",
      "(as 'lib' is unspecified)\n"
     ]
    },
    {
     "name": "stdout",
     "output_type": "stream",
     "text": [
      "package 'ROCR' successfully unpacked and MD5 sums checked\n",
      "\n",
      "The downloaded binary packages are in\n",
      "\tC:\\Users\\mihir\\AppData\\Local\\Temp\\RtmpYLMzsA\\downloaded_packages\n"
     ]
    }
   ],
   "source": [
    "install.packages(\"pastecs\", repos = \"http://cran.us.r-project.org\")\n",
    "install.packages(\"psych\", repos = \"http://cran.us.r-project.org\")\n",
    "install.packages(\"DT\", repos = \"http://cran.us.r-project.org\")\n",
    "install.packages(\"corrplot\", repos = \"http://cran.us.r-project.org\")\n",
    "install.packages(\"caret\", repos = \"http://cran.us.r-project.org\")\n",
    "install.packages(\"MLmetrics\", repos = \"http://cran.us.r-project.org\")\n",
    "install.packages(\"ROCR\", repos = \"http://cran.us.r-project.org\")"
   ]
  },
  {
   "cell_type": "code",
   "execution_count": 2,
   "metadata": {},
   "outputs": [
    {
     "name": "stderr",
     "output_type": "stream",
     "text": [
      "\n",
      "Attaching package: 'dplyr'\n",
      "\n",
      "The following objects are masked from 'package:stats':\n",
      "\n",
      "    filter, lag\n",
      "\n",
      "The following objects are masked from 'package:base':\n",
      "\n",
      "    intersect, setdiff, setequal, union\n",
      "\n",
      "Registered S3 methods overwritten by 'ggplot2':\n",
      "  method         from \n",
      "  [.quosures     rlang\n",
      "  c.quosures     rlang\n",
      "  print.quosures rlang\n",
      "Registered S3 method overwritten by 'rvest':\n",
      "  method            from\n",
      "  read_xml.response xml2\n",
      "-- Attaching packages --------------------------------------- tidyverse 1.2.1 --\n",
      "v ggplot2 3.1.1     v readr   1.3.1\n",
      "v tibble  2.1.1     v purrr   0.3.2\n",
      "v tidyr   0.8.3     v stringr 1.4.0\n",
      "v ggplot2 3.1.1     v forcats 0.4.0\n",
      "-- Conflicts ------------------------------------------ tidyverse_conflicts() --\n",
      "x dplyr::filter() masks stats::filter()\n",
      "x dplyr::lag()    masks stats::lag()\n",
      "Warning message:\n",
      "\"package 'pastecs' was built under R version 3.6.2\"\n",
      "Attaching package: 'pastecs'\n",
      "\n",
      "The following object is masked from 'package:tidyr':\n",
      "\n",
      "    extract\n",
      "\n",
      "The following objects are masked from 'package:dplyr':\n",
      "\n",
      "    first, last\n",
      "\n",
      "Warning message:\n",
      "\"package 'psych' was built under R version 3.6.2\"\n",
      "Attaching package: 'psych'\n",
      "\n",
      "The following objects are masked from 'package:ggplot2':\n",
      "\n",
      "    %+%, alpha\n",
      "\n",
      "Warning message:\n",
      "\"package 'DT' was built under R version 3.6.2\"Warning message:\n",
      "\"package 'corrplot' was built under R version 3.6.2\"corrplot 0.84 loaded\n",
      "Warning message:\n",
      "\"package 'caret' was built under R version 3.6.2\"Loading required package: lattice\n",
      "\n",
      "Attaching package: 'caret'\n",
      "\n",
      "The following object is masked from 'package:purrr':\n",
      "\n",
      "    lift\n",
      "\n",
      "Warning message:\n",
      "\"package 'MLmetrics' was built under R version 3.6.2\"\n",
      "Attaching package: 'MLmetrics'\n",
      "\n",
      "The following objects are masked from 'package:caret':\n",
      "\n",
      "    MAE, RMSE\n",
      "\n",
      "The following object is masked from 'package:psych':\n",
      "\n",
      "    AUC\n",
      "\n",
      "The following object is masked from 'package:base':\n",
      "\n",
      "    Recall\n",
      "\n",
      "Warning message:\n",
      "\"package 'ROCR' was built under R version 3.6.2\"Loading required package: gplots\n",
      "Warning message:\n",
      "\"package 'gplots' was built under R version 3.6.2\"\n",
      "Attaching package: 'gplots'\n",
      "\n",
      "The following object is masked from 'package:stats':\n",
      "\n",
      "    lowess\n",
      "\n"
     ]
    }
   ],
   "source": [
    "library(rpart)\n",
    "library(readxl)\n",
    "library(dplyr)\n",
    "library(tidyverse)\n",
    "library(pastecs)\n",
    "library(psych)\n",
    "library(ggplot2)\n",
    "library(knitr)\n",
    "library(stringr)\n",
    "library(DT)\n",
    "library(corrplot)\n",
    "library(caret)\n",
    "library(MLmetrics)\n",
    "library(ROCR)"
   ]
  },
  {
   "cell_type": "code",
   "execution_count": 3,
   "metadata": {},
   "outputs": [
    {
     "data": {
      "text/html": [
       "<table>\n",
       "<thead><tr><th scope=col>OBS#</th><th scope=col>CHK_ACCT</th><th scope=col>DURATION</th><th scope=col>HISTORY</th><th scope=col>NEW_CAR</th><th scope=col>USED_CAR</th><th scope=col>FURNITURE</th><th scope=col>RADIO/TV</th><th scope=col>EDUCATION</th><th scope=col>RETRAINING</th><th scope=col>...</th><th scope=col>AGE</th><th scope=col>OTHER_INSTALL</th><th scope=col>RENT</th><th scope=col>OWN_RES</th><th scope=col>NUM_CREDITS</th><th scope=col>JOB</th><th scope=col>NUM_DEPENDENTS</th><th scope=col>TELEPHONE</th><th scope=col>FOREIGN</th><th scope=col>RESPONSE</th></tr></thead>\n",
       "<tbody>\n",
       "\t<tr><td> 1 </td><td>0  </td><td> 6 </td><td>4  </td><td>NA </td><td>NA </td><td>NA </td><td> 1 </td><td>NA </td><td>NA </td><td>...</td><td>67 </td><td>0  </td><td>0  </td><td>1  </td><td>2  </td><td>2  </td><td>1  </td><td>1  </td><td>0  </td><td>1  </td></tr>\n",
       "\t<tr><td> 2 </td><td>1  </td><td>48 </td><td>2  </td><td>NA </td><td>NA </td><td>NA </td><td> 1 </td><td>NA </td><td>NA </td><td>...</td><td>22 </td><td>0  </td><td>0  </td><td>1  </td><td>1  </td><td>2  </td><td>1  </td><td>0  </td><td>0  </td><td>0  </td></tr>\n",
       "\t<tr><td> 3 </td><td>3  </td><td>12 </td><td>4  </td><td>NA </td><td>NA </td><td>NA </td><td>NA </td><td> 1 </td><td>NA </td><td>...</td><td>49 </td><td>0  </td><td>0  </td><td>1  </td><td>1  </td><td>1  </td><td>2  </td><td>0  </td><td>0  </td><td>1  </td></tr>\n",
       "\t<tr><td> 4 </td><td>0  </td><td>42 </td><td>2  </td><td>NA </td><td>NA </td><td> 1 </td><td>NA </td><td>NA </td><td>NA </td><td>...</td><td>45 </td><td>0  </td><td>0  </td><td>0  </td><td>1  </td><td>2  </td><td>2  </td><td>0  </td><td>0  </td><td>1  </td></tr>\n",
       "\t<tr><td> 5 </td><td>0  </td><td>24 </td><td>3  </td><td> 1 </td><td>NA </td><td>NA </td><td>NA </td><td>NA </td><td>NA </td><td>...</td><td>53 </td><td>0  </td><td>0  </td><td>0  </td><td>2  </td><td>2  </td><td>2  </td><td>0  </td><td>0  </td><td>0  </td></tr>\n",
       "\t<tr><td> 6 </td><td>3  </td><td>36 </td><td>2  </td><td>NA </td><td>NA </td><td>NA </td><td>NA </td><td> 1 </td><td>NA </td><td>...</td><td>35 </td><td>0  </td><td>0  </td><td>0  </td><td>1  </td><td>1  </td><td>2  </td><td>1  </td><td>0  </td><td>1  </td></tr>\n",
       "\t<tr><td> 7 </td><td>3  </td><td>24 </td><td>2  </td><td>NA </td><td>NA </td><td> 1 </td><td>NA </td><td>NA </td><td>NA </td><td>...</td><td>NA </td><td>0  </td><td>0  </td><td>1  </td><td>1  </td><td>2  </td><td>1  </td><td>0  </td><td>0  </td><td>1  </td></tr>\n",
       "\t<tr><td> 8 </td><td>1  </td><td>36 </td><td>2  </td><td>NA </td><td> 1 </td><td>NA </td><td>NA </td><td>NA </td><td>NA </td><td>...</td><td>35 </td><td>0  </td><td>1  </td><td>0  </td><td>1  </td><td>3  </td><td>1  </td><td>1  </td><td>0  </td><td>1  </td></tr>\n",
       "\t<tr><td> 9 </td><td>3  </td><td>12 </td><td>2  </td><td>NA </td><td>NA </td><td>NA </td><td> 1 </td><td>NA </td><td>NA </td><td>...</td><td>61 </td><td>0  </td><td>0  </td><td>1  </td><td>1  </td><td>1  </td><td>1  </td><td>0  </td><td>0  </td><td>1  </td></tr>\n",
       "\t<tr><td>10 </td><td>1  </td><td>30 </td><td>4  </td><td> 1 </td><td>NA </td><td>NA </td><td>NA </td><td>NA </td><td>NA </td><td>...</td><td>28 </td><td>0  </td><td>0  </td><td>1  </td><td>2  </td><td>3  </td><td>1  </td><td>0  </td><td>0  </td><td>0  </td></tr>\n",
       "\t<tr><td>11 </td><td>1  </td><td>12 </td><td>2  </td><td> 1 </td><td>NA </td><td>NA </td><td>NA </td><td>NA </td><td>NA </td><td>...</td><td>25 </td><td>0  </td><td>1  </td><td>0  </td><td>1  </td><td>2  </td><td>1  </td><td>0  </td><td>0  </td><td>0  </td></tr>\n",
       "\t<tr><td>12 </td><td>0  </td><td>48 </td><td>2  </td><td>NA </td><td>NA </td><td>NA </td><td>NA </td><td>NA </td><td> 1 </td><td>...</td><td>24 </td><td>0  </td><td>1  </td><td>0  </td><td>1  </td><td>2  </td><td>1  </td><td>0  </td><td>0  </td><td>0  </td></tr>\n",
       "\t<tr><td>13 </td><td>1  </td><td>12 </td><td>2  </td><td>NA </td><td>NA </td><td>NA </td><td> 1 </td><td>NA </td><td>NA </td><td>...</td><td>22 </td><td>0  </td><td>0  </td><td>1  </td><td>1  </td><td>2  </td><td>1  </td><td>1  </td><td>0  </td><td>1  </td></tr>\n",
       "\t<tr><td>14 </td><td>0  </td><td>24 </td><td>4  </td><td> 1 </td><td>NA </td><td>NA </td><td>NA </td><td>NA </td><td>NA </td><td>...</td><td>60 </td><td>0  </td><td>0  </td><td>1  </td><td>2  </td><td>1  </td><td>1  </td><td>0  </td><td>0  </td><td>0  </td></tr>\n",
       "\t<tr><td>15 </td><td>0  </td><td>15 </td><td>2  </td><td> 1 </td><td>NA </td><td>NA </td><td>NA </td><td>NA </td><td>NA </td><td>...</td><td>28 </td><td>0  </td><td>1  </td><td>0  </td><td>1  </td><td>2  </td><td>1  </td><td>0  </td><td>0  </td><td>1  </td></tr>\n",
       "\t<tr><td>16 </td><td>0  </td><td>24 </td><td>2  </td><td>NA </td><td>NA </td><td>NA </td><td> 1 </td><td>NA </td><td>NA </td><td>...</td><td>NA </td><td>0  </td><td>0  </td><td>1  </td><td>1  </td><td>1  </td><td>1  </td><td>0  </td><td>0  </td><td>0  </td></tr>\n",
       "\t<tr><td>17 </td><td>3  </td><td>24 </td><td>4  </td><td>NA </td><td>NA </td><td>NA </td><td> 1 </td><td>NA </td><td>NA </td><td>...</td><td>53 </td><td>0  </td><td>0  </td><td>1  </td><td>2  </td><td>2  </td><td>1  </td><td>0  </td><td>0  </td><td>1  </td></tr>\n",
       "\t<tr><td>18 </td><td>0  </td><td>30 </td><td>0  </td><td>NA </td><td>NA </td><td>NA </td><td>NA </td><td>NA </td><td> 1 </td><td>...</td><td>25 </td><td>1  </td><td>0  </td><td>1  </td><td>3  </td><td>2  </td><td>1  </td><td>0  </td><td>0  </td><td>1  </td></tr>\n",
       "\t<tr><td>19 </td><td>1  </td><td>24 </td><td>2  </td><td>NA </td><td> 1 </td><td>NA </td><td>NA </td><td>NA </td><td>NA </td><td>...</td><td>44 </td><td>0  </td><td>0  </td><td>0  </td><td>1  </td><td>3  </td><td>1  </td><td>1  </td><td>0  </td><td>0  </td></tr>\n",
       "\t<tr><td>20 </td><td>3  </td><td>24 </td><td>2  </td><td>NA </td><td>NA </td><td>NA </td><td> 1 </td><td>NA </td><td>NA </td><td>...</td><td>31 </td><td>0  </td><td>0  </td><td>1  </td><td>1  </td><td>2  </td><td>2  </td><td>1  </td><td>0  </td><td>1  </td></tr>\n",
       "\t<tr><td>21 </td><td>3  </td><td> 9 </td><td>4  </td><td> 1 </td><td>NA </td><td>NA </td><td>NA </td><td>NA </td><td>NA </td><td>...</td><td>48 </td><td>0  </td><td>0  </td><td>1  </td><td>3  </td><td>2  </td><td>1  </td><td>1  </td><td>0  </td><td>1  </td></tr>\n",
       "\t<tr><td>22 </td><td>0  </td><td> 6 </td><td>2  </td><td>NA </td><td>NA </td><td>NA </td><td> 1 </td><td>NA </td><td>NA </td><td>...</td><td>44 </td><td>0  </td><td>1  </td><td>0  </td><td>1  </td><td>2  </td><td>2  </td><td>0  </td><td>0  </td><td>1  </td></tr>\n",
       "\t<tr><td>23 </td><td>0  </td><td>10 </td><td>4  </td><td> 1 </td><td>NA </td><td>NA </td><td>NA </td><td>NA </td><td>NA </td><td>...</td><td>48 </td><td>0  </td><td>1  </td><td>0  </td><td>2  </td><td>1  </td><td>2  </td><td>0  </td><td>1  </td><td>1  </td></tr>\n",
       "\t<tr><td>24 </td><td>1  </td><td>12 </td><td>4  </td><td>NA </td><td> 1 </td><td>NA </td><td>NA </td><td>NA </td><td>NA </td><td>...</td><td>NA </td><td>0  </td><td>0  </td><td>1  </td><td>1  </td><td>2  </td><td>1  </td><td>0  </td><td>0  </td><td>1  </td></tr>\n",
       "\t<tr><td>25 </td><td>3  </td><td>10 </td><td>4  </td><td>NA </td><td>NA </td><td> 1 </td><td>NA </td><td>NA </td><td>NA </td><td>...</td><td>26 </td><td>0  </td><td>0  </td><td>1  </td><td>2  </td><td>2  </td><td>1  </td><td>0  </td><td>1  </td><td>1  </td></tr>\n",
       "\t<tr><td>26 </td><td>0  </td><td> 6 </td><td>2  </td><td>NA </td><td>NA </td><td> 1 </td><td>NA </td><td>NA </td><td>NA </td><td>...</td><td>36 </td><td>1  </td><td>0  </td><td>1  </td><td>1  </td><td>1  </td><td>1  </td><td>1  </td><td>0  </td><td>1  </td></tr>\n",
       "\t<tr><td>27 </td><td>3  </td><td> 6 </td><td>0  </td><td>NA </td><td>NA </td><td>NA </td><td> 1 </td><td>NA </td><td>NA </td><td>...</td><td>39 </td><td>0  </td><td>0  </td><td>1  </td><td>1  </td><td>1  </td><td>1  </td><td>0  </td><td>0  </td><td>1  </td></tr>\n",
       "\t<tr><td>28 </td><td>2  </td><td>12 </td><td>1  </td><td>NA </td><td>NA </td><td>NA </td><td> 1 </td><td>NA </td><td>NA </td><td>...</td><td>42 </td><td>0  </td><td>1  </td><td>0  </td><td>2  </td><td>2  </td><td>1  </td><td>0  </td><td>0  </td><td>1  </td></tr>\n",
       "\t<tr><td>29 </td><td>1  </td><td> 7 </td><td>2  </td><td>NA </td><td>NA </td><td>NA </td><td> 1 </td><td>NA </td><td>NA </td><td>...</td><td>34 </td><td>0  </td><td>0  </td><td>1  </td><td>1  </td><td>2  </td><td>1  </td><td>0  </td><td>0  </td><td>1  </td></tr>\n",
       "\t<tr><td>30 </td><td>0  </td><td>60 </td><td>3  </td><td>NA </td><td>NA </td><td>NA </td><td>NA </td><td>NA </td><td> 1 </td><td>...</td><td>63 </td><td>0  </td><td>0  </td><td>1  </td><td>2  </td><td>2  </td><td>1  </td><td>1  </td><td>0  </td><td>0  </td></tr>\n",
       "\t<tr><td>...</td><td>...</td><td>...</td><td>...</td><td>...</td><td>...</td><td>...</td><td>...</td><td>...</td><td>...</td><td>   </td><td>...</td><td>...</td><td>...</td><td>...</td><td>...</td><td>...</td><td>...</td><td>...</td><td>...</td><td>...</td></tr>\n",
       "\t<tr><td> 971</td><td>1   </td><td>15  </td><td>2   </td><td>NA  </td><td>NA  </td><td>NA  </td><td>NA  </td><td>NA  </td><td>NA  </td><td>... </td><td>22  </td><td>0   </td><td>0   </td><td>1   </td><td>1   </td><td>2   </td><td>1   </td><td>0   </td><td>0   </td><td>1   </td></tr>\n",
       "\t<tr><td> 972</td><td>3   </td><td>24  </td><td>2   </td><td> 1  </td><td>NA  </td><td>NA  </td><td>NA  </td><td>NA  </td><td>NA  </td><td>... </td><td>43  </td><td>0   </td><td>0   </td><td>1   </td><td>1   </td><td>1   </td><td>2   </td><td>0   </td><td>0   </td><td>1   </td></tr>\n",
       "\t<tr><td> 973</td><td>0   </td><td>24  </td><td>1   </td><td> 1  </td><td>NA  </td><td>NA  </td><td>NA  </td><td>NA  </td><td>NA  </td><td>... </td><td>29  </td><td>0   </td><td>1   </td><td>0   </td><td>2   </td><td>0   </td><td>1   </td><td>0   </td><td>0   </td><td>0   </td></tr>\n",
       "\t<tr><td> 974</td><td>0   </td><td>60  </td><td>2   </td><td>NA  </td><td>NA  </td><td>NA  </td><td>NA  </td><td>NA  </td><td> 1  </td><td>... </td><td>36  </td><td>0   </td><td>1   </td><td>0   </td><td>1   </td><td>2   </td><td>1   </td><td>0   </td><td>0   </td><td>0   </td></tr>\n",
       "\t<tr><td> 975</td><td>3   </td><td>30  </td><td>4   </td><td>NA  </td><td>NA  </td><td>NA  </td><td> 1  </td><td>NA  </td><td>NA  </td><td>... </td><td>33  </td><td>0   </td><td>0   </td><td>1   </td><td>1   </td><td>2   </td><td>1   </td><td>1   </td><td>0   </td><td>1   </td></tr>\n",
       "\t<tr><td> 976</td><td>2   </td><td>24  </td><td>2   </td><td>NA  </td><td>NA  </td><td>NA  </td><td> 1  </td><td>NA  </td><td>NA  </td><td>... </td><td>57  </td><td>0   </td><td>0   </td><td>1   </td><td>1   </td><td>1   </td><td>1   </td><td>0   </td><td>0   </td><td>1   </td></tr>\n",
       "\t<tr><td> 977</td><td>1   </td><td> 6  </td><td>2   </td><td>NA  </td><td>NA  </td><td>NA  </td><td> 1  </td><td>NA  </td><td>NA  </td><td>... </td><td>64  </td><td>0   </td><td>0   </td><td>1   </td><td>1   </td><td>2   </td><td>1   </td><td>0   </td><td>0   </td><td>1   </td></tr>\n",
       "\t<tr><td> 978</td><td>1   </td><td>18  </td><td>3   </td><td>NA  </td><td>NA  </td><td>NA  </td><td>NA  </td><td>NA  </td><td> 1  </td><td>... </td><td>42  </td><td>0   </td><td>0   </td><td>1   </td><td>2   </td><td>2   </td><td>1   </td><td>0   </td><td>0   </td><td>1   </td></tr>\n",
       "\t<tr><td> 979</td><td>3   </td><td>24  </td><td>3   </td><td> 1  </td><td>NA  </td><td>NA  </td><td>NA  </td><td>NA  </td><td>NA  </td><td>... </td><td>47  </td><td>0   </td><td>0   </td><td>1   </td><td>2   </td><td>1   </td><td>2   </td><td>0   </td><td>0   </td><td>0   </td></tr>\n",
       "\t<tr><td> 980</td><td>1   </td><td>15  </td><td>1   </td><td> 1  </td><td>NA  </td><td>NA  </td><td>NA  </td><td>NA  </td><td>NA  </td><td>... </td><td>25  </td><td>0   </td><td>1   </td><td>0   </td><td>1   </td><td>2   </td><td>1   </td><td>0   </td><td>0   </td><td>0   </td></tr>\n",
       "\t<tr><td> 981</td><td>1   </td><td>30  </td><td>4   </td><td>NA  </td><td>NA  </td><td> 1  </td><td>NA  </td><td>NA  </td><td>NA  </td><td>... </td><td>49  </td><td>0   </td><td>0   </td><td>1   </td><td>1   </td><td>2   </td><td>1   </td><td>0   </td><td>0   </td><td>0   </td></tr>\n",
       "\t<tr><td> 982</td><td>3   </td><td>48  </td><td>2   </td><td>NA  </td><td>NA  </td><td>NA  </td><td>NA  </td><td>NA  </td><td> 1  </td><td>... </td><td>33  </td><td>1   </td><td>1   </td><td>0   </td><td>1   </td><td>3   </td><td>1   </td><td>1   </td><td>0   </td><td>0   </td></tr>\n",
       "\t<tr><td> 983</td><td>2   </td><td>21  </td><td>2   </td><td> 1  </td><td>NA  </td><td>NA  </td><td>NA  </td><td>NA  </td><td>NA  </td><td>... </td><td>28  </td><td>1   </td><td>0   </td><td>1   </td><td>1   </td><td>3   </td><td>1   </td><td>1   </td><td>0   </td><td>1   </td></tr>\n",
       "\t<tr><td> 984</td><td>0   </td><td>36  </td><td>2   </td><td>NA  </td><td> 1  </td><td>NA  </td><td>NA  </td><td>NA  </td><td>NA  </td><td>... </td><td>26  </td><td>0   </td><td>0   </td><td>1   </td><td>1   </td><td>2   </td><td>2   </td><td>0   </td><td>0   </td><td>0   </td></tr>\n",
       "\t<tr><td> 985</td><td>3   </td><td>24  </td><td>4   </td><td>NA  </td><td>NA  </td><td> 1  </td><td>NA  </td><td>NA  </td><td>NA  </td><td>... </td><td>30  </td><td>0   </td><td>0   </td><td>1   </td><td>2   </td><td>1   </td><td>1   </td><td>0   </td><td>0   </td><td>1   </td></tr>\n",
       "\t<tr><td> 986</td><td>0   </td><td>15  </td><td>4   </td><td>NA  </td><td>NA  </td><td> 1  </td><td>NA  </td><td>NA  </td><td>NA  </td><td>... </td><td>25  </td><td>0   </td><td>1   </td><td>0   </td><td>2   </td><td>2   </td><td>1   </td><td>0   </td><td>0   </td><td>1   </td></tr>\n",
       "\t<tr><td> 987</td><td>2   </td><td>42  </td><td>0   </td><td>NA  </td><td>NA  </td><td>NA  </td><td>NA  </td><td>NA  </td><td> 1  </td><td>... </td><td>33  </td><td>0   </td><td>0   </td><td>1   </td><td>2   </td><td>2   </td><td>1   </td><td>0   </td><td>0   </td><td>1   </td></tr>\n",
       "\t<tr><td> 988</td><td>3   </td><td>13  </td><td>2   </td><td>NA  </td><td>NA  </td><td>NA  </td><td> 1  </td><td>NA  </td><td>NA  </td><td>... </td><td>64  </td><td>0   </td><td>0   </td><td>1   </td><td>1   </td><td>2   </td><td>1   </td><td>0   </td><td>0   </td><td>1   </td></tr>\n",
       "\t<tr><td> 989</td><td>0   </td><td>24  </td><td>2   </td><td>NA  </td><td> 1  </td><td>NA  </td><td>NA  </td><td>NA  </td><td>NA  </td><td>... </td><td>29  </td><td>0   </td><td>0   </td><td>0   </td><td>1   </td><td>3   </td><td>1   </td><td>1   </td><td>0   </td><td>1   </td></tr>\n",
       "\t<tr><td> 990</td><td>1   </td><td>24  </td><td>4   </td><td>NA  </td><td>NA  </td><td>NA  </td><td> 1  </td><td>NA  </td><td>NA  </td><td>... </td><td>48  </td><td>0   </td><td>0   </td><td>1   </td><td>2   </td><td>1   </td><td>1   </td><td>0   </td><td>0   </td><td>1   </td></tr>\n",
       "\t<tr><td> 991</td><td>3   </td><td>12  </td><td>4   </td><td>NA  </td><td>NA  </td><td>NA  </td><td>NA  </td><td> 1  </td><td>NA  </td><td>... </td><td>37  </td><td>0   </td><td>0   </td><td>1   </td><td>2   </td><td>1   </td><td>2   </td><td>0   </td><td>0   </td><td>1   </td></tr>\n",
       "\t<tr><td> 992</td><td>3   </td><td>15  </td><td>1   </td><td>NA  </td><td>NA  </td><td>NA  </td><td> 1  </td><td>NA  </td><td>NA  </td><td>... </td><td>34  </td><td>1   </td><td>0   </td><td>1   </td><td>1   </td><td>1   </td><td>2   </td><td>0   </td><td>0   </td><td>1   </td></tr>\n",
       "\t<tr><td> 993</td><td>0   </td><td>18  </td><td>2   </td><td>NA  </td><td>NA  </td><td>NA  </td><td> 1  </td><td>NA  </td><td>NA  </td><td>... </td><td>23  </td><td>0   </td><td>1   </td><td>0   </td><td>2   </td><td>1   </td><td>1   </td><td>0   </td><td>0   </td><td>1   </td></tr>\n",
       "\t<tr><td> 994</td><td>0   </td><td>36  </td><td>2   </td><td>NA  </td><td>NA  </td><td> 1  </td><td>NA  </td><td>NA  </td><td>NA  </td><td>... </td><td>30  </td><td>0   </td><td>0   </td><td>1   </td><td>1   </td><td>3   </td><td>1   </td><td>1   </td><td>0   </td><td>1   </td></tr>\n",
       "\t<tr><td> 995</td><td>3   </td><td>12  </td><td>2   </td><td> 1  </td><td>NA  </td><td>NA  </td><td>NA  </td><td>NA  </td><td>NA  </td><td>... </td><td>50  </td><td>0   </td><td>0   </td><td>1   </td><td>1   </td><td>2   </td><td>1   </td><td>1   </td><td>0   </td><td>1   </td></tr>\n",
       "\t<tr><td> 996</td><td>3   </td><td>12  </td><td>2   </td><td>NA  </td><td>NA  </td><td> 1  </td><td>NA  </td><td>NA  </td><td>NA  </td><td>... </td><td>31  </td><td>0   </td><td>0   </td><td>1   </td><td>1   </td><td>1   </td><td>1   </td><td>0   </td><td>0   </td><td>1   </td></tr>\n",
       "\t<tr><td> 997</td><td>0   </td><td>30  </td><td>2   </td><td>NA  </td><td> 1  </td><td>NA  </td><td>NA  </td><td>NA  </td><td>NA  </td><td>... </td><td>40  </td><td>0   </td><td>0   </td><td>1   </td><td>1   </td><td>3   </td><td>1   </td><td>1   </td><td>0   </td><td>1   </td></tr>\n",
       "\t<tr><td> 998</td><td>3   </td><td>12  </td><td>2   </td><td>NA  </td><td>NA  </td><td>NA  </td><td> 1  </td><td>NA  </td><td>NA  </td><td>... </td><td>38  </td><td>0   </td><td>0   </td><td>1   </td><td>1   </td><td>2   </td><td>1   </td><td>0   </td><td>0   </td><td>1   </td></tr>\n",
       "\t<tr><td> 999</td><td>0   </td><td>45  </td><td>2   </td><td>NA  </td><td>NA  </td><td>NA  </td><td> 1  </td><td>NA  </td><td>NA  </td><td>... </td><td>23  </td><td>0   </td><td>0   </td><td>0   </td><td>1   </td><td>2   </td><td>1   </td><td>1   </td><td>0   </td><td>0   </td></tr>\n",
       "\t<tr><td>1000</td><td>1   </td><td>45  </td><td>4   </td><td>NA  </td><td> 1  </td><td>NA  </td><td>NA  </td><td>NA  </td><td>NA  </td><td>... </td><td>27  </td><td>0   </td><td>0   </td><td>1   </td><td>1   </td><td>2   </td><td>1   </td><td>0   </td><td>0   </td><td>1   </td></tr>\n",
       "</tbody>\n",
       "</table>\n"
      ],
      "text/latex": [
       "\\begin{tabular}{r|llllllllllllllllllllllllllllllll}\n",
       " OBS\\# & CHK\\_ACCT & DURATION & HISTORY & NEW\\_CAR & USED\\_CAR & FURNITURE & RADIO/TV & EDUCATION & RETRAINING & ... & AGE & OTHER\\_INSTALL & RENT & OWN\\_RES & NUM\\_CREDITS & JOB & NUM\\_DEPENDENTS & TELEPHONE & FOREIGN & RESPONSE\\\\\n",
       "\\hline\n",
       "\t  1  & 0   &  6  & 4   & NA  & NA  & NA  &  1  & NA  & NA  & ... & 67  & 0   & 0   & 1   & 2   & 2   & 1   & 1   & 0   & 1  \\\\\n",
       "\t  2  & 1   & 48  & 2   & NA  & NA  & NA  &  1  & NA  & NA  & ... & 22  & 0   & 0   & 1   & 1   & 2   & 1   & 0   & 0   & 0  \\\\\n",
       "\t  3  & 3   & 12  & 4   & NA  & NA  & NA  & NA  &  1  & NA  & ... & 49  & 0   & 0   & 1   & 1   & 1   & 2   & 0   & 0   & 1  \\\\\n",
       "\t  4  & 0   & 42  & 2   & NA  & NA  &  1  & NA  & NA  & NA  & ... & 45  & 0   & 0   & 0   & 1   & 2   & 2   & 0   & 0   & 1  \\\\\n",
       "\t  5  & 0   & 24  & 3   &  1  & NA  & NA  & NA  & NA  & NA  & ... & 53  & 0   & 0   & 0   & 2   & 2   & 2   & 0   & 0   & 0  \\\\\n",
       "\t  6  & 3   & 36  & 2   & NA  & NA  & NA  & NA  &  1  & NA  & ... & 35  & 0   & 0   & 0   & 1   & 1   & 2   & 1   & 0   & 1  \\\\\n",
       "\t  7  & 3   & 24  & 2   & NA  & NA  &  1  & NA  & NA  & NA  & ... & NA  & 0   & 0   & 1   & 1   & 2   & 1   & 0   & 0   & 1  \\\\\n",
       "\t  8  & 1   & 36  & 2   & NA  &  1  & NA  & NA  & NA  & NA  & ... & 35  & 0   & 1   & 0   & 1   & 3   & 1   & 1   & 0   & 1  \\\\\n",
       "\t  9  & 3   & 12  & 2   & NA  & NA  & NA  &  1  & NA  & NA  & ... & 61  & 0   & 0   & 1   & 1   & 1   & 1   & 0   & 0   & 1  \\\\\n",
       "\t 10  & 1   & 30  & 4   &  1  & NA  & NA  & NA  & NA  & NA  & ... & 28  & 0   & 0   & 1   & 2   & 3   & 1   & 0   & 0   & 0  \\\\\n",
       "\t 11  & 1   & 12  & 2   &  1  & NA  & NA  & NA  & NA  & NA  & ... & 25  & 0   & 1   & 0   & 1   & 2   & 1   & 0   & 0   & 0  \\\\\n",
       "\t 12  & 0   & 48  & 2   & NA  & NA  & NA  & NA  & NA  &  1  & ... & 24  & 0   & 1   & 0   & 1   & 2   & 1   & 0   & 0   & 0  \\\\\n",
       "\t 13  & 1   & 12  & 2   & NA  & NA  & NA  &  1  & NA  & NA  & ... & 22  & 0   & 0   & 1   & 1   & 2   & 1   & 1   & 0   & 1  \\\\\n",
       "\t 14  & 0   & 24  & 4   &  1  & NA  & NA  & NA  & NA  & NA  & ... & 60  & 0   & 0   & 1   & 2   & 1   & 1   & 0   & 0   & 0  \\\\\n",
       "\t 15  & 0   & 15  & 2   &  1  & NA  & NA  & NA  & NA  & NA  & ... & 28  & 0   & 1   & 0   & 1   & 2   & 1   & 0   & 0   & 1  \\\\\n",
       "\t 16  & 0   & 24  & 2   & NA  & NA  & NA  &  1  & NA  & NA  & ... & NA  & 0   & 0   & 1   & 1   & 1   & 1   & 0   & 0   & 0  \\\\\n",
       "\t 17  & 3   & 24  & 4   & NA  & NA  & NA  &  1  & NA  & NA  & ... & 53  & 0   & 0   & 1   & 2   & 2   & 1   & 0   & 0   & 1  \\\\\n",
       "\t 18  & 0   & 30  & 0   & NA  & NA  & NA  & NA  & NA  &  1  & ... & 25  & 1   & 0   & 1   & 3   & 2   & 1   & 0   & 0   & 1  \\\\\n",
       "\t 19  & 1   & 24  & 2   & NA  &  1  & NA  & NA  & NA  & NA  & ... & 44  & 0   & 0   & 0   & 1   & 3   & 1   & 1   & 0   & 0  \\\\\n",
       "\t 20  & 3   & 24  & 2   & NA  & NA  & NA  &  1  & NA  & NA  & ... & 31  & 0   & 0   & 1   & 1   & 2   & 2   & 1   & 0   & 1  \\\\\n",
       "\t 21  & 3   &  9  & 4   &  1  & NA  & NA  & NA  & NA  & NA  & ... & 48  & 0   & 0   & 1   & 3   & 2   & 1   & 1   & 0   & 1  \\\\\n",
       "\t 22  & 0   &  6  & 2   & NA  & NA  & NA  &  1  & NA  & NA  & ... & 44  & 0   & 1   & 0   & 1   & 2   & 2   & 0   & 0   & 1  \\\\\n",
       "\t 23  & 0   & 10  & 4   &  1  & NA  & NA  & NA  & NA  & NA  & ... & 48  & 0   & 1   & 0   & 2   & 1   & 2   & 0   & 1   & 1  \\\\\n",
       "\t 24  & 1   & 12  & 4   & NA  &  1  & NA  & NA  & NA  & NA  & ... & NA  & 0   & 0   & 1   & 1   & 2   & 1   & 0   & 0   & 1  \\\\\n",
       "\t 25  & 3   & 10  & 4   & NA  & NA  &  1  & NA  & NA  & NA  & ... & 26  & 0   & 0   & 1   & 2   & 2   & 1   & 0   & 1   & 1  \\\\\n",
       "\t 26  & 0   &  6  & 2   & NA  & NA  &  1  & NA  & NA  & NA  & ... & 36  & 1   & 0   & 1   & 1   & 1   & 1   & 1   & 0   & 1  \\\\\n",
       "\t 27  & 3   &  6  & 0   & NA  & NA  & NA  &  1  & NA  & NA  & ... & 39  & 0   & 0   & 1   & 1   & 1   & 1   & 0   & 0   & 1  \\\\\n",
       "\t 28  & 2   & 12  & 1   & NA  & NA  & NA  &  1  & NA  & NA  & ... & 42  & 0   & 1   & 0   & 2   & 2   & 1   & 0   & 0   & 1  \\\\\n",
       "\t 29  & 1   &  7  & 2   & NA  & NA  & NA  &  1  & NA  & NA  & ... & 34  & 0   & 0   & 1   & 1   & 2   & 1   & 0   & 0   & 1  \\\\\n",
       "\t 30  & 0   & 60  & 3   & NA  & NA  & NA  & NA  & NA  &  1  & ... & 63  & 0   & 0   & 1   & 2   & 2   & 1   & 1   & 0   & 0  \\\\\n",
       "\t ... & ... & ... & ... & ... & ... & ... & ... & ... & ... &     & ... & ... & ... & ... & ... & ... & ... & ... & ... & ...\\\\\n",
       "\t  971 & 1    & 15   & 2    & NA   & NA   & NA   & NA   & NA   & NA   & ...  & 22   & 0    & 0    & 1    & 1    & 2    & 1    & 0    & 0    & 1   \\\\\n",
       "\t  972 & 3    & 24   & 2    &  1   & NA   & NA   & NA   & NA   & NA   & ...  & 43   & 0    & 0    & 1    & 1    & 1    & 2    & 0    & 0    & 1   \\\\\n",
       "\t  973 & 0    & 24   & 1    &  1   & NA   & NA   & NA   & NA   & NA   & ...  & 29   & 0    & 1    & 0    & 2    & 0    & 1    & 0    & 0    & 0   \\\\\n",
       "\t  974 & 0    & 60   & 2    & NA   & NA   & NA   & NA   & NA   &  1   & ...  & 36   & 0    & 1    & 0    & 1    & 2    & 1    & 0    & 0    & 0   \\\\\n",
       "\t  975 & 3    & 30   & 4    & NA   & NA   & NA   &  1   & NA   & NA   & ...  & 33   & 0    & 0    & 1    & 1    & 2    & 1    & 1    & 0    & 1   \\\\\n",
       "\t  976 & 2    & 24   & 2    & NA   & NA   & NA   &  1   & NA   & NA   & ...  & 57   & 0    & 0    & 1    & 1    & 1    & 1    & 0    & 0    & 1   \\\\\n",
       "\t  977 & 1    &  6   & 2    & NA   & NA   & NA   &  1   & NA   & NA   & ...  & 64   & 0    & 0    & 1    & 1    & 2    & 1    & 0    & 0    & 1   \\\\\n",
       "\t  978 & 1    & 18   & 3    & NA   & NA   & NA   & NA   & NA   &  1   & ...  & 42   & 0    & 0    & 1    & 2    & 2    & 1    & 0    & 0    & 1   \\\\\n",
       "\t  979 & 3    & 24   & 3    &  1   & NA   & NA   & NA   & NA   & NA   & ...  & 47   & 0    & 0    & 1    & 2    & 1    & 2    & 0    & 0    & 0   \\\\\n",
       "\t  980 & 1    & 15   & 1    &  1   & NA   & NA   & NA   & NA   & NA   & ...  & 25   & 0    & 1    & 0    & 1    & 2    & 1    & 0    & 0    & 0   \\\\\n",
       "\t  981 & 1    & 30   & 4    & NA   & NA   &  1   & NA   & NA   & NA   & ...  & 49   & 0    & 0    & 1    & 1    & 2    & 1    & 0    & 0    & 0   \\\\\n",
       "\t  982 & 3    & 48   & 2    & NA   & NA   & NA   & NA   & NA   &  1   & ...  & 33   & 1    & 1    & 0    & 1    & 3    & 1    & 1    & 0    & 0   \\\\\n",
       "\t  983 & 2    & 21   & 2    &  1   & NA   & NA   & NA   & NA   & NA   & ...  & 28   & 1    & 0    & 1    & 1    & 3    & 1    & 1    & 0    & 1   \\\\\n",
       "\t  984 & 0    & 36   & 2    & NA   &  1   & NA   & NA   & NA   & NA   & ...  & 26   & 0    & 0    & 1    & 1    & 2    & 2    & 0    & 0    & 0   \\\\\n",
       "\t  985 & 3    & 24   & 4    & NA   & NA   &  1   & NA   & NA   & NA   & ...  & 30   & 0    & 0    & 1    & 2    & 1    & 1    & 0    & 0    & 1   \\\\\n",
       "\t  986 & 0    & 15   & 4    & NA   & NA   &  1   & NA   & NA   & NA   & ...  & 25   & 0    & 1    & 0    & 2    & 2    & 1    & 0    & 0    & 1   \\\\\n",
       "\t  987 & 2    & 42   & 0    & NA   & NA   & NA   & NA   & NA   &  1   & ...  & 33   & 0    & 0    & 1    & 2    & 2    & 1    & 0    & 0    & 1   \\\\\n",
       "\t  988 & 3    & 13   & 2    & NA   & NA   & NA   &  1   & NA   & NA   & ...  & 64   & 0    & 0    & 1    & 1    & 2    & 1    & 0    & 0    & 1   \\\\\n",
       "\t  989 & 0    & 24   & 2    & NA   &  1   & NA   & NA   & NA   & NA   & ...  & 29   & 0    & 0    & 0    & 1    & 3    & 1    & 1    & 0    & 1   \\\\\n",
       "\t  990 & 1    & 24   & 4    & NA   & NA   & NA   &  1   & NA   & NA   & ...  & 48   & 0    & 0    & 1    & 2    & 1    & 1    & 0    & 0    & 1   \\\\\n",
       "\t  991 & 3    & 12   & 4    & NA   & NA   & NA   & NA   &  1   & NA   & ...  & 37   & 0    & 0    & 1    & 2    & 1    & 2    & 0    & 0    & 1   \\\\\n",
       "\t  992 & 3    & 15   & 1    & NA   & NA   & NA   &  1   & NA   & NA   & ...  & 34   & 1    & 0    & 1    & 1    & 1    & 2    & 0    & 0    & 1   \\\\\n",
       "\t  993 & 0    & 18   & 2    & NA   & NA   & NA   &  1   & NA   & NA   & ...  & 23   & 0    & 1    & 0    & 2    & 1    & 1    & 0    & 0    & 1   \\\\\n",
       "\t  994 & 0    & 36   & 2    & NA   & NA   &  1   & NA   & NA   & NA   & ...  & 30   & 0    & 0    & 1    & 1    & 3    & 1    & 1    & 0    & 1   \\\\\n",
       "\t  995 & 3    & 12   & 2    &  1   & NA   & NA   & NA   & NA   & NA   & ...  & 50   & 0    & 0    & 1    & 1    & 2    & 1    & 1    & 0    & 1   \\\\\n",
       "\t  996 & 3    & 12   & 2    & NA   & NA   &  1   & NA   & NA   & NA   & ...  & 31   & 0    & 0    & 1    & 1    & 1    & 1    & 0    & 0    & 1   \\\\\n",
       "\t  997 & 0    & 30   & 2    & NA   &  1   & NA   & NA   & NA   & NA   & ...  & 40   & 0    & 0    & 1    & 1    & 3    & 1    & 1    & 0    & 1   \\\\\n",
       "\t  998 & 3    & 12   & 2    & NA   & NA   & NA   &  1   & NA   & NA   & ...  & 38   & 0    & 0    & 1    & 1    & 2    & 1    & 0    & 0    & 1   \\\\\n",
       "\t  999 & 0    & 45   & 2    & NA   & NA   & NA   &  1   & NA   & NA   & ...  & 23   & 0    & 0    & 0    & 1    & 2    & 1    & 1    & 0    & 0   \\\\\n",
       "\t 1000 & 1    & 45   & 4    & NA   &  1   & NA   & NA   & NA   & NA   & ...  & 27   & 0    & 0    & 1    & 1    & 2    & 1    & 0    & 0    & 1   \\\\\n",
       "\\end{tabular}\n"
      ],
      "text/markdown": [
       "\n",
       "| OBS# | CHK_ACCT | DURATION | HISTORY | NEW_CAR | USED_CAR | FURNITURE | RADIO/TV | EDUCATION | RETRAINING | ... | AGE | OTHER_INSTALL | RENT | OWN_RES | NUM_CREDITS | JOB | NUM_DEPENDENTS | TELEPHONE | FOREIGN | RESPONSE |\n",
       "|---|---|---|---|---|---|---|---|---|---|---|---|---|---|---|---|---|---|---|---|---|\n",
       "|  1  | 0   |  6  | 4   | NA  | NA  | NA  |  1  | NA  | NA  | ... | 67  | 0   | 0   | 1   | 2   | 2   | 1   | 1   | 0   | 1   |\n",
       "|  2  | 1   | 48  | 2   | NA  | NA  | NA  |  1  | NA  | NA  | ... | 22  | 0   | 0   | 1   | 1   | 2   | 1   | 0   | 0   | 0   |\n",
       "|  3  | 3   | 12  | 4   | NA  | NA  | NA  | NA  |  1  | NA  | ... | 49  | 0   | 0   | 1   | 1   | 1   | 2   | 0   | 0   | 1   |\n",
       "|  4  | 0   | 42  | 2   | NA  | NA  |  1  | NA  | NA  | NA  | ... | 45  | 0   | 0   | 0   | 1   | 2   | 2   | 0   | 0   | 1   |\n",
       "|  5  | 0   | 24  | 3   |  1  | NA  | NA  | NA  | NA  | NA  | ... | 53  | 0   | 0   | 0   | 2   | 2   | 2   | 0   | 0   | 0   |\n",
       "|  6  | 3   | 36  | 2   | NA  | NA  | NA  | NA  |  1  | NA  | ... | 35  | 0   | 0   | 0   | 1   | 1   | 2   | 1   | 0   | 1   |\n",
       "|  7  | 3   | 24  | 2   | NA  | NA  |  1  | NA  | NA  | NA  | ... | NA  | 0   | 0   | 1   | 1   | 2   | 1   | 0   | 0   | 1   |\n",
       "|  8  | 1   | 36  | 2   | NA  |  1  | NA  | NA  | NA  | NA  | ... | 35  | 0   | 1   | 0   | 1   | 3   | 1   | 1   | 0   | 1   |\n",
       "|  9  | 3   | 12  | 2   | NA  | NA  | NA  |  1  | NA  | NA  | ... | 61  | 0   | 0   | 1   | 1   | 1   | 1   | 0   | 0   | 1   |\n",
       "| 10  | 1   | 30  | 4   |  1  | NA  | NA  | NA  | NA  | NA  | ... | 28  | 0   | 0   | 1   | 2   | 3   | 1   | 0   | 0   | 0   |\n",
       "| 11  | 1   | 12  | 2   |  1  | NA  | NA  | NA  | NA  | NA  | ... | 25  | 0   | 1   | 0   | 1   | 2   | 1   | 0   | 0   | 0   |\n",
       "| 12  | 0   | 48  | 2   | NA  | NA  | NA  | NA  | NA  |  1  | ... | 24  | 0   | 1   | 0   | 1   | 2   | 1   | 0   | 0   | 0   |\n",
       "| 13  | 1   | 12  | 2   | NA  | NA  | NA  |  1  | NA  | NA  | ... | 22  | 0   | 0   | 1   | 1   | 2   | 1   | 1   | 0   | 1   |\n",
       "| 14  | 0   | 24  | 4   |  1  | NA  | NA  | NA  | NA  | NA  | ... | 60  | 0   | 0   | 1   | 2   | 1   | 1   | 0   | 0   | 0   |\n",
       "| 15  | 0   | 15  | 2   |  1  | NA  | NA  | NA  | NA  | NA  | ... | 28  | 0   | 1   | 0   | 1   | 2   | 1   | 0   | 0   | 1   |\n",
       "| 16  | 0   | 24  | 2   | NA  | NA  | NA  |  1  | NA  | NA  | ... | NA  | 0   | 0   | 1   | 1   | 1   | 1   | 0   | 0   | 0   |\n",
       "| 17  | 3   | 24  | 4   | NA  | NA  | NA  |  1  | NA  | NA  | ... | 53  | 0   | 0   | 1   | 2   | 2   | 1   | 0   | 0   | 1   |\n",
       "| 18  | 0   | 30  | 0   | NA  | NA  | NA  | NA  | NA  |  1  | ... | 25  | 1   | 0   | 1   | 3   | 2   | 1   | 0   | 0   | 1   |\n",
       "| 19  | 1   | 24  | 2   | NA  |  1  | NA  | NA  | NA  | NA  | ... | 44  | 0   | 0   | 0   | 1   | 3   | 1   | 1   | 0   | 0   |\n",
       "| 20  | 3   | 24  | 2   | NA  | NA  | NA  |  1  | NA  | NA  | ... | 31  | 0   | 0   | 1   | 1   | 2   | 2   | 1   | 0   | 1   |\n",
       "| 21  | 3   |  9  | 4   |  1  | NA  | NA  | NA  | NA  | NA  | ... | 48  | 0   | 0   | 1   | 3   | 2   | 1   | 1   | 0   | 1   |\n",
       "| 22  | 0   |  6  | 2   | NA  | NA  | NA  |  1  | NA  | NA  | ... | 44  | 0   | 1   | 0   | 1   | 2   | 2   | 0   | 0   | 1   |\n",
       "| 23  | 0   | 10  | 4   |  1  | NA  | NA  | NA  | NA  | NA  | ... | 48  | 0   | 1   | 0   | 2   | 1   | 2   | 0   | 1   | 1   |\n",
       "| 24  | 1   | 12  | 4   | NA  |  1  | NA  | NA  | NA  | NA  | ... | NA  | 0   | 0   | 1   | 1   | 2   | 1   | 0   | 0   | 1   |\n",
       "| 25  | 3   | 10  | 4   | NA  | NA  |  1  | NA  | NA  | NA  | ... | 26  | 0   | 0   | 1   | 2   | 2   | 1   | 0   | 1   | 1   |\n",
       "| 26  | 0   |  6  | 2   | NA  | NA  |  1  | NA  | NA  | NA  | ... | 36  | 1   | 0   | 1   | 1   | 1   | 1   | 1   | 0   | 1   |\n",
       "| 27  | 3   |  6  | 0   | NA  | NA  | NA  |  1  | NA  | NA  | ... | 39  | 0   | 0   | 1   | 1   | 1   | 1   | 0   | 0   | 1   |\n",
       "| 28  | 2   | 12  | 1   | NA  | NA  | NA  |  1  | NA  | NA  | ... | 42  | 0   | 1   | 0   | 2   | 2   | 1   | 0   | 0   | 1   |\n",
       "| 29  | 1   |  7  | 2   | NA  | NA  | NA  |  1  | NA  | NA  | ... | 34  | 0   | 0   | 1   | 1   | 2   | 1   | 0   | 0   | 1   |\n",
       "| 30  | 0   | 60  | 3   | NA  | NA  | NA  | NA  | NA  |  1  | ... | 63  | 0   | 0   | 1   | 2   | 2   | 1   | 1   | 0   | 0   |\n",
       "| ... | ... | ... | ... | ... | ... | ... | ... | ... | ... |     | ... | ... | ... | ... | ... | ... | ... | ... | ... | ... |\n",
       "|  971 | 1    | 15   | 2    | NA   | NA   | NA   | NA   | NA   | NA   | ...  | 22   | 0    | 0    | 1    | 1    | 2    | 1    | 0    | 0    | 1    |\n",
       "|  972 | 3    | 24   | 2    |  1   | NA   | NA   | NA   | NA   | NA   | ...  | 43   | 0    | 0    | 1    | 1    | 1    | 2    | 0    | 0    | 1    |\n",
       "|  973 | 0    | 24   | 1    |  1   | NA   | NA   | NA   | NA   | NA   | ...  | 29   | 0    | 1    | 0    | 2    | 0    | 1    | 0    | 0    | 0    |\n",
       "|  974 | 0    | 60   | 2    | NA   | NA   | NA   | NA   | NA   |  1   | ...  | 36   | 0    | 1    | 0    | 1    | 2    | 1    | 0    | 0    | 0    |\n",
       "|  975 | 3    | 30   | 4    | NA   | NA   | NA   |  1   | NA   | NA   | ...  | 33   | 0    | 0    | 1    | 1    | 2    | 1    | 1    | 0    | 1    |\n",
       "|  976 | 2    | 24   | 2    | NA   | NA   | NA   |  1   | NA   | NA   | ...  | 57   | 0    | 0    | 1    | 1    | 1    | 1    | 0    | 0    | 1    |\n",
       "|  977 | 1    |  6   | 2    | NA   | NA   | NA   |  1   | NA   | NA   | ...  | 64   | 0    | 0    | 1    | 1    | 2    | 1    | 0    | 0    | 1    |\n",
       "|  978 | 1    | 18   | 3    | NA   | NA   | NA   | NA   | NA   |  1   | ...  | 42   | 0    | 0    | 1    | 2    | 2    | 1    | 0    | 0    | 1    |\n",
       "|  979 | 3    | 24   | 3    |  1   | NA   | NA   | NA   | NA   | NA   | ...  | 47   | 0    | 0    | 1    | 2    | 1    | 2    | 0    | 0    | 0    |\n",
       "|  980 | 1    | 15   | 1    |  1   | NA   | NA   | NA   | NA   | NA   | ...  | 25   | 0    | 1    | 0    | 1    | 2    | 1    | 0    | 0    | 0    |\n",
       "|  981 | 1    | 30   | 4    | NA   | NA   |  1   | NA   | NA   | NA   | ...  | 49   | 0    | 0    | 1    | 1    | 2    | 1    | 0    | 0    | 0    |\n",
       "|  982 | 3    | 48   | 2    | NA   | NA   | NA   | NA   | NA   |  1   | ...  | 33   | 1    | 1    | 0    | 1    | 3    | 1    | 1    | 0    | 0    |\n",
       "|  983 | 2    | 21   | 2    |  1   | NA   | NA   | NA   | NA   | NA   | ...  | 28   | 1    | 0    | 1    | 1    | 3    | 1    | 1    | 0    | 1    |\n",
       "|  984 | 0    | 36   | 2    | NA   |  1   | NA   | NA   | NA   | NA   | ...  | 26   | 0    | 0    | 1    | 1    | 2    | 2    | 0    | 0    | 0    |\n",
       "|  985 | 3    | 24   | 4    | NA   | NA   |  1   | NA   | NA   | NA   | ...  | 30   | 0    | 0    | 1    | 2    | 1    | 1    | 0    | 0    | 1    |\n",
       "|  986 | 0    | 15   | 4    | NA   | NA   |  1   | NA   | NA   | NA   | ...  | 25   | 0    | 1    | 0    | 2    | 2    | 1    | 0    | 0    | 1    |\n",
       "|  987 | 2    | 42   | 0    | NA   | NA   | NA   | NA   | NA   |  1   | ...  | 33   | 0    | 0    | 1    | 2    | 2    | 1    | 0    | 0    | 1    |\n",
       "|  988 | 3    | 13   | 2    | NA   | NA   | NA   |  1   | NA   | NA   | ...  | 64   | 0    | 0    | 1    | 1    | 2    | 1    | 0    | 0    | 1    |\n",
       "|  989 | 0    | 24   | 2    | NA   |  1   | NA   | NA   | NA   | NA   | ...  | 29   | 0    | 0    | 0    | 1    | 3    | 1    | 1    | 0    | 1    |\n",
       "|  990 | 1    | 24   | 4    | NA   | NA   | NA   |  1   | NA   | NA   | ...  | 48   | 0    | 0    | 1    | 2    | 1    | 1    | 0    | 0    | 1    |\n",
       "|  991 | 3    | 12   | 4    | NA   | NA   | NA   | NA   |  1   | NA   | ...  | 37   | 0    | 0    | 1    | 2    | 1    | 2    | 0    | 0    | 1    |\n",
       "|  992 | 3    | 15   | 1    | NA   | NA   | NA   |  1   | NA   | NA   | ...  | 34   | 1    | 0    | 1    | 1    | 1    | 2    | 0    | 0    | 1    |\n",
       "|  993 | 0    | 18   | 2    | NA   | NA   | NA   |  1   | NA   | NA   | ...  | 23   | 0    | 1    | 0    | 2    | 1    | 1    | 0    | 0    | 1    |\n",
       "|  994 | 0    | 36   | 2    | NA   | NA   |  1   | NA   | NA   | NA   | ...  | 30   | 0    | 0    | 1    | 1    | 3    | 1    | 1    | 0    | 1    |\n",
       "|  995 | 3    | 12   | 2    |  1   | NA   | NA   | NA   | NA   | NA   | ...  | 50   | 0    | 0    | 1    | 1    | 2    | 1    | 1    | 0    | 1    |\n",
       "|  996 | 3    | 12   | 2    | NA   | NA   |  1   | NA   | NA   | NA   | ...  | 31   | 0    | 0    | 1    | 1    | 1    | 1    | 0    | 0    | 1    |\n",
       "|  997 | 0    | 30   | 2    | NA   |  1   | NA   | NA   | NA   | NA   | ...  | 40   | 0    | 0    | 1    | 1    | 3    | 1    | 1    | 0    | 1    |\n",
       "|  998 | 3    | 12   | 2    | NA   | NA   | NA   |  1   | NA   | NA   | ...  | 38   | 0    | 0    | 1    | 1    | 2    | 1    | 0    | 0    | 1    |\n",
       "|  999 | 0    | 45   | 2    | NA   | NA   | NA   |  1   | NA   | NA   | ...  | 23   | 0    | 0    | 0    | 1    | 2    | 1    | 1    | 0    | 0    |\n",
       "| 1000 | 1    | 45   | 4    | NA   |  1   | NA   | NA   | NA   | NA   | ...  | 27   | 0    | 0    | 1    | 1    | 2    | 1    | 0    | 0    | 1    |\n",
       "\n"
      ],
      "text/plain": [
       "     OBS# CHK_ACCT DURATION HISTORY NEW_CAR USED_CAR FURNITURE RADIO/TV\n",
       "1     1   0         6       4       NA      NA       NA         1      \n",
       "2     2   1        48       2       NA      NA       NA         1      \n",
       "3     3   3        12       4       NA      NA       NA        NA      \n",
       "4     4   0        42       2       NA      NA        1        NA      \n",
       "5     5   0        24       3        1      NA       NA        NA      \n",
       "6     6   3        36       2       NA      NA       NA        NA      \n",
       "7     7   3        24       2       NA      NA        1        NA      \n",
       "8     8   1        36       2       NA       1       NA        NA      \n",
       "9     9   3        12       2       NA      NA       NA         1      \n",
       "10   10   1        30       4        1      NA       NA        NA      \n",
       "11   11   1        12       2        1      NA       NA        NA      \n",
       "12   12   0        48       2       NA      NA       NA        NA      \n",
       "13   13   1        12       2       NA      NA       NA         1      \n",
       "14   14   0        24       4        1      NA       NA        NA      \n",
       "15   15   0        15       2        1      NA       NA        NA      \n",
       "16   16   0        24       2       NA      NA       NA         1      \n",
       "17   17   3        24       4       NA      NA       NA         1      \n",
       "18   18   0        30       0       NA      NA       NA        NA      \n",
       "19   19   1        24       2       NA       1       NA        NA      \n",
       "20   20   3        24       2       NA      NA       NA         1      \n",
       "21   21   3         9       4        1      NA       NA        NA      \n",
       "22   22   0         6       2       NA      NA       NA         1      \n",
       "23   23   0        10       4        1      NA       NA        NA      \n",
       "24   24   1        12       4       NA       1       NA        NA      \n",
       "25   25   3        10       4       NA      NA        1        NA      \n",
       "26   26   0         6       2       NA      NA        1        NA      \n",
       "27   27   3         6       0       NA      NA       NA         1      \n",
       "28   28   2        12       1       NA      NA       NA         1      \n",
       "29   29   1         7       2       NA      NA       NA         1      \n",
       "30   30   0        60       3       NA      NA       NA        NA      \n",
       "...  ...  ...      ...      ...     ...     ...      ...       ...     \n",
       "971   971 1        15       2       NA      NA       NA        NA      \n",
       "972   972 3        24       2        1      NA       NA        NA      \n",
       "973   973 0        24       1        1      NA       NA        NA      \n",
       "974   974 0        60       2       NA      NA       NA        NA      \n",
       "975   975 3        30       4       NA      NA       NA         1      \n",
       "976   976 2        24       2       NA      NA       NA         1      \n",
       "977   977 1         6       2       NA      NA       NA         1      \n",
       "978   978 1        18       3       NA      NA       NA        NA      \n",
       "979   979 3        24       3        1      NA       NA        NA      \n",
       "980   980 1        15       1        1      NA       NA        NA      \n",
       "981   981 1        30       4       NA      NA        1        NA      \n",
       "982   982 3        48       2       NA      NA       NA        NA      \n",
       "983   983 2        21       2        1      NA       NA        NA      \n",
       "984   984 0        36       2       NA       1       NA        NA      \n",
       "985   985 3        24       4       NA      NA        1        NA      \n",
       "986   986 0        15       4       NA      NA        1        NA      \n",
       "987   987 2        42       0       NA      NA       NA        NA      \n",
       "988   988 3        13       2       NA      NA       NA         1      \n",
       "989   989 0        24       2       NA       1       NA        NA      \n",
       "990   990 1        24       4       NA      NA       NA         1      \n",
       "991   991 3        12       4       NA      NA       NA        NA      \n",
       "992   992 3        15       1       NA      NA       NA         1      \n",
       "993   993 0        18       2       NA      NA       NA         1      \n",
       "994   994 0        36       2       NA      NA        1        NA      \n",
       "995   995 3        12       2        1      NA       NA        NA      \n",
       "996   996 3        12       2       NA      NA        1        NA      \n",
       "997   997 0        30       2       NA       1       NA        NA      \n",
       "998   998 3        12       2       NA      NA       NA         1      \n",
       "999   999 0        45       2       NA      NA       NA         1      \n",
       "1000 1000 1        45       4       NA       1       NA        NA      \n",
       "     EDUCATION RETRAINING ... AGE OTHER_INSTALL RENT OWN_RES NUM_CREDITS JOB\n",
       "1    NA        NA         ... 67  0             0    1       2           2  \n",
       "2    NA        NA         ... 22  0             0    1       1           2  \n",
       "3     1        NA         ... 49  0             0    1       1           1  \n",
       "4    NA        NA         ... 45  0             0    0       1           2  \n",
       "5    NA        NA         ... 53  0             0    0       2           2  \n",
       "6     1        NA         ... 35  0             0    0       1           1  \n",
       "7    NA        NA         ... NA  0             0    1       1           2  \n",
       "8    NA        NA         ... 35  0             1    0       1           3  \n",
       "9    NA        NA         ... 61  0             0    1       1           1  \n",
       "10   NA        NA         ... 28  0             0    1       2           3  \n",
       "11   NA        NA         ... 25  0             1    0       1           2  \n",
       "12   NA         1         ... 24  0             1    0       1           2  \n",
       "13   NA        NA         ... 22  0             0    1       1           2  \n",
       "14   NA        NA         ... 60  0             0    1       2           1  \n",
       "15   NA        NA         ... 28  0             1    0       1           2  \n",
       "16   NA        NA         ... NA  0             0    1       1           1  \n",
       "17   NA        NA         ... 53  0             0    1       2           2  \n",
       "18   NA         1         ... 25  1             0    1       3           2  \n",
       "19   NA        NA         ... 44  0             0    0       1           3  \n",
       "20   NA        NA         ... 31  0             0    1       1           2  \n",
       "21   NA        NA         ... 48  0             0    1       3           2  \n",
       "22   NA        NA         ... 44  0             1    0       1           2  \n",
       "23   NA        NA         ... 48  0             1    0       2           1  \n",
       "24   NA        NA         ... NA  0             0    1       1           2  \n",
       "25   NA        NA         ... 26  0             0    1       2           2  \n",
       "26   NA        NA         ... 36  1             0    1       1           1  \n",
       "27   NA        NA         ... 39  0             0    1       1           1  \n",
       "28   NA        NA         ... 42  0             1    0       2           2  \n",
       "29   NA        NA         ... 34  0             0    1       1           2  \n",
       "30   NA         1         ... 63  0             0    1       2           2  \n",
       "...  ...       ...            ... ...           ...  ...     ...         ...\n",
       "971  NA        NA         ... 22  0             0    1       1           2  \n",
       "972  NA        NA         ... 43  0             0    1       1           1  \n",
       "973  NA        NA         ... 29  0             1    0       2           0  \n",
       "974  NA         1         ... 36  0             1    0       1           2  \n",
       "975  NA        NA         ... 33  0             0    1       1           2  \n",
       "976  NA        NA         ... 57  0             0    1       1           1  \n",
       "977  NA        NA         ... 64  0             0    1       1           2  \n",
       "978  NA         1         ... 42  0             0    1       2           2  \n",
       "979  NA        NA         ... 47  0             0    1       2           1  \n",
       "980  NA        NA         ... 25  0             1    0       1           2  \n",
       "981  NA        NA         ... 49  0             0    1       1           2  \n",
       "982  NA         1         ... 33  1             1    0       1           3  \n",
       "983  NA        NA         ... 28  1             0    1       1           3  \n",
       "984  NA        NA         ... 26  0             0    1       1           2  \n",
       "985  NA        NA         ... 30  0             0    1       2           1  \n",
       "986  NA        NA         ... 25  0             1    0       2           2  \n",
       "987  NA         1         ... 33  0             0    1       2           2  \n",
       "988  NA        NA         ... 64  0             0    1       1           2  \n",
       "989  NA        NA         ... 29  0             0    0       1           3  \n",
       "990  NA        NA         ... 48  0             0    1       2           1  \n",
       "991   1        NA         ... 37  0             0    1       2           1  \n",
       "992  NA        NA         ... 34  1             0    1       1           1  \n",
       "993  NA        NA         ... 23  0             1    0       2           1  \n",
       "994  NA        NA         ... 30  0             0    1       1           3  \n",
       "995  NA        NA         ... 50  0             0    1       1           2  \n",
       "996  NA        NA         ... 31  0             0    1       1           1  \n",
       "997  NA        NA         ... 40  0             0    1       1           3  \n",
       "998  NA        NA         ... 38  0             0    1       1           2  \n",
       "999  NA        NA         ... 23  0             0    0       1           2  \n",
       "1000 NA        NA         ... 27  0             0    1       1           2  \n",
       "     NUM_DEPENDENTS TELEPHONE FOREIGN RESPONSE\n",
       "1    1              1         0       1       \n",
       "2    1              0         0       0       \n",
       "3    2              0         0       1       \n",
       "4    2              0         0       1       \n",
       "5    2              0         0       0       \n",
       "6    2              1         0       1       \n",
       "7    1              0         0       1       \n",
       "8    1              1         0       1       \n",
       "9    1              0         0       1       \n",
       "10   1              0         0       0       \n",
       "11   1              0         0       0       \n",
       "12   1              0         0       0       \n",
       "13   1              1         0       1       \n",
       "14   1              0         0       0       \n",
       "15   1              0         0       1       \n",
       "16   1              0         0       0       \n",
       "17   1              0         0       1       \n",
       "18   1              0         0       1       \n",
       "19   1              1         0       0       \n",
       "20   2              1         0       1       \n",
       "21   1              1         0       1       \n",
       "22   2              0         0       1       \n",
       "23   2              0         1       1       \n",
       "24   1              0         0       1       \n",
       "25   1              0         1       1       \n",
       "26   1              1         0       1       \n",
       "27   1              0         0       1       \n",
       "28   1              0         0       1       \n",
       "29   1              0         0       1       \n",
       "30   1              1         0       0       \n",
       "...  ...            ...       ...     ...     \n",
       "971  1              0         0       1       \n",
       "972  2              0         0       1       \n",
       "973  1              0         0       0       \n",
       "974  1              0         0       0       \n",
       "975  1              1         0       1       \n",
       "976  1              0         0       1       \n",
       "977  1              0         0       1       \n",
       "978  1              0         0       1       \n",
       "979  2              0         0       0       \n",
       "980  1              0         0       0       \n",
       "981  1              0         0       0       \n",
       "982  1              1         0       0       \n",
       "983  1              1         0       1       \n",
       "984  2              0         0       0       \n",
       "985  1              0         0       1       \n",
       "986  1              0         0       1       \n",
       "987  1              0         0       1       \n",
       "988  1              0         0       1       \n",
       "989  1              1         0       1       \n",
       "990  1              0         0       1       \n",
       "991  2              0         0       1       \n",
       "992  2              0         0       1       \n",
       "993  1              0         0       1       \n",
       "994  1              1         0       1       \n",
       "995  1              1         0       1       \n",
       "996  1              0         0       1       \n",
       "997  1              1         0       1       \n",
       "998  1              0         0       1       \n",
       "999  1              1         0       0       \n",
       "1000 1              0         0       1       "
      ]
     },
     "metadata": {},
     "output_type": "display_data"
    }
   ],
   "source": [
    "input_file = \"GermanCredit_assgt1_F18.xls\"\n",
    "mdData <- read_excel(input_file, col_names = TRUE)\n",
    "mdData"
   ]
  },
  {
   "cell_type": "code",
   "execution_count": 4,
   "metadata": {},
   "outputs": [
    {
     "data": {
      "text/plain": [
       "      OBS#           CHK_ACCT        DURATION       HISTORY         NEW_CAR   \n",
       " Min.   :   1.0   Min.   :0.000   Min.   : 4.0   Min.   :0.000   Min.   :1    \n",
       " 1st Qu.: 250.8   1st Qu.:0.000   1st Qu.:12.0   1st Qu.:2.000   1st Qu.:1    \n",
       " Median : 500.5   Median :1.000   Median :18.0   Median :2.000   Median :1    \n",
       " Mean   : 500.5   Mean   :1.577   Mean   :20.9   Mean   :2.545   Mean   :1    \n",
       " 3rd Qu.: 750.2   3rd Qu.:3.000   3rd Qu.:24.0   3rd Qu.:4.000   3rd Qu.:1    \n",
       " Max.   :1000.0   Max.   :3.000   Max.   :72.0   Max.   :4.000   Max.   :1    \n",
       "                                                                 NA's   :766  \n",
       "    USED_CAR     FURNITURE      RADIO/TV     EDUCATION     RETRAINING \n",
       " Min.   :1     Min.   :1     Min.   :1     Min.   :1     Min.   :1    \n",
       " 1st Qu.:1     1st Qu.:1     1st Qu.:1     1st Qu.:1     1st Qu.:1    \n",
       " Median :1     Median :1     Median :1     Median :1     Median :1    \n",
       " Mean   :1     Mean   :1     Mean   :1     Mean   :1     Mean   :1    \n",
       " 3rd Qu.:1     3rd Qu.:1     3rd Qu.:1     3rd Qu.:1     3rd Qu.:1    \n",
       " Max.   :1     Max.   :1     Max.   :1     Max.   :1     Max.   :1    \n",
       " NA's   :897   NA's   :819   NA's   :720   NA's   :950   NA's   :903  \n",
       "     AMOUNT         SAV_ACCT       EMPLOYMENT     INSTALL_RATE      MALE_DIV   \n",
       " Min.   :  250   Min.   :0.000   Min.   :0.000   Min.   :1.000   Min.   :0.00  \n",
       " 1st Qu.: 1366   1st Qu.:0.000   1st Qu.:2.000   1st Qu.:2.000   1st Qu.:0.00  \n",
       " Median : 2320   Median :0.000   Median :2.000   Median :3.000   Median :0.00  \n",
       " Mean   : 3271   Mean   :1.105   Mean   :2.384   Mean   :2.973   Mean   :0.05  \n",
       " 3rd Qu.: 3972   3rd Qu.:2.000   3rd Qu.:4.000   3rd Qu.:4.000   3rd Qu.:0.00  \n",
       " Max.   :18424   Max.   :4.000   Max.   :4.000   Max.   :4.000   Max.   :1.00  \n",
       "                                                                               \n",
       "  MALE_SINGLE    MALE_MAR_or_WID  CO-APPLICANT     GUARANTOR    \n",
       " Min.   :0.000   Min.   :0.000   Min.   :0.000   Min.   :0.000  \n",
       " 1st Qu.:0.000   1st Qu.:0.000   1st Qu.:0.000   1st Qu.:0.000  \n",
       " Median :1.000   Median :0.000   Median :0.000   Median :0.000  \n",
       " Mean   :0.548   Mean   :0.092   Mean   :0.041   Mean   :0.052  \n",
       " 3rd Qu.:1.000   3rd Qu.:0.000   3rd Qu.:0.000   3rd Qu.:0.000  \n",
       " Max.   :1.000   Max.   :1.000   Max.   :1.000   Max.   :1.000  \n",
       "                                                                \n",
       " PRESENT_RESIDENT  REAL_ESTATE    PROP_UNKN_NONE       AGE       \n",
       " Min.   :1.000    Min.   :0.000   Min.   :0.000   Min.   :19.00  \n",
       " 1st Qu.:2.000    1st Qu.:0.000   1st Qu.:0.000   1st Qu.:27.00  \n",
       " Median :3.000    Median :0.000   Median :0.000   Median :33.00  \n",
       " Mean   :2.845    Mean   :0.282   Mean   :0.154   Mean   :35.48  \n",
       " 3rd Qu.:4.000    3rd Qu.:1.000   3rd Qu.:0.000   3rd Qu.:42.00  \n",
       " Max.   :4.000    Max.   :1.000   Max.   :1.000   Max.   :75.00  \n",
       "                                                  NA's   :9      \n",
       " OTHER_INSTALL        RENT          OWN_RES       NUM_CREDITS   \n",
       " Min.   :0.000   Min.   :0.000   Min.   :0.000   Min.   :1.000  \n",
       " 1st Qu.:0.000   1st Qu.:0.000   1st Qu.:0.000   1st Qu.:1.000  \n",
       " Median :0.000   Median :0.000   Median :1.000   Median :1.000  \n",
       " Mean   :0.186   Mean   :0.179   Mean   :0.713   Mean   :1.407  \n",
       " 3rd Qu.:0.000   3rd Qu.:0.000   3rd Qu.:1.000   3rd Qu.:2.000  \n",
       " Max.   :1.000   Max.   :1.000   Max.   :1.000   Max.   :4.000  \n",
       "                                                                \n",
       "      JOB        NUM_DEPENDENTS    TELEPHONE        FOREIGN         RESPONSE  \n",
       " Min.   :0.000   Min.   :1.000   Min.   :0.000   Min.   :0.000   Min.   :0.0  \n",
       " 1st Qu.:2.000   1st Qu.:1.000   1st Qu.:0.000   1st Qu.:0.000   1st Qu.:0.0  \n",
       " Median :2.000   Median :1.000   Median :0.000   Median :0.000   Median :1.0  \n",
       " Mean   :1.904   Mean   :1.155   Mean   :0.404   Mean   :0.037   Mean   :0.7  \n",
       " 3rd Qu.:2.000   3rd Qu.:1.000   3rd Qu.:1.000   3rd Qu.:0.000   3rd Qu.:1.0  \n",
       " Max.   :3.000   Max.   :2.000   Max.   :1.000   Max.   :1.000   Max.   :1.0  \n",
       "                                                                              "
      ]
     },
     "metadata": {},
     "output_type": "display_data"
    },
    {
     "name": "stdout",
     "output_type": "stream",
     "text": [
      "Classes 'tbl_df', 'tbl' and 'data.frame':\t1000 obs. of  32 variables:\n",
      " $ OBS#            : num  1 2 3 4 5 6 7 8 9 10 ...\n",
      " $ CHK_ACCT        : num  0 1 3 0 0 3 3 1 3 1 ...\n",
      " $ DURATION        : num  6 48 12 42 24 36 24 36 12 30 ...\n",
      " $ HISTORY         : num  4 2 4 2 3 2 2 2 2 4 ...\n",
      " $ NEW_CAR         : num  NA NA NA NA 1 NA NA NA NA 1 ...\n",
      " $ USED_CAR        : num  NA NA NA NA NA NA NA 1 NA NA ...\n",
      " $ FURNITURE       : num  NA NA NA 1 NA NA 1 NA NA NA ...\n",
      " $ RADIO/TV        : num  1 1 NA NA NA NA NA NA 1 NA ...\n",
      " $ EDUCATION       : num  NA NA 1 NA NA 1 NA NA NA NA ...\n",
      " $ RETRAINING      : num  NA NA NA NA NA NA NA NA NA NA ...\n",
      " $ AMOUNT          : num  1169 5951 2096 7882 4870 ...\n",
      " $ SAV_ACCT        : num  4 0 0 0 0 4 2 0 3 0 ...\n",
      " $ EMPLOYMENT      : num  4 2 3 3 2 2 4 2 3 0 ...\n",
      " $ INSTALL_RATE    : num  4 2 2 2 3 2 3 2 2 4 ...\n",
      " $ MALE_DIV        : num  0 0 0 0 0 0 0 0 1 0 ...\n",
      " $ MALE_SINGLE     : num  1 0 1 1 1 1 1 1 0 0 ...\n",
      " $ MALE_MAR_or_WID : num  0 0 0 0 0 0 0 0 0 1 ...\n",
      " $ CO-APPLICANT    : num  0 0 0 0 0 0 0 0 0 0 ...\n",
      " $ GUARANTOR       : num  0 0 0 1 0 0 0 0 0 0 ...\n",
      " $ PRESENT_RESIDENT: num  4 2 3 4 4 4 4 2 4 2 ...\n",
      " $ REAL_ESTATE     : num  1 1 1 0 0 0 0 0 1 0 ...\n",
      " $ PROP_UNKN_NONE  : num  0 0 0 0 1 1 0 0 0 0 ...\n",
      " $ AGE             : num  67 22 49 45 53 35 NA 35 61 28 ...\n",
      " $ OTHER_INSTALL   : num  0 0 0 0 0 0 0 0 0 0 ...\n",
      " $ RENT            : num  0 0 0 0 0 0 0 1 0 0 ...\n",
      " $ OWN_RES         : num  1 1 1 0 0 0 1 0 1 1 ...\n",
      " $ NUM_CREDITS     : num  2 1 1 1 2 1 1 1 1 2 ...\n",
      " $ JOB             : num  2 2 1 2 2 1 2 3 1 3 ...\n",
      " $ NUM_DEPENDENTS  : num  1 1 2 2 2 2 1 1 1 1 ...\n",
      " $ TELEPHONE       : num  1 0 0 0 0 1 0 1 0 0 ...\n",
      " $ FOREIGN         : num  0 0 0 0 0 0 0 0 0 0 ...\n",
      " $ RESPONSE        : num  1 0 1 1 0 1 1 1 1 0 ...\n"
     ]
    },
    {
     "data": {
      "text/html": [
       "<ol class=list-inline>\n",
       "\t<li>'tbl_df'</li>\n",
       "\t<li>'tbl'</li>\n",
       "\t<li>'data.frame'</li>\n",
       "</ol>\n"
      ],
      "text/latex": [
       "\\begin{enumerate*}\n",
       "\\item 'tbl\\_df'\n",
       "\\item 'tbl'\n",
       "\\item 'data.frame'\n",
       "\\end{enumerate*}\n"
      ],
      "text/markdown": [
       "1. 'tbl_df'\n",
       "2. 'tbl'\n",
       "3. 'data.frame'\n",
       "\n",
       "\n"
      ],
      "text/plain": [
       "[1] \"tbl_df\"     \"tbl\"        \"data.frame\""
      ]
     },
     "metadata": {},
     "output_type": "display_data"
    }
   ],
   "source": [
    "mdData <- as_tibble(mdData)\n",
    "summary(mdData)\n",
    "str(mdData)\n",
    "class(mdData)"
   ]
  },
  {
   "cell_type": "code",
   "execution_count": 5,
   "metadata": {},
   "outputs": [
    {
     "data": {
      "text/html": [
       "<table>\n",
       "<thead><tr><th></th><th scope=col>vars</th><th scope=col>n</th><th scope=col>mean</th><th scope=col>sd</th><th scope=col>median</th><th scope=col>trimmed</th><th scope=col>mad</th><th scope=col>min</th><th scope=col>max</th><th scope=col>range</th><th scope=col>skew</th><th scope=col>kurtosis</th><th scope=col>se</th></tr></thead>\n",
       "<tbody>\n",
       "\t<tr><th scope=row>OBS#</th><td> 1          </td><td>1000        </td><td> 500.50000  </td><td> 288.8194361</td><td> 500.5      </td><td> 500.50000  </td><td> 370.6500   </td><td>  1         </td><td> 1000       </td><td>  999       </td><td> 0.000000000</td><td>-1.2036006  </td><td> 9.133272506</td></tr>\n",
       "\t<tr><th scope=row>CHK_ACCT</th><td> 2          </td><td>1000        </td><td>   1.57700  </td><td>   1.2576377</td><td>   1.0      </td><td>   1.59625  </td><td>   1.4826   </td><td>  0         </td><td>    3       </td><td>    3       </td><td> 0.006936175</td><td>-1.6640661  </td><td> 0.039769997</td></tr>\n",
       "\t<tr><th scope=row>DURATION</th><td> 3          </td><td>1000        </td><td>  20.90300  </td><td>  12.0588145</td><td>  18.0      </td><td>  19.47250  </td><td>   8.8956   </td><td>  4         </td><td>   72       </td><td>   68       </td><td> 1.090903807</td><td> 0.9013804  </td><td> 0.381333196</td></tr>\n",
       "\t<tr><th scope=row>HISTORY</th><td> 4          </td><td>1000        </td><td>   2.54500  </td><td>   1.0831196</td><td>   2.0      </td><td>   2.59250  </td><td>   0.0000   </td><td>  0         </td><td>    4       </td><td>    4       </td><td>-0.011850340</td><td>-0.5869917  </td><td> 0.034251250</td></tr>\n",
       "\t<tr><th scope=row>NEW_CAR</th><td> 5          </td><td> 234        </td><td>   1.00000  </td><td>   0.0000000</td><td>   1.0      </td><td>   1.00000  </td><td>   0.0000   </td><td>  1         </td><td>    1       </td><td>    0       </td><td>         NaN</td><td>       NaN  </td><td> 0.000000000</td></tr>\n",
       "\t<tr><th scope=row>USED_CAR</th><td> 6          </td><td> 103        </td><td>   1.00000  </td><td>   0.0000000</td><td>   1.0      </td><td>   1.00000  </td><td>   0.0000   </td><td>  1         </td><td>    1       </td><td>    0       </td><td>         NaN</td><td>       NaN  </td><td> 0.000000000</td></tr>\n",
       "\t<tr><th scope=row>FURNITURE</th><td> 7          </td><td> 181        </td><td>   1.00000  </td><td>   0.0000000</td><td>   1.0      </td><td>   1.00000  </td><td>   0.0000   </td><td>  1         </td><td>    1       </td><td>    0       </td><td>         NaN</td><td>       NaN  </td><td> 0.000000000</td></tr>\n",
       "\t<tr><th scope=row>RADIO/TV</th><td> 8          </td><td> 280        </td><td>   1.00000  </td><td>   0.0000000</td><td>   1.0      </td><td>   1.00000  </td><td>   0.0000   </td><td>  1         </td><td>    1       </td><td>    0       </td><td>         NaN</td><td>       NaN  </td><td> 0.000000000</td></tr>\n",
       "\t<tr><th scope=row>EDUCATION</th><td> 9          </td><td>  50        </td><td>   1.00000  </td><td>   0.0000000</td><td>   1.0      </td><td>   1.00000  </td><td>   0.0000   </td><td>  1         </td><td>    1       </td><td>    0       </td><td>         NaN</td><td>       NaN  </td><td> 0.000000000</td></tr>\n",
       "\t<tr><th scope=row>RETRAINING</th><td>10          </td><td>  97        </td><td>   1.00000  </td><td>   0.0000000</td><td>   1.0      </td><td>   1.00000  </td><td>   0.0000   </td><td>  1         </td><td>    1       </td><td>    0       </td><td>         NaN</td><td>       NaN  </td><td> 0.000000000</td></tr>\n",
       "\t<tr><th scope=row>AMOUNT</th><td>11          </td><td>1000        </td><td>3271.15600  </td><td>2822.6250470</td><td>2319.5      </td><td>2754.53250  </td><td>1627.1535   </td><td>250         </td><td>18424       </td><td>18174       </td><td> 1.943838919</td><td> 4.2513754  </td><td>89.259241291</td></tr>\n",
       "\t<tr><th scope=row>SAV_ACCT</th><td>12          </td><td>1000        </td><td>   1.10500  </td><td>   1.5800226</td><td>   0.0      </td><td>   0.88125  </td><td>   0.0000   </td><td>  0         </td><td>    4       </td><td>    4       </td><td> 1.013628879</td><td>-0.6874541  </td><td> 0.049964702</td></tr>\n",
       "\t<tr><th scope=row>EMPLOYMENT</th><td>13          </td><td>1000        </td><td>   2.38400  </td><td>   1.2083063</td><td>   2.0      </td><td>   2.43250  </td><td>   1.4826   </td><td>  0         </td><td>    4       </td><td>    4       </td><td>-0.117262084</td><td>-0.9397860  </td><td> 0.038209999</td></tr>\n",
       "\t<tr><th scope=row>INSTALL_RATE</th><td>14          </td><td>1000        </td><td>   2.97300  </td><td>   1.1187147</td><td>   3.0      </td><td>   3.09125  </td><td>   1.4826   </td><td>  1         </td><td>    4       </td><td>    3       </td><td>-0.529755133</td><td>-1.2140006  </td><td> 0.035376864</td></tr>\n",
       "\t<tr><th scope=row>MALE_DIV</th><td>15          </td><td>1000        </td><td>   0.05000  </td><td>   0.2180540</td><td>   0.0      </td><td>   0.00000  </td><td>   0.0000   </td><td>  0         </td><td>    1       </td><td>    1       </td><td> 4.123290534</td><td>15.0165444  </td><td> 0.006895473</td></tr>\n",
       "\t<tr><th scope=row>MALE_SINGLE</th><td>16          </td><td>1000        </td><td>   0.54800  </td><td>   0.4979397</td><td>   1.0      </td><td>   0.56000  </td><td>   0.0000   </td><td>  0         </td><td>    1       </td><td>    1       </td><td>-0.192601635</td><td>-1.9648665  </td><td> 0.015746236</td></tr>\n",
       "\t<tr><th scope=row>MALE_MAR_or_WID</th><td>17          </td><td>1000        </td><td>   0.09200  </td><td>   0.2891706</td><td>   0.0      </td><td>   0.00000  </td><td>   0.0000   </td><td>  0         </td><td>    1       </td><td>    1       </td><td> 2.819042044</td><td> 5.9529540  </td><td> 0.009144376</td></tr>\n",
       "\t<tr><th scope=row>CO-APPLICANT</th><td>18          </td><td>1000        </td><td>   0.04100  </td><td>   0.1983894</td><td>   0.0      </td><td>   0.00000  </td><td>   0.0000   </td><td>  0         </td><td>    1       </td><td>    1       </td><td> 4.622635834</td><td>19.3881532  </td><td> 0.006273624</td></tr>\n",
       "\t<tr><th scope=row>GUARANTOR</th><td>19          </td><td>1000        </td><td>   0.05200  </td><td>   0.2221381</td><td>   0.0      </td><td>   0.00000  </td><td>   0.0000   </td><td>  0         </td><td>    1       </td><td>    1       </td><td> 4.029492962</td><td>14.2510676  </td><td> 0.007024624</td></tr>\n",
       "\t<tr><th scope=row>PRESENT_RESIDENT</th><td>20          </td><td>1000        </td><td>   2.84500  </td><td>   1.1037179</td><td>   3.0      </td><td>   2.93125  </td><td>   1.4826   </td><td>  1         </td><td>    4       </td><td>    3       </td><td>-0.271752650</td><td>-1.3837822  </td><td> 0.034902624</td></tr>\n",
       "\t<tr><th scope=row>REAL_ESTATE</th><td>21          </td><td>1000        </td><td>   0.28200  </td><td>   0.4501985</td><td>   0.0      </td><td>   0.22750  </td><td>   0.0000   </td><td>  0         </td><td>    1       </td><td>    1       </td><td> 0.967493254</td><td>-1.0650188  </td><td> 0.014236526</td></tr>\n",
       "\t<tr><th scope=row>PROP_UNKN_NONE</th><td>22          </td><td>1000        </td><td>   0.15400  </td><td>   0.3611294</td><td>   0.0      </td><td>   0.06750  </td><td>   0.0000   </td><td>  0         </td><td>    1       </td><td>    1       </td><td> 1.914294647</td><td> 1.6661932  </td><td> 0.011419913</td></tr>\n",
       "\t<tr><th scope=row>AGE</th><td>23          </td><td> 991        </td><td>  35.48335  </td><td>  11.3707704</td><td>  33.0      </td><td>  34.09206  </td><td>  10.3782   </td><td> 19         </td><td>   75       </td><td>   56       </td><td> 1.028552152</td><td> 0.6123166  </td><td> 0.361204426</td></tr>\n",
       "\t<tr><th scope=row>OTHER_INSTALL</th><td>24          </td><td>1000        </td><td>   0.18600  </td><td>   0.3893014</td><td>   0.0      </td><td>   0.10750  </td><td>   0.0000   </td><td>  0         </td><td>    1       </td><td>    1       </td><td> 1.611532994</td><td> 0.5976392  </td><td> 0.012310790</td></tr>\n",
       "\t<tr><th scope=row>RENT</th><td>25          </td><td>1000        </td><td>   0.17900  </td><td>   0.3835441</td><td>   0.0      </td><td>   0.09875  </td><td>   0.0000   </td><td>  0         </td><td>    1       </td><td>    1       </td><td> 1.672188246</td><td> 0.7970135  </td><td> 0.012128731</td></tr>\n",
       "\t<tr><th scope=row>OWN_RES</th><td>26          </td><td>1000        </td><td>   0.71300  </td><td>   0.4525879</td><td>   1.0      </td><td>   0.76625  </td><td>   0.0000   </td><td>  0         </td><td>    1       </td><td>    1       </td><td>-0.940312302</td><td>-1.1169267  </td><td> 0.014312087</td></tr>\n",
       "\t<tr><th scope=row>NUM_CREDITS</th><td>27          </td><td>1000        </td><td>   1.40700  </td><td>   0.5776545</td><td>   1.0      </td><td>   1.33375  </td><td>   0.0000   </td><td>  1         </td><td>    4       </td><td>    3       </td><td> 1.268760784</td><td> 1.5812581  </td><td> 0.018267038</td></tr>\n",
       "\t<tr><th scope=row>JOB</th><td>28          </td><td>1000        </td><td>   1.90400  </td><td>   0.6536140</td><td>   2.0      </td><td>   1.90750  </td><td>   0.0000   </td><td>  0         </td><td>    3       </td><td>    3       </td><td>-0.373172724</td><td> 0.4864077  </td><td> 0.020669088</td></tr>\n",
       "\t<tr><th scope=row>NUM_DEPENDENTS</th><td>29          </td><td>1000        </td><td>   1.15500  </td><td>   0.3620858</td><td>   1.0      </td><td>   1.06875  </td><td>   0.0000   </td><td>  1         </td><td>    2       </td><td>    1       </td><td> 1.903720206</td><td> 1.6257794  </td><td> 0.011450157</td></tr>\n",
       "\t<tr><th scope=row>TELEPHONE</th><td>30          </td><td>1000        </td><td>   0.40400  </td><td>   0.4909430</td><td>   0.0      </td><td>   0.38000  </td><td>   0.0000   </td><td>  0         </td><td>    1       </td><td>    1       </td><td> 0.390693017</td><td>-1.8492052  </td><td> 0.015524981</td></tr>\n",
       "\t<tr><th scope=row>FOREIGN</th><td>31          </td><td>1000        </td><td>   0.03700  </td><td>   0.1888562</td><td>   0.0      </td><td>   0.00000  </td><td>   0.0000   </td><td>  0         </td><td>    1       </td><td>    1       </td><td> 4.898298118</td><td>22.0153428  </td><td> 0.005972158</td></tr>\n",
       "\t<tr><th scope=row>RESPONSE</th><td>32          </td><td>1000        </td><td>   0.70000  </td><td>   0.4584869</td><td>   1.0      </td><td>   0.75000  </td><td>   0.0000   </td><td>  0         </td><td>    1       </td><td>    1       </td><td>-0.871562581</td><td>-1.2416173  </td><td> 0.014498628</td></tr>\n",
       "</tbody>\n",
       "</table>\n"
      ],
      "text/latex": [
       "\\begin{tabular}{r|lllllllllllll}\n",
       "  & vars & n & mean & sd & median & trimmed & mad & min & max & range & skew & kurtosis & se\\\\\n",
       "\\hline\n",
       "\tOBS\\# &  1           & 1000         &  500.50000   &  288.8194361 &  500.5       &  500.50000   &  370.6500    &   1          &  1000        &   999        &  0.000000000 & -1.2036006   &  9.133272506\\\\\n",
       "\tCHK\\_ACCT &  2           & 1000         &    1.57700   &    1.2576377 &    1.0       &    1.59625   &    1.4826    &   0          &     3        &     3        &  0.006936175 & -1.6640661   &  0.039769997\\\\\n",
       "\tDURATION &  3           & 1000         &   20.90300   &   12.0588145 &   18.0       &   19.47250   &    8.8956    &   4          &    72        &    68        &  1.090903807 &  0.9013804   &  0.381333196\\\\\n",
       "\tHISTORY &  4           & 1000         &    2.54500   &    1.0831196 &    2.0       &    2.59250   &    0.0000    &   0          &     4        &     4        & -0.011850340 & -0.5869917   &  0.034251250\\\\\n",
       "\tNEW\\_CAR &  5           &  234         &    1.00000   &    0.0000000 &    1.0       &    1.00000   &    0.0000    &   1          &     1        &     0        &          NaN &        NaN   &  0.000000000\\\\\n",
       "\tUSED\\_CAR &  6           &  103         &    1.00000   &    0.0000000 &    1.0       &    1.00000   &    0.0000    &   1          &     1        &     0        &          NaN &        NaN   &  0.000000000\\\\\n",
       "\tFURNITURE &  7           &  181         &    1.00000   &    0.0000000 &    1.0       &    1.00000   &    0.0000    &   1          &     1        &     0        &          NaN &        NaN   &  0.000000000\\\\\n",
       "\tRADIO/TV &  8           &  280         &    1.00000   &    0.0000000 &    1.0       &    1.00000   &    0.0000    &   1          &     1        &     0        &          NaN &        NaN   &  0.000000000\\\\\n",
       "\tEDUCATION &  9           &   50         &    1.00000   &    0.0000000 &    1.0       &    1.00000   &    0.0000    &   1          &     1        &     0        &          NaN &        NaN   &  0.000000000\\\\\n",
       "\tRETRAINING & 10           &   97         &    1.00000   &    0.0000000 &    1.0       &    1.00000   &    0.0000    &   1          &     1        &     0        &          NaN &        NaN   &  0.000000000\\\\\n",
       "\tAMOUNT & 11           & 1000         & 3271.15600   & 2822.6250470 & 2319.5       & 2754.53250   & 1627.1535    & 250          & 18424        & 18174        &  1.943838919 &  4.2513754   & 89.259241291\\\\\n",
       "\tSAV\\_ACCT & 12           & 1000         &    1.10500   &    1.5800226 &    0.0       &    0.88125   &    0.0000    &   0          &     4        &     4        &  1.013628879 & -0.6874541   &  0.049964702\\\\\n",
       "\tEMPLOYMENT & 13           & 1000         &    2.38400   &    1.2083063 &    2.0       &    2.43250   &    1.4826    &   0          &     4        &     4        & -0.117262084 & -0.9397860   &  0.038209999\\\\\n",
       "\tINSTALL\\_RATE & 14           & 1000         &    2.97300   &    1.1187147 &    3.0       &    3.09125   &    1.4826    &   1          &     4        &     3        & -0.529755133 & -1.2140006   &  0.035376864\\\\\n",
       "\tMALE\\_DIV & 15           & 1000         &    0.05000   &    0.2180540 &    0.0       &    0.00000   &    0.0000    &   0          &     1        &     1        &  4.123290534 & 15.0165444   &  0.006895473\\\\\n",
       "\tMALE\\_SINGLE & 16           & 1000         &    0.54800   &    0.4979397 &    1.0       &    0.56000   &    0.0000    &   0          &     1        &     1        & -0.192601635 & -1.9648665   &  0.015746236\\\\\n",
       "\tMALE\\_MAR\\_or\\_WID & 17           & 1000         &    0.09200   &    0.2891706 &    0.0       &    0.00000   &    0.0000    &   0          &     1        &     1        &  2.819042044 &  5.9529540   &  0.009144376\\\\\n",
       "\tCO-APPLICANT & 18           & 1000         &    0.04100   &    0.1983894 &    0.0       &    0.00000   &    0.0000    &   0          &     1        &     1        &  4.622635834 & 19.3881532   &  0.006273624\\\\\n",
       "\tGUARANTOR & 19           & 1000         &    0.05200   &    0.2221381 &    0.0       &    0.00000   &    0.0000    &   0          &     1        &     1        &  4.029492962 & 14.2510676   &  0.007024624\\\\\n",
       "\tPRESENT\\_RESIDENT & 20           & 1000         &    2.84500   &    1.1037179 &    3.0       &    2.93125   &    1.4826    &   1          &     4        &     3        & -0.271752650 & -1.3837822   &  0.034902624\\\\\n",
       "\tREAL\\_ESTATE & 21           & 1000         &    0.28200   &    0.4501985 &    0.0       &    0.22750   &    0.0000    &   0          &     1        &     1        &  0.967493254 & -1.0650188   &  0.014236526\\\\\n",
       "\tPROP\\_UNKN\\_NONE & 22           & 1000         &    0.15400   &    0.3611294 &    0.0       &    0.06750   &    0.0000    &   0          &     1        &     1        &  1.914294647 &  1.6661932   &  0.011419913\\\\\n",
       "\tAGE & 23           &  991         &   35.48335   &   11.3707704 &   33.0       &   34.09206   &   10.3782    &  19          &    75        &    56        &  1.028552152 &  0.6123166   &  0.361204426\\\\\n",
       "\tOTHER\\_INSTALL & 24           & 1000         &    0.18600   &    0.3893014 &    0.0       &    0.10750   &    0.0000    &   0          &     1        &     1        &  1.611532994 &  0.5976392   &  0.012310790\\\\\n",
       "\tRENT & 25           & 1000         &    0.17900   &    0.3835441 &    0.0       &    0.09875   &    0.0000    &   0          &     1        &     1        &  1.672188246 &  0.7970135   &  0.012128731\\\\\n",
       "\tOWN\\_RES & 26           & 1000         &    0.71300   &    0.4525879 &    1.0       &    0.76625   &    0.0000    &   0          &     1        &     1        & -0.940312302 & -1.1169267   &  0.014312087\\\\\n",
       "\tNUM\\_CREDITS & 27           & 1000         &    1.40700   &    0.5776545 &    1.0       &    1.33375   &    0.0000    &   1          &     4        &     3        &  1.268760784 &  1.5812581   &  0.018267038\\\\\n",
       "\tJOB & 28           & 1000         &    1.90400   &    0.6536140 &    2.0       &    1.90750   &    0.0000    &   0          &     3        &     3        & -0.373172724 &  0.4864077   &  0.020669088\\\\\n",
       "\tNUM\\_DEPENDENTS & 29           & 1000         &    1.15500   &    0.3620858 &    1.0       &    1.06875   &    0.0000    &   1          &     2        &     1        &  1.903720206 &  1.6257794   &  0.011450157\\\\\n",
       "\tTELEPHONE & 30           & 1000         &    0.40400   &    0.4909430 &    0.0       &    0.38000   &    0.0000    &   0          &     1        &     1        &  0.390693017 & -1.8492052   &  0.015524981\\\\\n",
       "\tFOREIGN & 31           & 1000         &    0.03700   &    0.1888562 &    0.0       &    0.00000   &    0.0000    &   0          &     1        &     1        &  4.898298118 & 22.0153428   &  0.005972158\\\\\n",
       "\tRESPONSE & 32           & 1000         &    0.70000   &    0.4584869 &    1.0       &    0.75000   &    0.0000    &   0          &     1        &     1        & -0.871562581 & -1.2416173   &  0.014498628\\\\\n",
       "\\end{tabular}\n"
      ],
      "text/markdown": [
       "\n",
       "| <!--/--> | vars | n | mean | sd | median | trimmed | mad | min | max | range | skew | kurtosis | se |\n",
       "|---|---|---|---|---|---|---|---|---|---|---|---|---|---|\n",
       "| OBS# |  1           | 1000         |  500.50000   |  288.8194361 |  500.5       |  500.50000   |  370.6500    |   1          |  1000        |   999        |  0.000000000 | -1.2036006   |  9.133272506 |\n",
       "| CHK_ACCT |  2           | 1000         |    1.57700   |    1.2576377 |    1.0       |    1.59625   |    1.4826    |   0          |     3        |     3        |  0.006936175 | -1.6640661   |  0.039769997 |\n",
       "| DURATION |  3           | 1000         |   20.90300   |   12.0588145 |   18.0       |   19.47250   |    8.8956    |   4          |    72        |    68        |  1.090903807 |  0.9013804   |  0.381333196 |\n",
       "| HISTORY |  4           | 1000         |    2.54500   |    1.0831196 |    2.0       |    2.59250   |    0.0000    |   0          |     4        |     4        | -0.011850340 | -0.5869917   |  0.034251250 |\n",
       "| NEW_CAR |  5           |  234         |    1.00000   |    0.0000000 |    1.0       |    1.00000   |    0.0000    |   1          |     1        |     0        |          NaN |        NaN   |  0.000000000 |\n",
       "| USED_CAR |  6           |  103         |    1.00000   |    0.0000000 |    1.0       |    1.00000   |    0.0000    |   1          |     1        |     0        |          NaN |        NaN   |  0.000000000 |\n",
       "| FURNITURE |  7           |  181         |    1.00000   |    0.0000000 |    1.0       |    1.00000   |    0.0000    |   1          |     1        |     0        |          NaN |        NaN   |  0.000000000 |\n",
       "| RADIO/TV |  8           |  280         |    1.00000   |    0.0000000 |    1.0       |    1.00000   |    0.0000    |   1          |     1        |     0        |          NaN |        NaN   |  0.000000000 |\n",
       "| EDUCATION |  9           |   50         |    1.00000   |    0.0000000 |    1.0       |    1.00000   |    0.0000    |   1          |     1        |     0        |          NaN |        NaN   |  0.000000000 |\n",
       "| RETRAINING | 10           |   97         |    1.00000   |    0.0000000 |    1.0       |    1.00000   |    0.0000    |   1          |     1        |     0        |          NaN |        NaN   |  0.000000000 |\n",
       "| AMOUNT | 11           | 1000         | 3271.15600   | 2822.6250470 | 2319.5       | 2754.53250   | 1627.1535    | 250          | 18424        | 18174        |  1.943838919 |  4.2513754   | 89.259241291 |\n",
       "| SAV_ACCT | 12           | 1000         |    1.10500   |    1.5800226 |    0.0       |    0.88125   |    0.0000    |   0          |     4        |     4        |  1.013628879 | -0.6874541   |  0.049964702 |\n",
       "| EMPLOYMENT | 13           | 1000         |    2.38400   |    1.2083063 |    2.0       |    2.43250   |    1.4826    |   0          |     4        |     4        | -0.117262084 | -0.9397860   |  0.038209999 |\n",
       "| INSTALL_RATE | 14           | 1000         |    2.97300   |    1.1187147 |    3.0       |    3.09125   |    1.4826    |   1          |     4        |     3        | -0.529755133 | -1.2140006   |  0.035376864 |\n",
       "| MALE_DIV | 15           | 1000         |    0.05000   |    0.2180540 |    0.0       |    0.00000   |    0.0000    |   0          |     1        |     1        |  4.123290534 | 15.0165444   |  0.006895473 |\n",
       "| MALE_SINGLE | 16           | 1000         |    0.54800   |    0.4979397 |    1.0       |    0.56000   |    0.0000    |   0          |     1        |     1        | -0.192601635 | -1.9648665   |  0.015746236 |\n",
       "| MALE_MAR_or_WID | 17           | 1000         |    0.09200   |    0.2891706 |    0.0       |    0.00000   |    0.0000    |   0          |     1        |     1        |  2.819042044 |  5.9529540   |  0.009144376 |\n",
       "| CO-APPLICANT | 18           | 1000         |    0.04100   |    0.1983894 |    0.0       |    0.00000   |    0.0000    |   0          |     1        |     1        |  4.622635834 | 19.3881532   |  0.006273624 |\n",
       "| GUARANTOR | 19           | 1000         |    0.05200   |    0.2221381 |    0.0       |    0.00000   |    0.0000    |   0          |     1        |     1        |  4.029492962 | 14.2510676   |  0.007024624 |\n",
       "| PRESENT_RESIDENT | 20           | 1000         |    2.84500   |    1.1037179 |    3.0       |    2.93125   |    1.4826    |   1          |     4        |     3        | -0.271752650 | -1.3837822   |  0.034902624 |\n",
       "| REAL_ESTATE | 21           | 1000         |    0.28200   |    0.4501985 |    0.0       |    0.22750   |    0.0000    |   0          |     1        |     1        |  0.967493254 | -1.0650188   |  0.014236526 |\n",
       "| PROP_UNKN_NONE | 22           | 1000         |    0.15400   |    0.3611294 |    0.0       |    0.06750   |    0.0000    |   0          |     1        |     1        |  1.914294647 |  1.6661932   |  0.011419913 |\n",
       "| AGE | 23           |  991         |   35.48335   |   11.3707704 |   33.0       |   34.09206   |   10.3782    |  19          |    75        |    56        |  1.028552152 |  0.6123166   |  0.361204426 |\n",
       "| OTHER_INSTALL | 24           | 1000         |    0.18600   |    0.3893014 |    0.0       |    0.10750   |    0.0000    |   0          |     1        |     1        |  1.611532994 |  0.5976392   |  0.012310790 |\n",
       "| RENT | 25           | 1000         |    0.17900   |    0.3835441 |    0.0       |    0.09875   |    0.0000    |   0          |     1        |     1        |  1.672188246 |  0.7970135   |  0.012128731 |\n",
       "| OWN_RES | 26           | 1000         |    0.71300   |    0.4525879 |    1.0       |    0.76625   |    0.0000    |   0          |     1        |     1        | -0.940312302 | -1.1169267   |  0.014312087 |\n",
       "| NUM_CREDITS | 27           | 1000         |    1.40700   |    0.5776545 |    1.0       |    1.33375   |    0.0000    |   1          |     4        |     3        |  1.268760784 |  1.5812581   |  0.018267038 |\n",
       "| JOB | 28           | 1000         |    1.90400   |    0.6536140 |    2.0       |    1.90750   |    0.0000    |   0          |     3        |     3        | -0.373172724 |  0.4864077   |  0.020669088 |\n",
       "| NUM_DEPENDENTS | 29           | 1000         |    1.15500   |    0.3620858 |    1.0       |    1.06875   |    0.0000    |   1          |     2        |     1        |  1.903720206 |  1.6257794   |  0.011450157 |\n",
       "| TELEPHONE | 30           | 1000         |    0.40400   |    0.4909430 |    0.0       |    0.38000   |    0.0000    |   0          |     1        |     1        |  0.390693017 | -1.8492052   |  0.015524981 |\n",
       "| FOREIGN | 31           | 1000         |    0.03700   |    0.1888562 |    0.0       |    0.00000   |    0.0000    |   0          |     1        |     1        |  4.898298118 | 22.0153428   |  0.005972158 |\n",
       "| RESPONSE | 32           | 1000         |    0.70000   |    0.4584869 |    1.0       |    0.75000   |    0.0000    |   0          |     1        |     1        | -0.871562581 | -1.2416173   |  0.014498628 |\n",
       "\n"
      ],
      "text/plain": [
       "                 vars n    mean       sd           median trimmed    mad      \n",
       "OBS#              1   1000  500.50000  288.8194361  500.5  500.50000  370.6500\n",
       "CHK_ACCT          2   1000    1.57700    1.2576377    1.0    1.59625    1.4826\n",
       "DURATION          3   1000   20.90300   12.0588145   18.0   19.47250    8.8956\n",
       "HISTORY           4   1000    2.54500    1.0831196    2.0    2.59250    0.0000\n",
       "NEW_CAR           5    234    1.00000    0.0000000    1.0    1.00000    0.0000\n",
       "USED_CAR          6    103    1.00000    0.0000000    1.0    1.00000    0.0000\n",
       "FURNITURE         7    181    1.00000    0.0000000    1.0    1.00000    0.0000\n",
       "RADIO/TV          8    280    1.00000    0.0000000    1.0    1.00000    0.0000\n",
       "EDUCATION         9     50    1.00000    0.0000000    1.0    1.00000    0.0000\n",
       "RETRAINING       10     97    1.00000    0.0000000    1.0    1.00000    0.0000\n",
       "AMOUNT           11   1000 3271.15600 2822.6250470 2319.5 2754.53250 1627.1535\n",
       "SAV_ACCT         12   1000    1.10500    1.5800226    0.0    0.88125    0.0000\n",
       "EMPLOYMENT       13   1000    2.38400    1.2083063    2.0    2.43250    1.4826\n",
       "INSTALL_RATE     14   1000    2.97300    1.1187147    3.0    3.09125    1.4826\n",
       "MALE_DIV         15   1000    0.05000    0.2180540    0.0    0.00000    0.0000\n",
       "MALE_SINGLE      16   1000    0.54800    0.4979397    1.0    0.56000    0.0000\n",
       "MALE_MAR_or_WID  17   1000    0.09200    0.2891706    0.0    0.00000    0.0000\n",
       "CO-APPLICANT     18   1000    0.04100    0.1983894    0.0    0.00000    0.0000\n",
       "GUARANTOR        19   1000    0.05200    0.2221381    0.0    0.00000    0.0000\n",
       "PRESENT_RESIDENT 20   1000    2.84500    1.1037179    3.0    2.93125    1.4826\n",
       "REAL_ESTATE      21   1000    0.28200    0.4501985    0.0    0.22750    0.0000\n",
       "PROP_UNKN_NONE   22   1000    0.15400    0.3611294    0.0    0.06750    0.0000\n",
       "AGE              23    991   35.48335   11.3707704   33.0   34.09206   10.3782\n",
       "OTHER_INSTALL    24   1000    0.18600    0.3893014    0.0    0.10750    0.0000\n",
       "RENT             25   1000    0.17900    0.3835441    0.0    0.09875    0.0000\n",
       "OWN_RES          26   1000    0.71300    0.4525879    1.0    0.76625    0.0000\n",
       "NUM_CREDITS      27   1000    1.40700    0.5776545    1.0    1.33375    0.0000\n",
       "JOB              28   1000    1.90400    0.6536140    2.0    1.90750    0.0000\n",
       "NUM_DEPENDENTS   29   1000    1.15500    0.3620858    1.0    1.06875    0.0000\n",
       "TELEPHONE        30   1000    0.40400    0.4909430    0.0    0.38000    0.0000\n",
       "FOREIGN          31   1000    0.03700    0.1888562    0.0    0.00000    0.0000\n",
       "RESPONSE         32   1000    0.70000    0.4584869    1.0    0.75000    0.0000\n",
       "                 min max   range skew         kurtosis   se          \n",
       "OBS#               1  1000   999  0.000000000 -1.2036006  9.133272506\n",
       "CHK_ACCT           0     3     3  0.006936175 -1.6640661  0.039769997\n",
       "DURATION           4    72    68  1.090903807  0.9013804  0.381333196\n",
       "HISTORY            0     4     4 -0.011850340 -0.5869917  0.034251250\n",
       "NEW_CAR            1     1     0          NaN        NaN  0.000000000\n",
       "USED_CAR           1     1     0          NaN        NaN  0.000000000\n",
       "FURNITURE          1     1     0          NaN        NaN  0.000000000\n",
       "RADIO/TV           1     1     0          NaN        NaN  0.000000000\n",
       "EDUCATION          1     1     0          NaN        NaN  0.000000000\n",
       "RETRAINING         1     1     0          NaN        NaN  0.000000000\n",
       "AMOUNT           250 18424 18174  1.943838919  4.2513754 89.259241291\n",
       "SAV_ACCT           0     4     4  1.013628879 -0.6874541  0.049964702\n",
       "EMPLOYMENT         0     4     4 -0.117262084 -0.9397860  0.038209999\n",
       "INSTALL_RATE       1     4     3 -0.529755133 -1.2140006  0.035376864\n",
       "MALE_DIV           0     1     1  4.123290534 15.0165444  0.006895473\n",
       "MALE_SINGLE        0     1     1 -0.192601635 -1.9648665  0.015746236\n",
       "MALE_MAR_or_WID    0     1     1  2.819042044  5.9529540  0.009144376\n",
       "CO-APPLICANT       0     1     1  4.622635834 19.3881532  0.006273624\n",
       "GUARANTOR          0     1     1  4.029492962 14.2510676  0.007024624\n",
       "PRESENT_RESIDENT   1     4     3 -0.271752650 -1.3837822  0.034902624\n",
       "REAL_ESTATE        0     1     1  0.967493254 -1.0650188  0.014236526\n",
       "PROP_UNKN_NONE     0     1     1  1.914294647  1.6661932  0.011419913\n",
       "AGE               19    75    56  1.028552152  0.6123166  0.361204426\n",
       "OTHER_INSTALL      0     1     1  1.611532994  0.5976392  0.012310790\n",
       "RENT               0     1     1  1.672188246  0.7970135  0.012128731\n",
       "OWN_RES            0     1     1 -0.940312302 -1.1169267  0.014312087\n",
       "NUM_CREDITS        1     4     3  1.268760784  1.5812581  0.018267038\n",
       "JOB                0     3     3 -0.373172724  0.4864077  0.020669088\n",
       "NUM_DEPENDENTS     1     2     1  1.903720206  1.6257794  0.011450157\n",
       "TELEPHONE          0     1     1  0.390693017 -1.8492052  0.015524981\n",
       "FOREIGN            0     1     1  4.898298118 22.0153428  0.005972158\n",
       "RESPONSE           0     1     1 -0.871562581 -1.2416173  0.014498628"
      ]
     },
     "metadata": {},
     "output_type": "display_data"
    }
   ],
   "source": [
    "describe(mdData)"
   ]
  },
  {
   "cell_type": "code",
   "execution_count": 6,
   "metadata": {},
   "outputs": [
    {
     "data": {
      "text/html": [
       "<ol class=list-inline>\n",
       "\t<li>'OBS#'</li>\n",
       "\t<li>'CHK_ACCT'</li>\n",
       "\t<li>'DURATION'</li>\n",
       "\t<li>'HISTORY'</li>\n",
       "\t<li>'NEW_CAR'</li>\n",
       "\t<li>'USED_CAR'</li>\n",
       "\t<li>'FURNITURE'</li>\n",
       "\t<li>'RADIO/TV'</li>\n",
       "\t<li>'EDUCATION'</li>\n",
       "\t<li>'RETRAINING'</li>\n",
       "\t<li>'AMOUNT'</li>\n",
       "\t<li>'SAV_ACCT'</li>\n",
       "\t<li>'EMPLOYMENT'</li>\n",
       "\t<li>'INSTALL_RATE'</li>\n",
       "\t<li>'MALE_DIV'</li>\n",
       "\t<li>'MALE_SINGLE'</li>\n",
       "\t<li>'MALE_MAR_or_WID'</li>\n",
       "\t<li>'CO-APPLICANT'</li>\n",
       "\t<li>'GUARANTOR'</li>\n",
       "\t<li>'PRESENT_RESIDENT'</li>\n",
       "\t<li>'REAL_ESTATE'</li>\n",
       "\t<li>'PROP_UNKN_NONE'</li>\n",
       "\t<li>'AGE'</li>\n",
       "\t<li>'OTHER_INSTALL'</li>\n",
       "\t<li>'RENT'</li>\n",
       "\t<li>'OWN_RES'</li>\n",
       "\t<li>'NUM_CREDITS'</li>\n",
       "\t<li>'JOB'</li>\n",
       "\t<li>'NUM_DEPENDENTS'</li>\n",
       "\t<li>'TELEPHONE'</li>\n",
       "\t<li>'FOREIGN'</li>\n",
       "\t<li>'RESPONSE'</li>\n",
       "</ol>\n"
      ],
      "text/latex": [
       "\\begin{enumerate*}\n",
       "\\item 'OBS\\#'\n",
       "\\item 'CHK\\_ACCT'\n",
       "\\item 'DURATION'\n",
       "\\item 'HISTORY'\n",
       "\\item 'NEW\\_CAR'\n",
       "\\item 'USED\\_CAR'\n",
       "\\item 'FURNITURE'\n",
       "\\item 'RADIO/TV'\n",
       "\\item 'EDUCATION'\n",
       "\\item 'RETRAINING'\n",
       "\\item 'AMOUNT'\n",
       "\\item 'SAV\\_ACCT'\n",
       "\\item 'EMPLOYMENT'\n",
       "\\item 'INSTALL\\_RATE'\n",
       "\\item 'MALE\\_DIV'\n",
       "\\item 'MALE\\_SINGLE'\n",
       "\\item 'MALE\\_MAR\\_or\\_WID'\n",
       "\\item 'CO-APPLICANT'\n",
       "\\item 'GUARANTOR'\n",
       "\\item 'PRESENT\\_RESIDENT'\n",
       "\\item 'REAL\\_ESTATE'\n",
       "\\item 'PROP\\_UNKN\\_NONE'\n",
       "\\item 'AGE'\n",
       "\\item 'OTHER\\_INSTALL'\n",
       "\\item 'RENT'\n",
       "\\item 'OWN\\_RES'\n",
       "\\item 'NUM\\_CREDITS'\n",
       "\\item 'JOB'\n",
       "\\item 'NUM\\_DEPENDENTS'\n",
       "\\item 'TELEPHONE'\n",
       "\\item 'FOREIGN'\n",
       "\\item 'RESPONSE'\n",
       "\\end{enumerate*}\n"
      ],
      "text/markdown": [
       "1. 'OBS#'\n",
       "2. 'CHK_ACCT'\n",
       "3. 'DURATION'\n",
       "4. 'HISTORY'\n",
       "5. 'NEW_CAR'\n",
       "6. 'USED_CAR'\n",
       "7. 'FURNITURE'\n",
       "8. 'RADIO/TV'\n",
       "9. 'EDUCATION'\n",
       "10. 'RETRAINING'\n",
       "11. 'AMOUNT'\n",
       "12. 'SAV_ACCT'\n",
       "13. 'EMPLOYMENT'\n",
       "14. 'INSTALL_RATE'\n",
       "15. 'MALE_DIV'\n",
       "16. 'MALE_SINGLE'\n",
       "17. 'MALE_MAR_or_WID'\n",
       "18. 'CO-APPLICANT'\n",
       "19. 'GUARANTOR'\n",
       "20. 'PRESENT_RESIDENT'\n",
       "21. 'REAL_ESTATE'\n",
       "22. 'PROP_UNKN_NONE'\n",
       "23. 'AGE'\n",
       "24. 'OTHER_INSTALL'\n",
       "25. 'RENT'\n",
       "26. 'OWN_RES'\n",
       "27. 'NUM_CREDITS'\n",
       "28. 'JOB'\n",
       "29. 'NUM_DEPENDENTS'\n",
       "30. 'TELEPHONE'\n",
       "31. 'FOREIGN'\n",
       "32. 'RESPONSE'\n",
       "\n",
       "\n"
      ],
      "text/plain": [
       " [1] \"OBS#\"             \"CHK_ACCT\"         \"DURATION\"         \"HISTORY\"         \n",
       " [5] \"NEW_CAR\"          \"USED_CAR\"         \"FURNITURE\"        \"RADIO/TV\"        \n",
       " [9] \"EDUCATION\"        \"RETRAINING\"       \"AMOUNT\"           \"SAV_ACCT\"        \n",
       "[13] \"EMPLOYMENT\"       \"INSTALL_RATE\"     \"MALE_DIV\"         \"MALE_SINGLE\"     \n",
       "[17] \"MALE_MAR_or_WID\"  \"CO-APPLICANT\"     \"GUARANTOR\"        \"PRESENT_RESIDENT\"\n",
       "[21] \"REAL_ESTATE\"      \"PROP_UNKN_NONE\"   \"AGE\"              \"OTHER_INSTALL\"   \n",
       "[25] \"RENT\"             \"OWN_RES\"          \"NUM_CREDITS\"      \"JOB\"             \n",
       "[29] \"NUM_DEPENDENTS\"   \"TELEPHONE\"        \"FOREIGN\"          \"RESPONSE\"        "
      ]
     },
     "metadata": {},
     "output_type": "display_data"
    }
   ],
   "source": [
    "colnames(mdData)"
   ]
  },
  {
   "cell_type": "code",
   "execution_count": 7,
   "metadata": {},
   "outputs": [
    {
     "data": {
      "text/html": [
       "<ol class=list-inline>\n",
       "\t<li>'OBS#'</li>\n",
       "\t<li>'CHK_ACCT'</li>\n",
       "\t<li>'DURATION'</li>\n",
       "\t<li>'HISTORY'</li>\n",
       "\t<li>'NEW_CAR'</li>\n",
       "\t<li>'USED_CAR'</li>\n",
       "\t<li>'FURNITURE'</li>\n",
       "\t<li>'Radio.TV'</li>\n",
       "\t<li>'EDUCATION'</li>\n",
       "\t<li>'RETRAINING'</li>\n",
       "\t<li>'AMOUNT'</li>\n",
       "\t<li>'SAV_ACCT'</li>\n",
       "\t<li>'EMPLOYMENT'</li>\n",
       "\t<li>'INSTALL_RATE'</li>\n",
       "\t<li>'MALE_DIV'</li>\n",
       "\t<li>'MALE_SINGLE'</li>\n",
       "\t<li>'MALE_MAR_or_WID'</li>\n",
       "\t<li>'CO-APPLICANT'</li>\n",
       "\t<li>'GUARANTOR'</li>\n",
       "\t<li>'PRESENT_RESIDENT'</li>\n",
       "\t<li>'REAL_ESTATE'</li>\n",
       "\t<li>'PROP_UNKN_NONE'</li>\n",
       "\t<li>'AGE'</li>\n",
       "\t<li>'OTHER_INSTALL'</li>\n",
       "\t<li>'RENT'</li>\n",
       "\t<li>'OWN_RES'</li>\n",
       "\t<li>'NUM_CREDITS'</li>\n",
       "\t<li>'JOB'</li>\n",
       "\t<li>'NUM_DEPENDENTS'</li>\n",
       "\t<li>'TELEPHONE'</li>\n",
       "\t<li>'FOREIGN'</li>\n",
       "\t<li>'RESPONSE'</li>\n",
       "</ol>\n"
      ],
      "text/latex": [
       "\\begin{enumerate*}\n",
       "\\item 'OBS\\#'\n",
       "\\item 'CHK\\_ACCT'\n",
       "\\item 'DURATION'\n",
       "\\item 'HISTORY'\n",
       "\\item 'NEW\\_CAR'\n",
       "\\item 'USED\\_CAR'\n",
       "\\item 'FURNITURE'\n",
       "\\item 'Radio.TV'\n",
       "\\item 'EDUCATION'\n",
       "\\item 'RETRAINING'\n",
       "\\item 'AMOUNT'\n",
       "\\item 'SAV\\_ACCT'\n",
       "\\item 'EMPLOYMENT'\n",
       "\\item 'INSTALL\\_RATE'\n",
       "\\item 'MALE\\_DIV'\n",
       "\\item 'MALE\\_SINGLE'\n",
       "\\item 'MALE\\_MAR\\_or\\_WID'\n",
       "\\item 'CO-APPLICANT'\n",
       "\\item 'GUARANTOR'\n",
       "\\item 'PRESENT\\_RESIDENT'\n",
       "\\item 'REAL\\_ESTATE'\n",
       "\\item 'PROP\\_UNKN\\_NONE'\n",
       "\\item 'AGE'\n",
       "\\item 'OTHER\\_INSTALL'\n",
       "\\item 'RENT'\n",
       "\\item 'OWN\\_RES'\n",
       "\\item 'NUM\\_CREDITS'\n",
       "\\item 'JOB'\n",
       "\\item 'NUM\\_DEPENDENTS'\n",
       "\\item 'TELEPHONE'\n",
       "\\item 'FOREIGN'\n",
       "\\item 'RESPONSE'\n",
       "\\end{enumerate*}\n"
      ],
      "text/markdown": [
       "1. 'OBS#'\n",
       "2. 'CHK_ACCT'\n",
       "3. 'DURATION'\n",
       "4. 'HISTORY'\n",
       "5. 'NEW_CAR'\n",
       "6. 'USED_CAR'\n",
       "7. 'FURNITURE'\n",
       "8. 'Radio.TV'\n",
       "9. 'EDUCATION'\n",
       "10. 'RETRAINING'\n",
       "11. 'AMOUNT'\n",
       "12. 'SAV_ACCT'\n",
       "13. 'EMPLOYMENT'\n",
       "14. 'INSTALL_RATE'\n",
       "15. 'MALE_DIV'\n",
       "16. 'MALE_SINGLE'\n",
       "17. 'MALE_MAR_or_WID'\n",
       "18. 'CO-APPLICANT'\n",
       "19. 'GUARANTOR'\n",
       "20. 'PRESENT_RESIDENT'\n",
       "21. 'REAL_ESTATE'\n",
       "22. 'PROP_UNKN_NONE'\n",
       "23. 'AGE'\n",
       "24. 'OTHER_INSTALL'\n",
       "25. 'RENT'\n",
       "26. 'OWN_RES'\n",
       "27. 'NUM_CREDITS'\n",
       "28. 'JOB'\n",
       "29. 'NUM_DEPENDENTS'\n",
       "30. 'TELEPHONE'\n",
       "31. 'FOREIGN'\n",
       "32. 'RESPONSE'\n",
       "\n",
       "\n"
      ],
      "text/plain": [
       " [1] \"OBS#\"             \"CHK_ACCT\"         \"DURATION\"         \"HISTORY\"         \n",
       " [5] \"NEW_CAR\"          \"USED_CAR\"         \"FURNITURE\"        \"Radio.TV\"        \n",
       " [9] \"EDUCATION\"        \"RETRAINING\"       \"AMOUNT\"           \"SAV_ACCT\"        \n",
       "[13] \"EMPLOYMENT\"       \"INSTALL_RATE\"     \"MALE_DIV\"         \"MALE_SINGLE\"     \n",
       "[17] \"MALE_MAR_or_WID\"  \"CO-APPLICANT\"     \"GUARANTOR\"        \"PRESENT_RESIDENT\"\n",
       "[21] \"REAL_ESTATE\"      \"PROP_UNKN_NONE\"   \"AGE\"              \"OTHER_INSTALL\"   \n",
       "[25] \"RENT\"             \"OWN_RES\"          \"NUM_CREDITS\"      \"JOB\"             \n",
       "[29] \"NUM_DEPENDENTS\"   \"TELEPHONE\"        \"FOREIGN\"          \"RESPONSE\"        "
      ]
     },
     "metadata": {},
     "output_type": "display_data"
    }
   ],
   "source": [
    "mdData <- rename(mdData, Radio.TV ='RADIO/TV')\n",
    "colnames(mdData)"
   ]
  },
  {
   "cell_type": "code",
   "execution_count": 8,
   "metadata": {},
   "outputs": [
    {
     "data": {
      "text/html": [
       "<dl class=dl-horizontal>\n",
       "\t<dt>OBS#</dt>\n",
       "\t\t<dd>0</dd>\n",
       "\t<dt>CHK_ACCT</dt>\n",
       "\t\t<dd>0</dd>\n",
       "\t<dt>DURATION</dt>\n",
       "\t\t<dd>0</dd>\n",
       "\t<dt>HISTORY</dt>\n",
       "\t\t<dd>0</dd>\n",
       "\t<dt>NEW_CAR</dt>\n",
       "\t\t<dd>766</dd>\n",
       "\t<dt>USED_CAR</dt>\n",
       "\t\t<dd>897</dd>\n",
       "\t<dt>FURNITURE</dt>\n",
       "\t\t<dd>819</dd>\n",
       "\t<dt>Radio.TV</dt>\n",
       "\t\t<dd>720</dd>\n",
       "\t<dt>EDUCATION</dt>\n",
       "\t\t<dd>950</dd>\n",
       "\t<dt>RETRAINING</dt>\n",
       "\t\t<dd>903</dd>\n",
       "\t<dt>AMOUNT</dt>\n",
       "\t\t<dd>0</dd>\n",
       "\t<dt>SAV_ACCT</dt>\n",
       "\t\t<dd>0</dd>\n",
       "\t<dt>EMPLOYMENT</dt>\n",
       "\t\t<dd>0</dd>\n",
       "\t<dt>INSTALL_RATE</dt>\n",
       "\t\t<dd>0</dd>\n",
       "\t<dt>MALE_DIV</dt>\n",
       "\t\t<dd>0</dd>\n",
       "\t<dt>MALE_SINGLE</dt>\n",
       "\t\t<dd>0</dd>\n",
       "\t<dt>MALE_MAR_or_WID</dt>\n",
       "\t\t<dd>0</dd>\n",
       "\t<dt>CO-APPLICANT</dt>\n",
       "\t\t<dd>0</dd>\n",
       "\t<dt>GUARANTOR</dt>\n",
       "\t\t<dd>0</dd>\n",
       "\t<dt>PRESENT_RESIDENT</dt>\n",
       "\t\t<dd>0</dd>\n",
       "\t<dt>REAL_ESTATE</dt>\n",
       "\t\t<dd>0</dd>\n",
       "\t<dt>PROP_UNKN_NONE</dt>\n",
       "\t\t<dd>0</dd>\n",
       "\t<dt>AGE</dt>\n",
       "\t\t<dd>9</dd>\n",
       "\t<dt>OTHER_INSTALL</dt>\n",
       "\t\t<dd>0</dd>\n",
       "\t<dt>RENT</dt>\n",
       "\t\t<dd>0</dd>\n",
       "\t<dt>OWN_RES</dt>\n",
       "\t\t<dd>0</dd>\n",
       "\t<dt>NUM_CREDITS</dt>\n",
       "\t\t<dd>0</dd>\n",
       "\t<dt>JOB</dt>\n",
       "\t\t<dd>0</dd>\n",
       "\t<dt>NUM_DEPENDENTS</dt>\n",
       "\t\t<dd>0</dd>\n",
       "\t<dt>TELEPHONE</dt>\n",
       "\t\t<dd>0</dd>\n",
       "\t<dt>FOREIGN</dt>\n",
       "\t\t<dd>0</dd>\n",
       "\t<dt>RESPONSE</dt>\n",
       "\t\t<dd>0</dd>\n",
       "</dl>\n"
      ],
      "text/latex": [
       "\\begin{description*}\n",
       "\\item[OBS\\textbackslash{}\\#] 0\n",
       "\\item[CHK\\textbackslash{}\\_ACCT] 0\n",
       "\\item[DURATION] 0\n",
       "\\item[HISTORY] 0\n",
       "\\item[NEW\\textbackslash{}\\_CAR] 766\n",
       "\\item[USED\\textbackslash{}\\_CAR] 897\n",
       "\\item[FURNITURE] 819\n",
       "\\item[Radio.TV] 720\n",
       "\\item[EDUCATION] 950\n",
       "\\item[RETRAINING] 903\n",
       "\\item[AMOUNT] 0\n",
       "\\item[SAV\\textbackslash{}\\_ACCT] 0\n",
       "\\item[EMPLOYMENT] 0\n",
       "\\item[INSTALL\\textbackslash{}\\_RATE] 0\n",
       "\\item[MALE\\textbackslash{}\\_DIV] 0\n",
       "\\item[MALE\\textbackslash{}\\_SINGLE] 0\n",
       "\\item[MALE\\textbackslash{}\\_MAR\\textbackslash{}\\_or\\textbackslash{}\\_WID] 0\n",
       "\\item[CO-APPLICANT] 0\n",
       "\\item[GUARANTOR] 0\n",
       "\\item[PRESENT\\textbackslash{}\\_RESIDENT] 0\n",
       "\\item[REAL\\textbackslash{}\\_ESTATE] 0\n",
       "\\item[PROP\\textbackslash{}\\_UNKN\\textbackslash{}\\_NONE] 0\n",
       "\\item[AGE] 9\n",
       "\\item[OTHER\\textbackslash{}\\_INSTALL] 0\n",
       "\\item[RENT] 0\n",
       "\\item[OWN\\textbackslash{}\\_RES] 0\n",
       "\\item[NUM\\textbackslash{}\\_CREDITS] 0\n",
       "\\item[JOB] 0\n",
       "\\item[NUM\\textbackslash{}\\_DEPENDENTS] 0\n",
       "\\item[TELEPHONE] 0\n",
       "\\item[FOREIGN] 0\n",
       "\\item[RESPONSE] 0\n",
       "\\end{description*}\n"
      ],
      "text/markdown": [
       "OBS#\n",
       ":   0CHK_ACCT\n",
       ":   0DURATION\n",
       ":   0HISTORY\n",
       ":   0NEW_CAR\n",
       ":   766USED_CAR\n",
       ":   897FURNITURE\n",
       ":   819Radio.TV\n",
       ":   720EDUCATION\n",
       ":   950RETRAINING\n",
       ":   903AMOUNT\n",
       ":   0SAV_ACCT\n",
       ":   0EMPLOYMENT\n",
       ":   0INSTALL_RATE\n",
       ":   0MALE_DIV\n",
       ":   0MALE_SINGLE\n",
       ":   0MALE_MAR_or_WID\n",
       ":   0CO-APPLICANT\n",
       ":   0GUARANTOR\n",
       ":   0PRESENT_RESIDENT\n",
       ":   0REAL_ESTATE\n",
       ":   0PROP_UNKN_NONE\n",
       ":   0AGE\n",
       ":   9OTHER_INSTALL\n",
       ":   0RENT\n",
       ":   0OWN_RES\n",
       ":   0NUM_CREDITS\n",
       ":   0JOB\n",
       ":   0NUM_DEPENDENTS\n",
       ":   0TELEPHONE\n",
       ":   0FOREIGN\n",
       ":   0RESPONSE\n",
       ":   0\n",
       "\n"
      ],
      "text/plain": [
       "            OBS#         CHK_ACCT         DURATION          HISTORY \n",
       "               0                0                0                0 \n",
       "         NEW_CAR         USED_CAR        FURNITURE         Radio.TV \n",
       "             766              897              819              720 \n",
       "       EDUCATION       RETRAINING           AMOUNT         SAV_ACCT \n",
       "             950              903                0                0 \n",
       "      EMPLOYMENT     INSTALL_RATE         MALE_DIV      MALE_SINGLE \n",
       "               0                0                0                0 \n",
       " MALE_MAR_or_WID     CO-APPLICANT        GUARANTOR PRESENT_RESIDENT \n",
       "               0                0                0                0 \n",
       "     REAL_ESTATE   PROP_UNKN_NONE              AGE    OTHER_INSTALL \n",
       "               0                0                9                0 \n",
       "            RENT          OWN_RES      NUM_CREDITS              JOB \n",
       "               0                0                0                0 \n",
       "  NUM_DEPENDENTS        TELEPHONE          FOREIGN         RESPONSE \n",
       "               0                0                0                0 "
      ]
     },
     "metadata": {},
     "output_type": "display_data"
    }
   ],
   "source": [
    "colSums(is.na(mdData))"
   ]
  },
  {
   "cell_type": "code",
   "execution_count": 9,
   "metadata": {},
   "outputs": [
    {
     "data": {
      "text/html": [
       "<dl class=dl-horizontal>\n",
       "\t<dt>OBS#</dt>\n",
       "\t\t<dd>0</dd>\n",
       "\t<dt>CHK_ACCT</dt>\n",
       "\t\t<dd>0</dd>\n",
       "\t<dt>DURATION</dt>\n",
       "\t\t<dd>0</dd>\n",
       "\t<dt>HISTORY</dt>\n",
       "\t\t<dd>0</dd>\n",
       "\t<dt>NEW_CAR</dt>\n",
       "\t\t<dd>0</dd>\n",
       "\t<dt>USED_CAR</dt>\n",
       "\t\t<dd>0</dd>\n",
       "\t<dt>FURNITURE</dt>\n",
       "\t\t<dd>0</dd>\n",
       "\t<dt>Radio.TV</dt>\n",
       "\t\t<dd>0</dd>\n",
       "\t<dt>EDUCATION</dt>\n",
       "\t\t<dd>0</dd>\n",
       "\t<dt>RETRAINING</dt>\n",
       "\t\t<dd>0</dd>\n",
       "\t<dt>AMOUNT</dt>\n",
       "\t\t<dd>0</dd>\n",
       "\t<dt>SAV_ACCT</dt>\n",
       "\t\t<dd>0</dd>\n",
       "\t<dt>EMPLOYMENT</dt>\n",
       "\t\t<dd>0</dd>\n",
       "\t<dt>INSTALL_RATE</dt>\n",
       "\t\t<dd>0</dd>\n",
       "\t<dt>MALE_DIV</dt>\n",
       "\t\t<dd>0</dd>\n",
       "\t<dt>MALE_SINGLE</dt>\n",
       "\t\t<dd>0</dd>\n",
       "\t<dt>MALE_MAR_or_WID</dt>\n",
       "\t\t<dd>0</dd>\n",
       "\t<dt>CO-APPLICANT</dt>\n",
       "\t\t<dd>0</dd>\n",
       "\t<dt>GUARANTOR</dt>\n",
       "\t\t<dd>0</dd>\n",
       "\t<dt>PRESENT_RESIDENT</dt>\n",
       "\t\t<dd>0</dd>\n",
       "\t<dt>REAL_ESTATE</dt>\n",
       "\t\t<dd>0</dd>\n",
       "\t<dt>PROP_UNKN_NONE</dt>\n",
       "\t\t<dd>0</dd>\n",
       "\t<dt>AGE</dt>\n",
       "\t\t<dd>9</dd>\n",
       "\t<dt>OTHER_INSTALL</dt>\n",
       "\t\t<dd>0</dd>\n",
       "\t<dt>RENT</dt>\n",
       "\t\t<dd>0</dd>\n",
       "\t<dt>OWN_RES</dt>\n",
       "\t\t<dd>0</dd>\n",
       "\t<dt>NUM_CREDITS</dt>\n",
       "\t\t<dd>0</dd>\n",
       "\t<dt>JOB</dt>\n",
       "\t\t<dd>0</dd>\n",
       "\t<dt>NUM_DEPENDENTS</dt>\n",
       "\t\t<dd>0</dd>\n",
       "\t<dt>TELEPHONE</dt>\n",
       "\t\t<dd>0</dd>\n",
       "\t<dt>FOREIGN</dt>\n",
       "\t\t<dd>0</dd>\n",
       "\t<dt>RESPONSE</dt>\n",
       "\t\t<dd>0</dd>\n",
       "</dl>\n"
      ],
      "text/latex": [
       "\\begin{description*}\n",
       "\\item[OBS\\textbackslash{}\\#] 0\n",
       "\\item[CHK\\textbackslash{}\\_ACCT] 0\n",
       "\\item[DURATION] 0\n",
       "\\item[HISTORY] 0\n",
       "\\item[NEW\\textbackslash{}\\_CAR] 0\n",
       "\\item[USED\\textbackslash{}\\_CAR] 0\n",
       "\\item[FURNITURE] 0\n",
       "\\item[Radio.TV] 0\n",
       "\\item[EDUCATION] 0\n",
       "\\item[RETRAINING] 0\n",
       "\\item[AMOUNT] 0\n",
       "\\item[SAV\\textbackslash{}\\_ACCT] 0\n",
       "\\item[EMPLOYMENT] 0\n",
       "\\item[INSTALL\\textbackslash{}\\_RATE] 0\n",
       "\\item[MALE\\textbackslash{}\\_DIV] 0\n",
       "\\item[MALE\\textbackslash{}\\_SINGLE] 0\n",
       "\\item[MALE\\textbackslash{}\\_MAR\\textbackslash{}\\_or\\textbackslash{}\\_WID] 0\n",
       "\\item[CO-APPLICANT] 0\n",
       "\\item[GUARANTOR] 0\n",
       "\\item[PRESENT\\textbackslash{}\\_RESIDENT] 0\n",
       "\\item[REAL\\textbackslash{}\\_ESTATE] 0\n",
       "\\item[PROP\\textbackslash{}\\_UNKN\\textbackslash{}\\_NONE] 0\n",
       "\\item[AGE] 9\n",
       "\\item[OTHER\\textbackslash{}\\_INSTALL] 0\n",
       "\\item[RENT] 0\n",
       "\\item[OWN\\textbackslash{}\\_RES] 0\n",
       "\\item[NUM\\textbackslash{}\\_CREDITS] 0\n",
       "\\item[JOB] 0\n",
       "\\item[NUM\\textbackslash{}\\_DEPENDENTS] 0\n",
       "\\item[TELEPHONE] 0\n",
       "\\item[FOREIGN] 0\n",
       "\\item[RESPONSE] 0\n",
       "\\end{description*}\n"
      ],
      "text/markdown": [
       "OBS#\n",
       ":   0CHK_ACCT\n",
       ":   0DURATION\n",
       ":   0HISTORY\n",
       ":   0NEW_CAR\n",
       ":   0USED_CAR\n",
       ":   0FURNITURE\n",
       ":   0Radio.TV\n",
       ":   0EDUCATION\n",
       ":   0RETRAINING\n",
       ":   0AMOUNT\n",
       ":   0SAV_ACCT\n",
       ":   0EMPLOYMENT\n",
       ":   0INSTALL_RATE\n",
       ":   0MALE_DIV\n",
       ":   0MALE_SINGLE\n",
       ":   0MALE_MAR_or_WID\n",
       ":   0CO-APPLICANT\n",
       ":   0GUARANTOR\n",
       ":   0PRESENT_RESIDENT\n",
       ":   0REAL_ESTATE\n",
       ":   0PROP_UNKN_NONE\n",
       ":   0AGE\n",
       ":   9OTHER_INSTALL\n",
       ":   0RENT\n",
       ":   0OWN_RES\n",
       ":   0NUM_CREDITS\n",
       ":   0JOB\n",
       ":   0NUM_DEPENDENTS\n",
       ":   0TELEPHONE\n",
       ":   0FOREIGN\n",
       ":   0RESPONSE\n",
       ":   0\n",
       "\n"
      ],
      "text/plain": [
       "            OBS#         CHK_ACCT         DURATION          HISTORY \n",
       "               0                0                0                0 \n",
       "         NEW_CAR         USED_CAR        FURNITURE         Radio.TV \n",
       "               0                0                0                0 \n",
       "       EDUCATION       RETRAINING           AMOUNT         SAV_ACCT \n",
       "               0                0                0                0 \n",
       "      EMPLOYMENT     INSTALL_RATE         MALE_DIV      MALE_SINGLE \n",
       "               0                0                0                0 \n",
       " MALE_MAR_or_WID     CO-APPLICANT        GUARANTOR PRESENT_RESIDENT \n",
       "               0                0                0                0 \n",
       "     REAL_ESTATE   PROP_UNKN_NONE              AGE    OTHER_INSTALL \n",
       "               0                0                9                0 \n",
       "            RENT          OWN_RES      NUM_CREDITS              JOB \n",
       "               0                0                0                0 \n",
       "  NUM_DEPENDENTS        TELEPHONE          FOREIGN         RESPONSE \n",
       "               0                0                0                0 "
      ]
     },
     "metadata": {},
     "output_type": "display_data"
    }
   ],
   "source": [
    "mdData$NEW_CAR[is.na(mdData$NEW_CAR)] <- 0\n",
    "mdData$USED_CAR[is.na(mdData$USED_CAR)] <- 0\n",
    "mdData$FURNITURE[is.na(mdData$FURNITURE)] <- 0\n",
    "mdData$Radio.TV[is.na(mdData$Radio.TV)] <- 0\n",
    "mdData$EDUCATION[is.na(mdData$EDUCATION)] <- 0\n",
    "mdData$RETRAINING[is.na(mdData$RETRAINING)] <- 0\n",
    "\n",
    "colSums(is.na(mdData))"
   ]
  },
  {
   "cell_type": "code",
   "execution_count": 10,
   "metadata": {},
   "outputs": [
    {
     "data": {
      "text/plain": [
       "   Min. 1st Qu.  Median    Mean 3rd Qu.    Max.    NA's \n",
       "  19.00   27.00   33.00   35.48   42.00   75.00       9 "
      ]
     },
     "metadata": {},
     "output_type": "display_data"
    },
    {
     "data": {
      "text/html": [
       "<ol class=list-inline>\n",
       "\t<li>67</li>\n",
       "\t<li>22</li>\n",
       "\t<li>49</li>\n",
       "\t<li>45</li>\n",
       "\t<li>53</li>\n",
       "\t<li>35</li>\n",
       "</ol>\n"
      ],
      "text/latex": [
       "\\begin{enumerate*}\n",
       "\\item 67\n",
       "\\item 22\n",
       "\\item 49\n",
       "\\item 45\n",
       "\\item 53\n",
       "\\item 35\n",
       "\\end{enumerate*}\n"
      ],
      "text/markdown": [
       "1. 67\n",
       "2. 22\n",
       "3. 49\n",
       "4. 45\n",
       "5. 53\n",
       "6. 35\n",
       "\n",
       "\n"
      ],
      "text/plain": [
       "[1] 67 22 49 45 53 35"
      ]
     },
     "metadata": {},
     "output_type": "display_data"
    },
    {
     "data": {
      "text/html": [
       "<ol class=list-inline>\n",
       "\t<li>1000</li>\n",
       "\t<li>32</li>\n",
       "</ol>\n"
      ],
      "text/latex": [
       "\\begin{enumerate*}\n",
       "\\item 1000\n",
       "\\item 32\n",
       "\\end{enumerate*}\n"
      ],
      "text/markdown": [
       "1. 1000\n",
       "2. 32\n",
       "\n",
       "\n"
      ],
      "text/plain": [
       "[1] 1000   32"
      ]
     },
     "metadata": {},
     "output_type": "display_data"
    }
   ],
   "source": [
    "summary(mdData$AGE)\n",
    "head(mdData$AGE)\n",
    "dim(mdData)"
   ]
  },
  {
   "cell_type": "code",
   "execution_count": 11,
   "metadata": {},
   "outputs": [
    {
     "name": "stderr",
     "output_type": "stream",
     "text": [
      "Warning message:\n",
      "\"Removed 9 rows containing non-finite values (stat_bin).\""
     ]
    },
    {
     "data": {
      "image/png": "[encoded data removed]",
      "text/plain": [
       "plot without title"
      ]
     },
     "metadata": {},
     "output_type": "display_data"
    }
   ],
   "source": [
    "ggplot(data=mdData, aes(mdData$AGE)) + geom_histogram(breaks=seq(15, 80, by=5), col= \"black\", fill=\"steelblue\")"
   ]
  },
  {
   "cell_type": "code",
   "execution_count": 12,
   "metadata": {},
   "outputs": [
    {
     "data": {
      "text/html": [
       "<dl class=dl-horizontal>\n",
       "\t<dt>OBS#</dt>\n",
       "\t\t<dd>0</dd>\n",
       "\t<dt>CHK_ACCT</dt>\n",
       "\t\t<dd>0</dd>\n",
       "\t<dt>DURATION</dt>\n",
       "\t\t<dd>0</dd>\n",
       "\t<dt>HISTORY</dt>\n",
       "\t\t<dd>0</dd>\n",
       "\t<dt>NEW_CAR</dt>\n",
       "\t\t<dd>0</dd>\n",
       "\t<dt>USED_CAR</dt>\n",
       "\t\t<dd>0</dd>\n",
       "\t<dt>FURNITURE</dt>\n",
       "\t\t<dd>0</dd>\n",
       "\t<dt>Radio.TV</dt>\n",
       "\t\t<dd>0</dd>\n",
       "\t<dt>EDUCATION</dt>\n",
       "\t\t<dd>0</dd>\n",
       "\t<dt>RETRAINING</dt>\n",
       "\t\t<dd>0</dd>\n",
       "\t<dt>AMOUNT</dt>\n",
       "\t\t<dd>0</dd>\n",
       "\t<dt>SAV_ACCT</dt>\n",
       "\t\t<dd>0</dd>\n",
       "\t<dt>EMPLOYMENT</dt>\n",
       "\t\t<dd>0</dd>\n",
       "\t<dt>INSTALL_RATE</dt>\n",
       "\t\t<dd>0</dd>\n",
       "\t<dt>MALE_DIV</dt>\n",
       "\t\t<dd>0</dd>\n",
       "\t<dt>MALE_SINGLE</dt>\n",
       "\t\t<dd>0</dd>\n",
       "\t<dt>MALE_MAR_or_WID</dt>\n",
       "\t\t<dd>0</dd>\n",
       "\t<dt>CO-APPLICANT</dt>\n",
       "\t\t<dd>0</dd>\n",
       "\t<dt>GUARANTOR</dt>\n",
       "\t\t<dd>0</dd>\n",
       "\t<dt>PRESENT_RESIDENT</dt>\n",
       "\t\t<dd>0</dd>\n",
       "\t<dt>REAL_ESTATE</dt>\n",
       "\t\t<dd>0</dd>\n",
       "\t<dt>PROP_UNKN_NONE</dt>\n",
       "\t\t<dd>0</dd>\n",
       "\t<dt>AGE</dt>\n",
       "\t\t<dd>0</dd>\n",
       "\t<dt>OTHER_INSTALL</dt>\n",
       "\t\t<dd>0</dd>\n",
       "\t<dt>RENT</dt>\n",
       "\t\t<dd>0</dd>\n",
       "\t<dt>OWN_RES</dt>\n",
       "\t\t<dd>0</dd>\n",
       "\t<dt>NUM_CREDITS</dt>\n",
       "\t\t<dd>0</dd>\n",
       "\t<dt>JOB</dt>\n",
       "\t\t<dd>0</dd>\n",
       "\t<dt>NUM_DEPENDENTS</dt>\n",
       "\t\t<dd>0</dd>\n",
       "\t<dt>TELEPHONE</dt>\n",
       "\t\t<dd>0</dd>\n",
       "\t<dt>FOREIGN</dt>\n",
       "\t\t<dd>0</dd>\n",
       "\t<dt>RESPONSE</dt>\n",
       "\t\t<dd>0</dd>\n",
       "</dl>\n"
      ],
      "text/latex": [
       "\\begin{description*}\n",
       "\\item[OBS\\textbackslash{}\\#] 0\n",
       "\\item[CHK\\textbackslash{}\\_ACCT] 0\n",
       "\\item[DURATION] 0\n",
       "\\item[HISTORY] 0\n",
       "\\item[NEW\\textbackslash{}\\_CAR] 0\n",
       "\\item[USED\\textbackslash{}\\_CAR] 0\n",
       "\\item[FURNITURE] 0\n",
       "\\item[Radio.TV] 0\n",
       "\\item[EDUCATION] 0\n",
       "\\item[RETRAINING] 0\n",
       "\\item[AMOUNT] 0\n",
       "\\item[SAV\\textbackslash{}\\_ACCT] 0\n",
       "\\item[EMPLOYMENT] 0\n",
       "\\item[INSTALL\\textbackslash{}\\_RATE] 0\n",
       "\\item[MALE\\textbackslash{}\\_DIV] 0\n",
       "\\item[MALE\\textbackslash{}\\_SINGLE] 0\n",
       "\\item[MALE\\textbackslash{}\\_MAR\\textbackslash{}\\_or\\textbackslash{}\\_WID] 0\n",
       "\\item[CO-APPLICANT] 0\n",
       "\\item[GUARANTOR] 0\n",
       "\\item[PRESENT\\textbackslash{}\\_RESIDENT] 0\n",
       "\\item[REAL\\textbackslash{}\\_ESTATE] 0\n",
       "\\item[PROP\\textbackslash{}\\_UNKN\\textbackslash{}\\_NONE] 0\n",
       "\\item[AGE] 0\n",
       "\\item[OTHER\\textbackslash{}\\_INSTALL] 0\n",
       "\\item[RENT] 0\n",
       "\\item[OWN\\textbackslash{}\\_RES] 0\n",
       "\\item[NUM\\textbackslash{}\\_CREDITS] 0\n",
       "\\item[JOB] 0\n",
       "\\item[NUM\\textbackslash{}\\_DEPENDENTS] 0\n",
       "\\item[TELEPHONE] 0\n",
       "\\item[FOREIGN] 0\n",
       "\\item[RESPONSE] 0\n",
       "\\end{description*}\n"
      ],
      "text/markdown": [
       "OBS#\n",
       ":   0CHK_ACCT\n",
       ":   0DURATION\n",
       ":   0HISTORY\n",
       ":   0NEW_CAR\n",
       ":   0USED_CAR\n",
       ":   0FURNITURE\n",
       ":   0Radio.TV\n",
       ":   0EDUCATION\n",
       ":   0RETRAINING\n",
       ":   0AMOUNT\n",
       ":   0SAV_ACCT\n",
       ":   0EMPLOYMENT\n",
       ":   0INSTALL_RATE\n",
       ":   0MALE_DIV\n",
       ":   0MALE_SINGLE\n",
       ":   0MALE_MAR_or_WID\n",
       ":   0CO-APPLICANT\n",
       ":   0GUARANTOR\n",
       ":   0PRESENT_RESIDENT\n",
       ":   0REAL_ESTATE\n",
       ":   0PROP_UNKN_NONE\n",
       ":   0AGE\n",
       ":   0OTHER_INSTALL\n",
       ":   0RENT\n",
       ":   0OWN_RES\n",
       ":   0NUM_CREDITS\n",
       ":   0JOB\n",
       ":   0NUM_DEPENDENTS\n",
       ":   0TELEPHONE\n",
       ":   0FOREIGN\n",
       ":   0RESPONSE\n",
       ":   0\n",
       "\n"
      ],
      "text/plain": [
       "            OBS#         CHK_ACCT         DURATION          HISTORY \n",
       "               0                0                0                0 \n",
       "         NEW_CAR         USED_CAR        FURNITURE         Radio.TV \n",
       "               0                0                0                0 \n",
       "       EDUCATION       RETRAINING           AMOUNT         SAV_ACCT \n",
       "               0                0                0                0 \n",
       "      EMPLOYMENT     INSTALL_RATE         MALE_DIV      MALE_SINGLE \n",
       "               0                0                0                0 \n",
       " MALE_MAR_or_WID     CO-APPLICANT        GUARANTOR PRESENT_RESIDENT \n",
       "               0                0                0                0 \n",
       "     REAL_ESTATE   PROP_UNKN_NONE              AGE    OTHER_INSTALL \n",
       "               0                0                0                0 \n",
       "            RENT          OWN_RES      NUM_CREDITS              JOB \n",
       "               0                0                0                0 \n",
       "  NUM_DEPENDENTS        TELEPHONE          FOREIGN         RESPONSE \n",
       "               0                0                0                0 "
      ]
     },
     "metadata": {},
     "output_type": "display_data"
    },
    {
     "data": {
      "text/plain": [
       "   Min. 1st Qu.  Median    Mean 3rd Qu.    Max. \n",
       "  19.00   27.00   33.00   35.46   42.00   75.00 "
      ]
     },
     "metadata": {},
     "output_type": "display_data"
    }
   ],
   "source": [
    "mdData$AGE[is.na(mdData$AGE)] <- round(median(mdData$AGE, na.rm = TRUE))\n",
    "\n",
    "colSums(is.na(mdData))\n",
    "summary(mdData$AGE)"
   ]
  },
  {
   "cell_type": "code",
   "execution_count": 13,
   "metadata": {},
   "outputs": [
    {
     "name": "stdout",
     "output_type": "stream",
     "text": [
      "Classes 'tbl_df', 'tbl' and 'data.frame':\t1000 obs. of  32 variables:\n",
      " $ OBS#            : num  1 2 3 4 5 6 7 8 9 10 ...\n",
      " $ CHK_ACCT        : num  0 1 3 0 0 3 3 1 3 1 ...\n",
      " $ DURATION        : num  6 48 12 42 24 36 24 36 12 30 ...\n",
      " $ HISTORY         : num  4 2 4 2 3 2 2 2 2 4 ...\n",
      " $ NEW_CAR         : num  0 0 0 0 1 0 0 0 0 1 ...\n",
      " $ USED_CAR        : num  0 0 0 0 0 0 0 1 0 0 ...\n",
      " $ FURNITURE       : num  0 0 0 1 0 0 1 0 0 0 ...\n",
      " $ Radio.TV        : num  1 1 0 0 0 0 0 0 1 0 ...\n",
      " $ EDUCATION       : num  0 0 1 0 0 1 0 0 0 0 ...\n",
      " $ RETRAINING      : num  0 0 0 0 0 0 0 0 0 0 ...\n",
      " $ AMOUNT          : num  1169 5951 2096 7882 4870 ...\n",
      " $ SAV_ACCT        : num  4 0 0 0 0 4 2 0 3 0 ...\n",
      " $ EMPLOYMENT      : num  4 2 3 3 2 2 4 2 3 0 ...\n",
      " $ INSTALL_RATE    : num  4 2 2 2 3 2 3 2 2 4 ...\n",
      " $ MALE_DIV        : num  0 0 0 0 0 0 0 0 1 0 ...\n",
      " $ MALE_SINGLE     : num  1 0 1 1 1 1 1 1 0 0 ...\n",
      " $ MALE_MAR_or_WID : num  0 0 0 0 0 0 0 0 0 1 ...\n",
      " $ CO-APPLICANT    : num  0 0 0 0 0 0 0 0 0 0 ...\n",
      " $ GUARANTOR       : num  0 0 0 1 0 0 0 0 0 0 ...\n",
      " $ PRESENT_RESIDENT: num  4 2 3 4 4 4 4 2 4 2 ...\n",
      " $ REAL_ESTATE     : num  1 1 1 0 0 0 0 0 1 0 ...\n",
      " $ PROP_UNKN_NONE  : num  0 0 0 0 1 1 0 0 0 0 ...\n",
      " $ AGE             : num  67 22 49 45 53 35 33 35 61 28 ...\n",
      " $ OTHER_INSTALL   : num  0 0 0 0 0 0 0 0 0 0 ...\n",
      " $ RENT            : num  0 0 0 0 0 0 0 1 0 0 ...\n",
      " $ OWN_RES         : num  1 1 1 0 0 0 1 0 1 1 ...\n",
      " $ NUM_CREDITS     : num  2 1 1 1 2 1 1 1 1 2 ...\n",
      " $ JOB             : num  2 2 1 2 2 1 2 3 1 3 ...\n",
      " $ NUM_DEPENDENTS  : num  1 1 2 2 2 2 1 1 1 1 ...\n",
      " $ TELEPHONE       : num  1 0 0 0 0 1 0 1 0 0 ...\n",
      " $ FOREIGN         : num  0 0 0 0 0 0 0 0 0 0 ...\n",
      " $ RESPONSE        : num  1 0 1 1 0 1 1 1 1 0 ...\n"
     ]
    },
    {
     "data": {
      "text/html": [
       "<ol class=list-inline>\n",
       "\t<li>'OBS#'</li>\n",
       "\t<li>'CHK_ACCT'</li>\n",
       "\t<li>'DURATION'</li>\n",
       "\t<li>'HISTORY'</li>\n",
       "\t<li>'NEW_CAR'</li>\n",
       "\t<li>'USED_CAR'</li>\n",
       "\t<li>'FURNITURE'</li>\n",
       "\t<li>'Radio.TV'</li>\n",
       "\t<li>'EDUCATION'</li>\n",
       "\t<li>'RETRAINING'</li>\n",
       "\t<li>'AMOUNT'</li>\n",
       "\t<li>'SAV_ACCT'</li>\n",
       "\t<li>'EMPLOYMENT'</li>\n",
       "\t<li>'INSTALL_RATE'</li>\n",
       "\t<li>'MALE_DIV'</li>\n",
       "\t<li>'MALE_SINGLE'</li>\n",
       "\t<li>'MALE_MAR_or_WID'</li>\n",
       "\t<li>'CO-APPLICANT'</li>\n",
       "\t<li>'GUARANTOR'</li>\n",
       "\t<li>'PRESENT_RESIDENT'</li>\n",
       "\t<li>'REAL_ESTATE'</li>\n",
       "\t<li>'PROP_UNKN_NONE'</li>\n",
       "\t<li>'AGE'</li>\n",
       "\t<li>'OTHER_INSTALL'</li>\n",
       "\t<li>'RENT'</li>\n",
       "\t<li>'OWN_RES'</li>\n",
       "\t<li>'NUM_CREDITS'</li>\n",
       "\t<li>'JOB'</li>\n",
       "\t<li>'NUM_DEPENDENTS'</li>\n",
       "\t<li>'TELEPHONE'</li>\n",
       "\t<li>'FOREIGN'</li>\n",
       "\t<li>'RESPONSE'</li>\n",
       "</ol>\n"
      ],
      "text/latex": [
       "\\begin{enumerate*}\n",
       "\\item 'OBS\\#'\n",
       "\\item 'CHK\\_ACCT'\n",
       "\\item 'DURATION'\n",
       "\\item 'HISTORY'\n",
       "\\item 'NEW\\_CAR'\n",
       "\\item 'USED\\_CAR'\n",
       "\\item 'FURNITURE'\n",
       "\\item 'Radio.TV'\n",
       "\\item 'EDUCATION'\n",
       "\\item 'RETRAINING'\n",
       "\\item 'AMOUNT'\n",
       "\\item 'SAV\\_ACCT'\n",
       "\\item 'EMPLOYMENT'\n",
       "\\item 'INSTALL\\_RATE'\n",
       "\\item 'MALE\\_DIV'\n",
       "\\item 'MALE\\_SINGLE'\n",
       "\\item 'MALE\\_MAR\\_or\\_WID'\n",
       "\\item 'CO-APPLICANT'\n",
       "\\item 'GUARANTOR'\n",
       "\\item 'PRESENT\\_RESIDENT'\n",
       "\\item 'REAL\\_ESTATE'\n",
       "\\item 'PROP\\_UNKN\\_NONE'\n",
       "\\item 'AGE'\n",
       "\\item 'OTHER\\_INSTALL'\n",
       "\\item 'RENT'\n",
       "\\item 'OWN\\_RES'\n",
       "\\item 'NUM\\_CREDITS'\n",
       "\\item 'JOB'\n",
       "\\item 'NUM\\_DEPENDENTS'\n",
       "\\item 'TELEPHONE'\n",
       "\\item 'FOREIGN'\n",
       "\\item 'RESPONSE'\n",
       "\\end{enumerate*}\n"
      ],
      "text/markdown": [
       "1. 'OBS#'\n",
       "2. 'CHK_ACCT'\n",
       "3. 'DURATION'\n",
       "4. 'HISTORY'\n",
       "5. 'NEW_CAR'\n",
       "6. 'USED_CAR'\n",
       "7. 'FURNITURE'\n",
       "8. 'Radio.TV'\n",
       "9. 'EDUCATION'\n",
       "10. 'RETRAINING'\n",
       "11. 'AMOUNT'\n",
       "12. 'SAV_ACCT'\n",
       "13. 'EMPLOYMENT'\n",
       "14. 'INSTALL_RATE'\n",
       "15. 'MALE_DIV'\n",
       "16. 'MALE_SINGLE'\n",
       "17. 'MALE_MAR_or_WID'\n",
       "18. 'CO-APPLICANT'\n",
       "19. 'GUARANTOR'\n",
       "20. 'PRESENT_RESIDENT'\n",
       "21. 'REAL_ESTATE'\n",
       "22. 'PROP_UNKN_NONE'\n",
       "23. 'AGE'\n",
       "24. 'OTHER_INSTALL'\n",
       "25. 'RENT'\n",
       "26. 'OWN_RES'\n",
       "27. 'NUM_CREDITS'\n",
       "28. 'JOB'\n",
       "29. 'NUM_DEPENDENTS'\n",
       "30. 'TELEPHONE'\n",
       "31. 'FOREIGN'\n",
       "32. 'RESPONSE'\n",
       "\n",
       "\n"
      ],
      "text/plain": [
       " [1] \"OBS#\"             \"CHK_ACCT\"         \"DURATION\"         \"HISTORY\"         \n",
       " [5] \"NEW_CAR\"          \"USED_CAR\"         \"FURNITURE\"        \"Radio.TV\"        \n",
       " [9] \"EDUCATION\"        \"RETRAINING\"       \"AMOUNT\"           \"SAV_ACCT\"        \n",
       "[13] \"EMPLOYMENT\"       \"INSTALL_RATE\"     \"MALE_DIV\"         \"MALE_SINGLE\"     \n",
       "[17] \"MALE_MAR_or_WID\"  \"CO-APPLICANT\"     \"GUARANTOR\"        \"PRESENT_RESIDENT\"\n",
       "[21] \"REAL_ESTATE\"      \"PROP_UNKN_NONE\"   \"AGE\"              \"OTHER_INSTALL\"   \n",
       "[25] \"RENT\"             \"OWN_RES\"          \"NUM_CREDITS\"      \"JOB\"             \n",
       "[29] \"NUM_DEPENDENTS\"   \"TELEPHONE\"        \"FOREIGN\"          \"RESPONSE\"        "
      ]
     },
     "metadata": {},
     "output_type": "display_data"
    }
   ],
   "source": [
    "dataset <- mdData\n",
    "str(dataset)\n",
    "colnames(dataset)"
   ]
  },
  {
   "cell_type": "code",
   "execution_count": 14,
   "metadata": {},
   "outputs": [
    {
     "data": {
      "text/html": [
       "2"
      ],
      "text/latex": [
       "2"
      ],
      "text/markdown": [
       "2"
      ],
      "text/plain": [
       "[1] 2"
      ]
     },
     "metadata": {},
     "output_type": "display_data"
    },
    {
     "data": {
      "text/html": [
       "4"
      ],
      "text/latex": [
       "4"
      ],
      "text/markdown": [
       "4"
      ],
      "text/plain": [
       "[1] 4"
      ]
     },
     "metadata": {},
     "output_type": "display_data"
    }
   ],
   "source": [
    "max(mdData$NUM_DEPENDENTS)\n",
    "max(mdData$NUM_CREDITS)"
   ]
  },
  {
   "cell_type": "code",
   "execution_count": 15,
   "metadata": {},
   "outputs": [
    {
     "data": {
      "text/html": [
       "<dl class=dl-horizontal>\n",
       "\t<dt>OBS#</dt>\n",
       "\t\t<dd>'numeric'</dd>\n",
       "\t<dt>CHK_ACCT</dt>\n",
       "\t\t<dd>'factor'</dd>\n",
       "\t<dt>DURATION</dt>\n",
       "\t\t<dd>'numeric'</dd>\n",
       "\t<dt>HISTORY</dt>\n",
       "\t\t<dd>'factor'</dd>\n",
       "\t<dt>NEW_CAR</dt>\n",
       "\t\t<dd>'factor'</dd>\n",
       "\t<dt>USED_CAR</dt>\n",
       "\t\t<dd>'factor'</dd>\n",
       "\t<dt>FURNITURE</dt>\n",
       "\t\t<dd>'factor'</dd>\n",
       "\t<dt>Radio.TV</dt>\n",
       "\t\t<dd>'factor'</dd>\n",
       "\t<dt>EDUCATION</dt>\n",
       "\t\t<dd>'factor'</dd>\n",
       "\t<dt>RETRAINING</dt>\n",
       "\t\t<dd>'factor'</dd>\n",
       "\t<dt>AMOUNT</dt>\n",
       "\t\t<dd>'numeric'</dd>\n",
       "\t<dt>SAV_ACCT</dt>\n",
       "\t\t<dd>'factor'</dd>\n",
       "\t<dt>EMPLOYMENT</dt>\n",
       "\t\t<dd>'factor'</dd>\n",
       "\t<dt>INSTALL_RATE</dt>\n",
       "\t\t<dd>'factor'</dd>\n",
       "\t<dt>MALE_DIV</dt>\n",
       "\t\t<dd>'factor'</dd>\n",
       "\t<dt>MALE_SINGLE</dt>\n",
       "\t\t<dd>'factor'</dd>\n",
       "\t<dt>MALE_MAR_or_WID</dt>\n",
       "\t\t<dd>'factor'</dd>\n",
       "\t<dt>CO-APPLICANT</dt>\n",
       "\t\t<dd>'factor'</dd>\n",
       "\t<dt>GUARANTOR</dt>\n",
       "\t\t<dd>'factor'</dd>\n",
       "\t<dt>PRESENT_RESIDENT</dt>\n",
       "\t\t<dd>'factor'</dd>\n",
       "\t<dt>REAL_ESTATE</dt>\n",
       "\t\t<dd>'factor'</dd>\n",
       "\t<dt>PROP_UNKN_NONE</dt>\n",
       "\t\t<dd>'factor'</dd>\n",
       "\t<dt>AGE</dt>\n",
       "\t\t<dd>'numeric'</dd>\n",
       "\t<dt>OTHER_INSTALL</dt>\n",
       "\t\t<dd>'factor'</dd>\n",
       "\t<dt>RENT</dt>\n",
       "\t\t<dd>'factor'</dd>\n",
       "\t<dt>OWN_RES</dt>\n",
       "\t\t<dd>'factor'</dd>\n",
       "\t<dt>NUM_CREDITS</dt>\n",
       "\t\t<dd>'factor'</dd>\n",
       "\t<dt>JOB</dt>\n",
       "\t\t<dd>'factor'</dd>\n",
       "\t<dt>NUM_DEPENDENTS</dt>\n",
       "\t\t<dd>'factor'</dd>\n",
       "\t<dt>TELEPHONE</dt>\n",
       "\t\t<dd>'factor'</dd>\n",
       "\t<dt>FOREIGN</dt>\n",
       "\t\t<dd>'factor'</dd>\n",
       "\t<dt>RESPONSE</dt>\n",
       "\t\t<dd>'factor'</dd>\n",
       "</dl>\n"
      ],
      "text/latex": [
       "\\begin{description*}\n",
       "\\item[OBS\\textbackslash{}\\#] 'numeric'\n",
       "\\item[CHK\\textbackslash{}\\_ACCT] 'factor'\n",
       "\\item[DURATION] 'numeric'\n",
       "\\item[HISTORY] 'factor'\n",
       "\\item[NEW\\textbackslash{}\\_CAR] 'factor'\n",
       "\\item[USED\\textbackslash{}\\_CAR] 'factor'\n",
       "\\item[FURNITURE] 'factor'\n",
       "\\item[Radio.TV] 'factor'\n",
       "\\item[EDUCATION] 'factor'\n",
       "\\item[RETRAINING] 'factor'\n",
       "\\item[AMOUNT] 'numeric'\n",
       "\\item[SAV\\textbackslash{}\\_ACCT] 'factor'\n",
       "\\item[EMPLOYMENT] 'factor'\n",
       "\\item[INSTALL\\textbackslash{}\\_RATE] 'factor'\n",
       "\\item[MALE\\textbackslash{}\\_DIV] 'factor'\n",
       "\\item[MALE\\textbackslash{}\\_SINGLE] 'factor'\n",
       "\\item[MALE\\textbackslash{}\\_MAR\\textbackslash{}\\_or\\textbackslash{}\\_WID] 'factor'\n",
       "\\item[CO-APPLICANT] 'factor'\n",
       "\\item[GUARANTOR] 'factor'\n",
       "\\item[PRESENT\\textbackslash{}\\_RESIDENT] 'factor'\n",
       "\\item[REAL\\textbackslash{}\\_ESTATE] 'factor'\n",
       "\\item[PROP\\textbackslash{}\\_UNKN\\textbackslash{}\\_NONE] 'factor'\n",
       "\\item[AGE] 'numeric'\n",
       "\\item[OTHER\\textbackslash{}\\_INSTALL] 'factor'\n",
       "\\item[RENT] 'factor'\n",
       "\\item[OWN\\textbackslash{}\\_RES] 'factor'\n",
       "\\item[NUM\\textbackslash{}\\_CREDITS] 'factor'\n",
       "\\item[JOB] 'factor'\n",
       "\\item[NUM\\textbackslash{}\\_DEPENDENTS] 'factor'\n",
       "\\item[TELEPHONE] 'factor'\n",
       "\\item[FOREIGN] 'factor'\n",
       "\\item[RESPONSE] 'factor'\n",
       "\\end{description*}\n"
      ],
      "text/markdown": [
       "OBS#\n",
       ":   'numeric'CHK_ACCT\n",
       ":   'factor'DURATION\n",
       ":   'numeric'HISTORY\n",
       ":   'factor'NEW_CAR\n",
       ":   'factor'USED_CAR\n",
       ":   'factor'FURNITURE\n",
       ":   'factor'Radio.TV\n",
       ":   'factor'EDUCATION\n",
       ":   'factor'RETRAINING\n",
       ":   'factor'AMOUNT\n",
       ":   'numeric'SAV_ACCT\n",
       ":   'factor'EMPLOYMENT\n",
       ":   'factor'INSTALL_RATE\n",
       ":   'factor'MALE_DIV\n",
       ":   'factor'MALE_SINGLE\n",
       ":   'factor'MALE_MAR_or_WID\n",
       ":   'factor'CO-APPLICANT\n",
       ":   'factor'GUARANTOR\n",
       ":   'factor'PRESENT_RESIDENT\n",
       ":   'factor'REAL_ESTATE\n",
       ":   'factor'PROP_UNKN_NONE\n",
       ":   'factor'AGE\n",
       ":   'numeric'OTHER_INSTALL\n",
       ":   'factor'RENT\n",
       ":   'factor'OWN_RES\n",
       ":   'factor'NUM_CREDITS\n",
       ":   'factor'JOB\n",
       ":   'factor'NUM_DEPENDENTS\n",
       ":   'factor'TELEPHONE\n",
       ":   'factor'FOREIGN\n",
       ":   'factor'RESPONSE\n",
       ":   'factor'\n",
       "\n"
      ],
      "text/plain": [
       "            OBS#         CHK_ACCT         DURATION          HISTORY \n",
       "       \"numeric\"         \"factor\"        \"numeric\"         \"factor\" \n",
       "         NEW_CAR         USED_CAR        FURNITURE         Radio.TV \n",
       "        \"factor\"         \"factor\"         \"factor\"         \"factor\" \n",
       "       EDUCATION       RETRAINING           AMOUNT         SAV_ACCT \n",
       "        \"factor\"         \"factor\"        \"numeric\"         \"factor\" \n",
       "      EMPLOYMENT     INSTALL_RATE         MALE_DIV      MALE_SINGLE \n",
       "        \"factor\"         \"factor\"         \"factor\"         \"factor\" \n",
       " MALE_MAR_or_WID     CO-APPLICANT        GUARANTOR PRESENT_RESIDENT \n",
       "        \"factor\"         \"factor\"         \"factor\"         \"factor\" \n",
       "     REAL_ESTATE   PROP_UNKN_NONE              AGE    OTHER_INSTALL \n",
       "        \"factor\"         \"factor\"        \"numeric\"         \"factor\" \n",
       "            RENT          OWN_RES      NUM_CREDITS              JOB \n",
       "        \"factor\"         \"factor\"         \"factor\"         \"factor\" \n",
       "  NUM_DEPENDENTS        TELEPHONE          FOREIGN         RESPONSE \n",
       "        \"factor\"         \"factor\"         \"factor\"         \"factor\" "
      ]
     },
     "metadata": {},
     "output_type": "display_data"
    }
   ],
   "source": [
    "#removing these numeric columns to extract all other factor columns.\n",
    "col<-dataset[-c(1,3,11,23)]\n",
    "\n",
    "colnames<-names(col)\n",
    "dataset[colnames]<-lapply(dataset[colnames],factor)\n",
    "sapply(dataset,class)"
   ]
  },
  {
   "cell_type": "code",
   "execution_count": 21,
   "metadata": {},
   "outputs": [],
   "source": [
    "options(repr.plot.width = 4, repr.plot.height = 3)"
   ]
  },
  {
   "cell_type": "code",
   "execution_count": 23,
   "metadata": {},
   "outputs": [
    {
     "data": {
      "text/plain": [
       "\n",
       "  0   1 \n",
       "300 700 "
      ]
     },
     "metadata": {},
     "output_type": "display_data"
    },
    {
     "data": {
      "image/png": "[encoded data removed]",
      "text/plain": [
       "plot without title"
      ]
     },
     "metadata": {},
     "output_type": "display_data"
    }
   ],
   "source": [
    "tab <- table(dataset$RESPONSE)\n",
    "tab\n",
    "barplot(prop.table(tab), xlab = \"Response\", ylab = \"Proportion\")"
   ]
  },
  {
   "cell_type": "code",
   "execution_count": 24,
   "metadata": {},
   "outputs": [
    {
     "data": {
      "text/html": [
       "<table>\n",
       "<thead><tr><th scope=col>RESPONSE</th><th scope=col>count</th><th scope=col>Proportion</th></tr></thead>\n",
       "<tbody>\n",
       "\t<tr><td>0  </td><td>300</td><td>0.3</td></tr>\n",
       "\t<tr><td>1  </td><td>700</td><td>0.7</td></tr>\n",
       "</tbody>\n",
       "</table>\n"
      ],
      "text/latex": [
       "\\begin{tabular}{r|lll}\n",
       " RESPONSE & count & Proportion\\\\\n",
       "\\hline\n",
       "\t 0   & 300 & 0.3\\\\\n",
       "\t 1   & 700 & 0.7\\\\\n",
       "\\end{tabular}\n"
      ],
      "text/markdown": [
       "\n",
       "| RESPONSE | count | Proportion |\n",
       "|---|---|---|\n",
       "| 0   | 300 | 0.3 |\n",
       "| 1   | 700 | 0.7 |\n",
       "\n"
      ],
      "text/plain": [
       "  RESPONSE count Proportion\n",
       "1 0        300   0.3       \n",
       "2 1        700   0.7       "
      ]
     },
     "metadata": {},
     "output_type": "display_data"
    },
    {
     "data": {
      "image/png": "[encoded data removed]",
      "text/plain": [
       "plot without title"
      ]
     },
     "metadata": {},
     "output_type": "display_data"
    }
   ],
   "source": [
    "tmp<-dataset%>% \n",
    "  group_by(RESPONSE) %>%\n",
    "  summarise(count = n()) %>%\n",
    "  mutate(Proportion = count/sum(count))\n",
    "\n",
    "tmp\n",
    "\n",
    "# Barchart in ggplot\n",
    "p <- tmp %>% ggplot(aes(x=RESPONSE,y = Proportion, fill=RESPONSE))+ geom_bar(stat=\"identity\")\n",
    "p"
   ]
  },
  {
   "cell_type": "markdown",
   "metadata": {},
   "source": [
    "#### Distribution of Age"
   ]
  },
  {
   "cell_type": "code",
   "execution_count": 25,
   "metadata": {},
   "outputs": [
    {
     "data": {
      "image/png": "[encoded data removed]",
      "text/plain": [
       "plot without title"
      ]
     },
     "metadata": {},
     "output_type": "display_data"
    }
   ],
   "source": [
    "ggplot(data=mdData, aes(mdData$AGE)) + geom_histogram(breaks=seq(15, 80, by=5), col= \"black\", fill=\"steelblue\")"
   ]
  },
  {
   "cell_type": "markdown",
   "metadata": {},
   "source": [
    "#### Distribution of Duration"
   ]
  },
  {
   "cell_type": "code",
   "execution_count": 26,
   "metadata": {},
   "outputs": [
    {
     "data": {
      "image/png": "[encoded data removed]",
      "text/plain": [
       "plot without title"
      ]
     },
     "metadata": {},
     "output_type": "display_data"
    }
   ],
   "source": [
    "ggplot(data=mdData, aes(mdData$DURATION)) + geom_histogram(breaks=seq(0, 80, by=10), col= \"black\", fill=\"steelblue\")"
   ]
  },
  {
   "cell_type": "markdown",
   "metadata": {},
   "source": [
    "#### Distribution of Amount"
   ]
  },
  {
   "cell_type": "code",
   "execution_count": 27,
   "metadata": {},
   "outputs": [
    {
     "data": {
      "image/png": "[encoded data removed]",
      "text/plain": [
       "plot without title"
      ]
     },
     "metadata": {},
     "output_type": "display_data"
    }
   ],
   "source": [
    "ggplot(data=mdData, aes(mdData$AMOUNT)) + geom_histogram(breaks=seq(250, 20000, by=500), col= \"black\", fill=\"steelblue\")"
   ]
  },
  {
   "cell_type": "markdown",
   "metadata": {},
   "source": [
    "### Bivariate Analysis: Categorical variables\n",
    "#### Response against History"
   ]
  },
  {
   "cell_type": "code",
   "execution_count": 37,
   "metadata": {},
   "outputs": [
    {
     "data": {
      "text/plain": [
       "   \n",
       "      0   1\n",
       "  0  25  15\n",
       "  1  28  21\n",
       "  2 169 361\n",
       "  3  28  60\n",
       "  4  50 243"
      ]
     },
     "metadata": {},
     "output_type": "display_data"
    },
    {
     "data": {
      "text/plain": [
       "                    \n",
       "                           Bad      Good\n",
       "  No Credits         0.6250000 0.3750000\n",
       "  All paid back      0.5714286 0.4285714\n",
       "  Existing paid back 0.3188679 0.6811321\n",
       "  Delay in payback   0.3181818 0.6818182\n",
       "  Critical acc       0.1706485 0.8293515"
      ]
     },
     "metadata": {},
     "output_type": "display_data"
    },
    {
     "data": {
      "image/png": "[encoded data removed]",
      "text/plain": [
       "plot without title"
      ]
     },
     "metadata": {},
     "output_type": "display_data"
    }
   ],
   "source": [
    "table(dataset$HISTORY, dataset$RESPONSE)\n",
    "prop <- prop.table(table(dataset$HISTORY, dataset$RESPONSE), 1)\n",
    "\n",
    "colnames(prop) <- c(\"Bad\", \"Good\")\n",
    "rownames(prop) <- c(\"No Credits\", \"All paid back\", \"Existing paid back\", \"Delay in payback\", \"Critical acc\")\n",
    "prop\n",
    "\n",
    "options(repr.plot.width = 8, repr.plot.height = 4)\n",
    "dat <- data.frame(prop)\n",
    "names(dat) <- c(\"HISTORY\", \"RESPONSE\", \"Proportion\")\n",
    "ggplot(data=dat, aes(x=HISTORY, y=Proportion, fill=RESPONSE)) + geom_bar(stat=\"identity\")"
   ]
  },
  {
   "cell_type": "code",
   "execution_count": 38,
   "metadata": {},
   "outputs": [
    {
     "data": {
      "text/plain": [
       "\n",
       "  0   1   2   3   4 \n",
       " 62 172 339 174 253 "
      ]
     },
     "metadata": {},
     "output_type": "display_data"
    },
    {
     "data": {
      "text/plain": [
       "                 \n",
       "                        Bad      Good\n",
       "  Unemployed      0.3709677 0.6290323\n",
       "  Less than 1 yr  0.4069767 0.5930233\n",
       "  1-4 yrs         0.3067847 0.6932153\n",
       "  4-7 yrs         0.2241379 0.7758621\n",
       "  More than 7 yrs 0.2529644 0.7470356"
      ]
     },
     "metadata": {},
     "output_type": "display_data"
    },
    {
     "data": {
      "image/png": "[encoded data removed]",
      "text/plain": [
       "plot without title"
      ]
     },
     "metadata": {},
     "output_type": "display_data"
    }
   ],
   "source": [
    "table(dataset$EMPLOYMENT)\n",
    "prop <- prop.table(table(dataset$EMPLOYMENT, dataset$RESPONSE), 1)\n",
    "\n",
    "colnames(prop) <- c(\"Bad\", \"Good\")\n",
    "rownames(prop) <- c(\"Unemployed\", \"Less than 1 yr\", \"1-4 yrs\", \"4-7 yrs\", \"More than 7 yrs\")\n",
    "prop\n",
    "\n",
    "dat <- data.frame(prop)\n",
    "names(dat) <- c(\"EMPLOYMENT\", \"RESPONSE\", \"Proportion\")\n",
    "ggplot(data=dat, aes(x=EMPLOYMENT, y=Proportion, fill=RESPONSE)) + geom_bar(stat=\"identity\")"
   ]
  },
  {
   "cell_type": "code",
   "execution_count": 40,
   "metadata": {},
   "outputs": [
    {
     "data": {
      "text/plain": [
       "\n",
       "  0   1 \n",
       "948  52 "
      ]
     },
     "metadata": {},
     "output_type": "display_data"
    },
    {
     "data": {
      "text/plain": [
       "     \n",
       "            Bad      Good\n",
       "  No  0.3059072 0.6940928\n",
       "  Yes 0.1923077 0.8076923"
      ]
     },
     "metadata": {},
     "output_type": "display_data"
    },
    {
     "data": {
      "image/png": "[encoded data removed]",
      "text/plain": [
       "plot without title"
      ]
     },
     "metadata": {},
     "output_type": "display_data"
    }
   ],
   "source": [
    "table(dataset$GUARANTOR)\n",
    "prop <- prop.table(table(dataset$GUARANTOR, dataset$RESPONSE), 1)\n",
    "colnames(prop) <- c(\"Bad\", \"Good\")\n",
    "rownames(prop) <- c(\"No\", \"Yes\")\n",
    "prop\n",
    "\n",
    "dat <- data.frame(prop)\n",
    "names(dat) <- c(\"GUARANTOR\", \"RESPONSE\", \"Proportion\")\n",
    "options(repr.plot.width = 4, repr.plot.height = 3)\n",
    "ggplot(data=dat, aes(x=GUARANTOR, y=Proportion, fill=RESPONSE)) + geom_bar(stat=\"identity\")"
   ]
  },
  {
   "cell_type": "code",
   "execution_count": 41,
   "metadata": {},
   "outputs": [
    {
     "data": {
      "text/plain": [
       "\n",
       "  0   1 \n",
       "718 282 "
      ]
     },
     "metadata": {},
     "output_type": "display_data"
    },
    {
     "data": {
      "text/plain": [
       "     \n",
       "            Bad      Good\n",
       "  No  0.3342618 0.6657382\n",
       "  Yes 0.2127660 0.7872340"
      ]
     },
     "metadata": {},
     "output_type": "display_data"
    },
    {
     "data": {
      "image/png": "[encoded data removed]",
      "text/plain": [
       "plot without title"
      ]
     },
     "metadata": {},
     "output_type": "display_data"
    }
   ],
   "source": [
    "table(dataset$REAL_ESTATE)\n",
    "prop <- prop.table(table(dataset$REAL_ESTATE, dataset$RESPONSE), 1)\n",
    "\n",
    "colnames(prop) <- c(\"Bad\", \"Good\")\n",
    "rownames(prop) <- c(\"No\", \"Yes\")\n",
    "prop\n",
    "\n",
    "dat <- data.frame(prop)\n",
    "names(dat) <- c(\"REAL_ESTATE\", \"RESPONSE\", \"Proportion\")\n",
    "ggplot(data=dat, aes(x=REAL_ESTATE, y=Proportion, fill=RESPONSE)) + geom_bar(stat=\"identity\")"
   ]
  },
  {
   "cell_type": "code",
   "execution_count": 42,
   "metadata": {},
   "outputs": [
    {
     "data": {
      "text/plain": [
       "\n",
       "  0   1   2   3 \n",
       "274 269  63 394 "
      ]
     },
     "metadata": {},
     "output_type": "display_data"
    },
    {
     "data": {
      "text/plain": [
       "                     \n",
       "                            Bad      Good\n",
       "  Less than 0 DM      0.4927007 0.5072993\n",
       "  1 DM to 200 DM      0.3903346 0.6096654\n",
       "  Above 200 DM        0.2222222 0.7777778\n",
       "  No Checking Account 0.1167513 0.8832487"
      ]
     },
     "metadata": {},
     "output_type": "display_data"
    },
    {
     "data": {
      "image/png": "[encoded data removed]",
      "text/plain": [
       "plot without title"
      ]
     },
     "metadata": {},
     "output_type": "display_data"
    }
   ],
   "source": [
    "table(dataset$CHK_ACCT)\n",
    "prop <- prop.table(table(dataset$CHK_ACCT, dataset$RESPONSE), 1)\n",
    "colnames(prop) <- c(\"Bad\", \"Good\")\n",
    "rownames(prop) <- c(\"Less than 0 DM\", \"1 DM to 200 DM\", \"Above 200 DM\", \"No Checking Account\")\n",
    "prop\n",
    "\n",
    "dat <- data.frame(prop)\n",
    "names(dat) <- c(\"Checking_Account_status\", \"RESPONSE\", \"Proportion\")\n",
    "options(repr.plot.width = 8, repr.plot.height = 4)\n",
    "ggplot(data=dat, aes(x=Checking_Account_status, y=Proportion, fill=RESPONSE)) + geom_bar(stat=\"identity\")"
   ]
  },
  {
   "cell_type": "code",
   "execution_count": 44,
   "metadata": {},
   "outputs": [
    {
     "data": {
      "image/png": "[encoded data removed]",
      "text/plain": [
       "plot without title"
      ]
     },
     "metadata": {},
     "output_type": "display_data"
    }
   ],
   "source": [
    "options(repr.plot.width = 4, repr.plot.height = 3)\n",
    "ggplot(data=dataset, aes(x=RESPONSE, y=AGE, fill=RESPONSE)) + geom_boxplot()"
   ]
  },
  {
   "cell_type": "code",
   "execution_count": 45,
   "metadata": {},
   "outputs": [
    {
     "data": {
      "image/png": "[encoded data removed]",
      "text/plain": [
       "plot without title"
      ]
     },
     "metadata": {},
     "output_type": "display_data"
    }
   ],
   "source": [
    "ggplot(data=dataset, aes(x=RESPONSE, y=DURATION, fill=RESPONSE)) + geom_boxplot()"
   ]
  },
  {
   "cell_type": "code",
   "execution_count": 46,
   "metadata": {},
   "outputs": [
    {
     "data": {
      "image/png": "[encoded data removed]",
      "text/plain": [
       "plot without title"
      ]
     },
     "metadata": {},
     "output_type": "display_data"
    }
   ],
   "source": [
    "ggplot(data=dataset, aes(x=RESPONSE, y=AMOUNT, fill=RESPONSE)) + geom_boxplot()"
   ]
  },
  {
   "cell_type": "code",
   "execution_count": 47,
   "metadata": {},
   "outputs": [
    {
     "data": {
      "image/png": "[encoded data removed]",
      "text/plain": [
       "Plot with title \"\""
      ]
     },
     "metadata": {},
     "output_type": "display_data"
    }
   ],
   "source": [
    "correlation_Spearman<-cor(subset(dataset, select =  c(3,11,23)), use=\"complete.obs\", method=\"spearman\")\n",
    "corrplot(correlation_Spearman,method= \"circle\",tl.cex = 0.8,tl.offset = 1.5,number.cex = 0.7,type = 'upper')"
   ]
  },
  {
   "cell_type": "markdown",
   "metadata": {},
   "source": [
    "### Feature Selection "
   ]
  },
  {
   "cell_type": "code",
   "execution_count": 48,
   "metadata": {},
   "outputs": [],
   "source": [
    "dataset_2<- dataset[,sapply(dataset,nlevels)>1] # selecting only the factor variables\n",
    "dataset_numeric<-subset(dataset, select =  c(3,11,23)) # selecting the numeric variables"
   ]
  },
  {
   "cell_type": "markdown",
   "metadata": {},
   "source": [
    "Now let us see the RESPONSE variable is dependent on which of the factor variables on i.e. which factor variables have an association with the RESPONSE variable.\n",
    "Since both the variables being compared are categorical, we use the chi-squared test for the same.\n",
    "\n",
    "We then generate list of all factor variables that are found to have associations with the response variable."
   ]
  },
  {
   "cell_type": "code",
   "execution_count": 50,
   "metadata": {
    "scrolled": false
   },
   "outputs": [
    {
     "name": "stdout",
     "output_type": "stream",
     "text": [
      "[1] \"CHK_ACCT\"\n",
      "\n",
      "\tPearson's Chi-squared test\n",
      "\n",
      "data:  dataset_2[i] and dataset_2$RESPONSE\n",
      "X-squared = 123.72, df = 3, p-value < 2.2e-16\n",
      "\n",
      "[1] \"HISTORY\"\n",
      "\n",
      "\tPearson's Chi-squared test\n",
      "\n",
      "data:  dataset_2[i] and dataset_2$RESPONSE\n",
      "X-squared = 61.691, df = 4, p-value = 1.279e-12\n",
      "\n",
      "[1] \"NEW_CAR\"\n",
      "\n",
      "\tPearson's Chi-squared test with Yates' continuity correction\n",
      "\n",
      "data:  dataset_2[i] and dataset_2$RESPONSE\n",
      "X-squared = 8.8969, df = 1, p-value = 0.002857\n",
      "\n",
      "[1] \"USED_CAR\"\n",
      "\n",
      "\tPearson's Chi-squared test with Yates' continuity correction\n",
      "\n",
      "data:  dataset_2[i] and dataset_2$RESPONSE\n",
      "X-squared = 9.2547, df = 1, p-value = 0.002349\n",
      "\n",
      "[1] \"Radio.TV\"\n",
      "\n",
      "\tPearson's Chi-squared test with Yates' continuity correction\n",
      "\n",
      "data:  dataset_2[i] and dataset_2$RESPONSE\n",
      "X-squared = 10.919, df = 1, p-value = 0.000952\n",
      "\n",
      "[1] \"EDUCATION\"\n",
      "\n",
      "\tPearson's Chi-squared test with Yates' continuity correction\n",
      "\n",
      "data:  dataset_2[i] and dataset_2$RESPONSE\n",
      "X-squared = 4.2356, df = 1, p-value = 0.03958\n",
      "\n",
      "[1] \"SAV_ACCT\"\n",
      "\n",
      "\tPearson's Chi-squared test\n",
      "\n",
      "data:  dataset_2[i] and dataset_2$RESPONSE\n",
      "X-squared = 36.099, df = 4, p-value = 2.761e-07\n",
      "\n",
      "[1] \"EMPLOYMENT\"\n",
      "\n",
      "\tPearson's Chi-squared test\n",
      "\n",
      "data:  dataset_2[i] and dataset_2$RESPONSE\n",
      "X-squared = 18.368, df = 4, p-value = 0.001045\n",
      "\n",
      "[1] \"MALE_SINGLE\"\n",
      "\n",
      "\tPearson's Chi-squared test with Yates' continuity correction\n",
      "\n",
      "data:  dataset_2[i] and dataset_2$RESPONSE\n",
      "X-squared = 6.1598, df = 1, p-value = 0.01307\n",
      "\n",
      "[1] \"REAL_ESTATE\"\n",
      "\n",
      "\tPearson's Chi-squared test with Yates' continuity correction\n",
      "\n",
      "data:  dataset_2[i] and dataset_2$RESPONSE\n",
      "X-squared = 13.66, df = 1, p-value = 0.0002191\n",
      "\n",
      "[1] \"PROP_UNKN_NONE\"\n",
      "\n",
      "\tPearson's Chi-squared test with Yates' continuity correction\n",
      "\n",
      "data:  dataset_2[i] and dataset_2$RESPONSE\n",
      "X-squared = 15.062, df = 1, p-value = 0.000104\n",
      "\n",
      "[1] \"OTHER_INSTALL\"\n",
      "\n",
      "\tPearson's Chi-squared test with Yates' continuity correction\n",
      "\n",
      "data:  dataset_2[i] and dataset_2$RESPONSE\n",
      "X-squared = 12.206, df = 1, p-value = 0.0004763\n",
      "\n",
      "[1] \"RENT\"\n",
      "\n",
      "\tPearson's Chi-squared test with Yates' continuity correction\n",
      "\n",
      "data:  dataset_2[i] and dataset_2$RESPONSE\n",
      "X-squared = 8.0891, df = 1, p-value = 0.004453\n",
      "\n",
      "[1] \"OWN_RES\"\n",
      "\n",
      "\tPearson's Chi-squared test with Yates' continuity correction\n",
      "\n",
      "data:  dataset_2[i] and dataset_2$RESPONSE\n",
      "X-squared = 17.471, df = 1, p-value = 2.918e-05\n",
      "\n"
     ]
    },
    {
     "name": "stderr",
     "output_type": "stream",
     "text": [
      "Warning message in chisq.test(dataset_2[i], dataset_2$RESPONSE):\n",
      "\"Chi-squared approximation may be incorrect\""
     ]
    },
    {
     "name": "stdout",
     "output_type": "stream",
     "text": [
      "[1] \"FOREIGN\"\n",
      "\n",
      "\tPearson's Chi-squared test with Yates' continuity correction\n",
      "\n",
      "data:  dataset_2[i] and dataset_2$RESPONSE\n",
      "X-squared = 5.8216, df = 1, p-value = 0.01583\n",
      "\n",
      "[1] \"RESPONSE\"\n",
      "\n",
      "\tPearson's Chi-squared test with Yates' continuity correction\n",
      "\n",
      "data:  dataset_2[i] and dataset_2$RESPONSE\n",
      "X-squared = 995.24, df = 1, p-value < 2.2e-16\n",
      "\n"
     ]
    }
   ],
   "source": [
    "List_Significant_flags<-list()\n",
    "\n",
    "for (i in names(dataset_2))\n",
    "{\n",
    "  \n",
    "  if(!is.numeric(dataset_2[i]))\n",
    "    \n",
    "  {\n",
    "    chisq<-chisq.test(dataset_2[i],dataset_2$RESPONSE)\n",
    "    \n",
    "    if(chisq$p.value <0.05)\n",
    "    {\n",
    "      print(i)\n",
    "      List_Significant_flags<-c(List_Significant_flags,i)\n",
    "      out <- capture.output(print(chisq))\n",
    "      i<-capture.output(print(i))\n",
    "      #\n",
    "     cat(out, sep=\"\\n\", append=TRUE)\n",
    "      \n",
    "    }\n",
    "  }# print(chisq$residuals)\n",
    "}"
   ]
  },
  {
   "cell_type": "markdown",
   "metadata": {},
   "source": [
    "Creating the final dataset for modelling. "
   ]
  },
  {
   "cell_type": "code",
   "execution_count": 51,
   "metadata": {},
   "outputs": [
    {
     "data": {
      "text/html": [
       "<ol class=list-inline>\n",
       "\t<li>1000</li>\n",
       "\t<li>19</li>\n",
       "</ol>\n"
      ],
      "text/latex": [
       "\\begin{enumerate*}\n",
       "\\item 1000\n",
       "\\item 19\n",
       "\\end{enumerate*}\n"
      ],
      "text/markdown": [
       "1. 1000\n",
       "2. 19\n",
       "\n",
       "\n"
      ],
      "text/plain": [
       "[1] 1000   19"
      ]
     },
     "metadata": {},
     "output_type": "display_data"
    }
   ],
   "source": [
    "myvars<- names(dataset) %in% List_Significant_flags | names(dataset) %in% names(dataset_numeric)\n",
    "\n",
    "dataset_final <- dataset[,myvars]\n",
    "dim(dataset_final)"
   ]
  },
  {
   "cell_type": "markdown",
   "metadata": {},
   "source": [
    "### Decision Tree Model using the CART algorithm (rpart package)\n",
    "Let's start with the most common decision tree algorithm i.e. CART \n",
    "\n",
    "#### Model 1: Using all attributes in the original dataset\n",
    "The default splitting criteria for classification is \"gini\"."
   ]
  },
  {
   "cell_type": "code",
   "execution_count": 52,
   "metadata": {
    "scrolled": false
   },
   "outputs": [
    {
     "name": "stdout",
     "output_type": "stream",
     "text": [
      "n= 1000 \n",
      "\n",
      "node), split, n, loss, yval, (yprob)\n",
      "      * denotes terminal node\n",
      "\n",
      "  1) root 1000 300 1 (0.30000000 0.70000000)  \n",
      "    2) CHK_ACCT=0,1 543 240 1 (0.44198895 0.55801105)  \n",
      "      4) DURATION>=22.5 237 103 0 (0.56540084 0.43459916)  \n",
      "        8) SAV_ACCT=0,1,2 196  74 0 (0.62244898 0.37755102)  \n",
      "         16) DURATION>=47.5 36   5 0 (0.86111111 0.13888889) *\n",
      "         17) DURATION< 47.5 160  69 0 (0.56875000 0.43125000)  \n",
      "           34) USED_CAR=0 137  52 0 (0.62043796 0.37956204) *\n",
      "           35) USED_CAR=1 23   6 1 (0.26086957 0.73913043) *\n",
      "        9) SAV_ACCT=3,4 41  12 1 (0.29268293 0.70731707) *\n",
      "      5) DURATION< 22.5 306 106 1 (0.34640523 0.65359477)  \n",
      "       10) HISTORY=0,1 28   7 0 (0.75000000 0.25000000) *\n",
      "       11) HISTORY=2,3,4 278  85 1 (0.30575540 0.69424460)  \n",
      "         22) OBS#>=120.5 241  83 1 (0.34439834 0.65560166)  \n",
      "           44) AMOUNT>=7491.5 7   1 0 (0.85714286 0.14285714) *\n",
      "           45) AMOUNT< 7491.5 234  77 1 (0.32905983 0.67094017)  \n",
      "             90) DURATION>=8.5 200  73 1 (0.36500000 0.63500000)  \n",
      "              180) AMOUNT< 1423 85  42 1 (0.49411765 0.50588235)  \n",
      "                360) REAL_ESTATE=0 48  16 0 (0.66666667 0.33333333)  \n",
      "                  720) NUM_CREDITS=1,4 37   8 0 (0.78378378 0.21621622) *\n",
      "                  721) NUM_CREDITS=2,3 11   3 1 (0.27272727 0.72727273) *\n",
      "                361) REAL_ESTATE=1 37  10 1 (0.27027027 0.72972973) *\n",
      "              181) AMOUNT>=1423 115  31 1 (0.26956522 0.73043478) *\n",
      "             91) DURATION< 8.5 34   4 1 (0.11764706 0.88235294) *\n",
      "         23) OBS#< 120.5 37   2 1 (0.05405405 0.94594595) *\n",
      "    3) CHK_ACCT=2,3 457  60 1 (0.13129103 0.86870897) *\n",
      "Call:\n",
      "rpart(formula = RESPONSE ~ ., data = dataset, method = \"class\")\n",
      "  n= 1000 \n",
      "\n",
      "          CP nsplit rel error    xerror       xstd\n",
      "1 0.05166667      0 1.0000000 1.0000000 0.04830459\n",
      "2 0.04666667      3 0.8400000 0.9866667 0.04811837\n",
      "3 0.01833333      4 0.7933333 0.8666667 0.04623611\n",
      "4 0.01400000      6 0.7566667 0.8566667 0.04606167\n",
      "5 0.01000000     12 0.6700000 0.8566667 0.04606167\n",
      "\n",
      "Variable importance\n",
      "        CHK_ACCT         DURATION          HISTORY           AMOUNT \n",
      "              29               14               11               10 \n",
      "        SAV_ACCT      REAL_ESTATE         USED_CAR      NUM_CREDITS \n",
      "               9                5                4                4 \n",
      "            OBS#         Radio.TV              JOB PRESENT_RESIDENT \n",
      "               3                3                2                2 \n",
      "  PROP_UNKN_NONE        GUARANTOR              AGE  MALE_MAR_or_WID \n",
      "               1                1                1                1 \n",
      "    INSTALL_RATE \n",
      "               1 \n",
      "\n",
      "Node number 1: 1000 observations,    complexity param=0.05166667\n",
      "  predicted class=1  expected loss=0.3  P(node) =1\n",
      "    class counts:   300   700\n",
      "   probabilities: 0.300 0.700 \n",
      "  left son=2 (543 obs) right son=3 (457 obs)\n",
      "  Primary splits:\n",
      "      CHK_ACCT splits as  LLRR,        improve=47.90962, (0 missing)\n",
      "      HISTORY  splits as  LLRRR,       improve=17.06212, (0 missing)\n",
      "      SAV_ACCT splits as  LLRRR,       improve=14.80642, (0 missing)\n",
      "      DURATION < 34.5    to the right, improve=13.62155, (0 missing)\n",
      "      AMOUNT   < 3913.5  to the right, improve=11.32017, (0 missing)\n",
      "  Surrogate splits:\n",
      "      SAV_ACCT         splits as  LLRRR, agree=0.611, adj=0.149, (0 split)\n",
      "      HISTORY          splits as  LLLLR, agree=0.592, adj=0.107, (0 split)\n",
      "      PRESENT_RESIDENT splits as  LRLL,  agree=0.567, adj=0.053, (0 split)\n",
      "      Radio.TV         splits as  LR,    agree=0.565, adj=0.048, (0 split)\n",
      "      NUM_CREDITS      splits as  LRLL,  agree=0.556, adj=0.028, (0 split)\n",
      "\n",
      "Node number 2: 543 observations,    complexity param=0.05166667\n",
      "  predicted class=1  expected loss=0.441989  P(node) =0.543\n",
      "    class counts:   240   303\n",
      "   probabilities: 0.442 0.558 \n",
      "  left son=4 (237 obs) right son=5 (306 obs)\n",
      "  Primary splits:\n",
      "      DURATION    < 22.5    to the right, improve=12.810640, (0 missing)\n",
      "      HISTORY     splits as  LLRRR,       improve= 9.653787, (0 missing)\n",
      "      REAL_ESTATE splits as  LR,          improve= 9.181363, (0 missing)\n",
      "      SAV_ACCT    splits as  LLRRR,       improve= 8.890786, (0 missing)\n",
      "      AMOUNT      < 8078    to the right, improve= 6.601270, (0 missing)\n",
      "  Surrogate splits:\n",
      "      AMOUNT         < 2805.5  to the right, agree=0.748, adj=0.422, (0 split)\n",
      "      PROP_UNKN_NONE splits as  RL,          agree=0.643, adj=0.181, (0 split)\n",
      "      HISTORY        splits as  LLRLR,       agree=0.610, adj=0.105, (0 split)\n",
      "      USED_CAR       splits as  RL,          agree=0.599, adj=0.080, (0 split)\n",
      "      REAL_ESTATE    splits as  LR,          agree=0.597, adj=0.076, (0 split)\n",
      "\n",
      "Node number 3: 457 observations\n",
      "  predicted class=1  expected loss=0.131291  P(node) =0.457\n",
      "    class counts:    60   397\n",
      "   probabilities: 0.131 0.869 \n",
      "\n",
      "Node number 4: 237 observations,    complexity param=0.05166667\n",
      "  predicted class=0  expected loss=0.4345992  P(node) =0.237\n",
      "    class counts:   134   103\n",
      "   probabilities: 0.565 0.435 \n",
      "  left son=8 (196 obs) right son=9 (41 obs)\n",
      "  Primary splits:\n",
      "      SAV_ACCT     splits as  LLLRR,       improve=7.374515, (0 missing)\n",
      "      USED_CAR     splits as  LR,          improve=4.129437, (0 missing)\n",
      "      AMOUNT       < 1380    to the left,  improve=3.289316, (0 missing)\n",
      "      INSTALL_RATE splits as  RRLL,        improve=3.067516, (0 missing)\n",
      "      DURATION     < 43.5    to the right, improve=2.564920, (0 missing)\n",
      "\n",
      "Node number 5: 306 observations,    complexity param=0.04666667\n",
      "  predicted class=1  expected loss=0.3464052  P(node) =0.306\n",
      "    class counts:   106   200\n",
      "   probabilities: 0.346 0.654 \n",
      "  left son=10 (28 obs) right son=11 (278 obs)\n",
      "  Primary splits:\n",
      "      HISTORY     splits as  LLRRR,       improve=10.040510, (0 missing)\n",
      "      OBS#        < 120.5   to the right, improve= 6.207418, (0 missing)\n",
      "      REAL_ESTATE splits as  LR,          improve= 5.585685, (0 missing)\n",
      "      GUARANTOR   splits as  LR,          improve= 3.782059, (0 missing)\n",
      "      DURATION    < 11.5    to the right, improve= 3.766531, (0 missing)\n",
      "\n",
      "Node number 8: 196 observations,    complexity param=0.01833333\n",
      "  predicted class=0  expected loss=0.377551  P(node) =0.196\n",
      "    class counts:   122    74\n",
      "   probabilities: 0.622 0.378 \n",
      "  left son=16 (36 obs) right son=17 (160 obs)\n",
      "  Primary splits:\n",
      "      DURATION         < 47.5    to the right, improve=5.023838, (0 missing)\n",
      "      USED_CAR         splits as  LR,          improve=4.598639, (0 missing)\n",
      "      INSTALL_RATE     splits as  RRLL,        improve=2.682485, (0 missing)\n",
      "      PRESENT_RESIDENT splits as  RLRL,        improve=2.610062, (0 missing)\n",
      "      AMOUNT           < 11788   to the right, improve=2.516732, (0 missing)\n",
      "  Surrogate splits:\n",
      "      AMOUNT < 13319.5 to the right, agree=0.837, adj=0.111, (0 split)\n",
      "\n",
      "Node number 9: 41 observations\n",
      "  predicted class=1  expected loss=0.2926829  P(node) =0.041\n",
      "    class counts:    12    29\n",
      "   probabilities: 0.293 0.707 \n",
      "\n",
      "Node number 10: 28 observations\n",
      "  predicted class=0  expected loss=0.25  P(node) =0.028\n",
      "    class counts:    21     7\n",
      "   probabilities: 0.750 0.250 \n",
      "\n",
      "Node number 11: 278 observations,    complexity param=0.014\n",
      "  predicted class=1  expected loss=0.3057554  P(node) =0.278\n",
      "    class counts:    85   193\n",
      "   probabilities: 0.306 0.694 \n",
      "  left son=22 (241 obs) right son=23 (37 obs)\n",
      "  Primary splits:\n",
      "      OBS#        < 120.5   to the right, improve=5.407923, (0 missing)\n",
      "      AMOUNT      < 7491.5  to the right, improve=4.366338, (0 missing)\n",
      "      DURATION    < 11.5    to the right, improve=3.840775, (0 missing)\n",
      "      REAL_ESTATE splits as  LR,          improve=3.589042, (0 missing)\n",
      "      EMPLOYMENT  splits as  LLLRL,       improve=3.449347, (0 missing)\n",
      "  Surrogate splits:\n",
      "      SAV_ACCT splits as  LLRLL, agree=0.871, adj=0.027, (0 split)\n",
      "\n",
      "Node number 16: 36 observations\n",
      "  predicted class=0  expected loss=0.1388889  P(node) =0.036\n",
      "    class counts:    31     5\n",
      "   probabilities: 0.861 0.139 \n",
      "\n",
      "Node number 17: 160 observations,    complexity param=0.01833333\n",
      "  predicted class=0  expected loss=0.43125  P(node) =0.16\n",
      "    class counts:    91    69\n",
      "   probabilities: 0.569 0.431 \n",
      "  left son=34 (137 obs) right son=35 (23 obs)\n",
      "  Primary splits:\n",
      "      USED_CAR     splits as  LR,          improve=5.092387, (0 missing)\n",
      "      AMOUNT       < 2313    to the left,  improve=3.402464, (0 missing)\n",
      "      INSTALL_RATE splits as  RRLL,        improve=2.374236, (0 missing)\n",
      "      NEW_CAR      splits as  RL,          improve=2.000321, (0 missing)\n",
      "      AGE          < 57.5    to the left,  improve=1.711184, (0 missing)\n",
      "  Surrogate splits:\n",
      "      OBS# < 982.5   to the left,  agree=0.862, adj=0.043, (0 split)\n",
      "      AGE  < 62      to the left,  agree=0.862, adj=0.043, (0 split)\n",
      "\n",
      "Node number 22: 241 observations,    complexity param=0.014\n",
      "  predicted class=1  expected loss=0.3443983  P(node) =0.241\n",
      "    class counts:    83   158\n",
      "   probabilities: 0.344 0.656 \n",
      "  left son=44 (7 obs) right son=45 (234 obs)\n",
      "  Primary splits:\n",
      "      AMOUNT     < 7491.5  to the right, improve=3.790803, (0 missing)\n",
      "      OBS#       < 933.5   to the left,  improve=3.525911, (0 missing)\n",
      "      EMPLOYMENT splits as  LLLRL,       improve=3.326408, (0 missing)\n",
      "      GUARANTOR  splits as  LR,          improve=3.309626, (0 missing)\n",
      "      DURATION   < 11.5    to the right, improve=3.180698, (0 missing)\n",
      "\n",
      "Node number 23: 37 observations\n",
      "  predicted class=1  expected loss=0.05405405  P(node) =0.037\n",
      "    class counts:     2    35\n",
      "   probabilities: 0.054 0.946 \n",
      "\n",
      "Node number 34: 137 observations\n",
      "  predicted class=0  expected loss=0.379562  P(node) =0.137\n",
      "    class counts:    85    52\n",
      "   probabilities: 0.620 0.380 \n",
      "\n",
      "Node number 35: 23 observations\n",
      "  predicted class=1  expected loss=0.2608696  P(node) =0.023\n",
      "    class counts:     6    17\n",
      "   probabilities: 0.261 0.739 \n",
      "\n",
      "Node number 44: 7 observations\n",
      "  predicted class=0  expected loss=0.1428571  P(node) =0.007\n",
      "    class counts:     6     1\n",
      "   probabilities: 0.857 0.143 \n",
      "\n",
      "Node number 45: 234 observations,    complexity param=0.014\n",
      "  predicted class=1  expected loss=0.3290598  P(node) =0.234\n",
      "    class counts:    77   157\n",
      "   probabilities: 0.329 0.671 \n",
      "  left son=90 (200 obs) right son=91 (34 obs)\n",
      "  Primary splits:\n",
      "      DURATION  < 8.5     to the right, improve=3.555963, (0 missing)\n",
      "      OBS#      < 933.5   to the left,  improve=3.224786, (0 missing)\n",
      "      GUARANTOR splits as  LR,          improve=2.899666, (0 missing)\n",
      "      AMOUNT    < 1541.5  to the left,  improve=2.886843, (0 missing)\n",
      "      JOB       splits as  LRLR,        improve=2.877234, (0 missing)\n",
      "  Surrogate splits:\n",
      "      AMOUNT < 527.5   to the right, agree=0.876, adj=0.147, (0 split)\n",
      "\n",
      "Node number 90: 200 observations,    complexity param=0.014\n",
      "  predicted class=1  expected loss=0.365  P(node) =0.2\n",
      "    class counts:    73   127\n",
      "   probabilities: 0.365 0.635 \n",
      "  left son=180 (85 obs) right son=181 (115 obs)\n",
      "  Primary splits:\n",
      "      AMOUNT     < 1423    to the left,  improve=4.928926, (0 missing)\n",
      "      OBS#       < 933.5   to the left,  improve=3.101534, (0 missing)\n",
      "      JOB        splits as  LRLR,        improve=2.752471, (0 missing)\n",
      "      GUARANTOR  splits as  LR,          improve=2.315746, (0 missing)\n",
      "      EMPLOYMENT splits as  LLLRL,       improve=2.263156, (0 missing)\n",
      "  Surrogate splits:\n",
      "      INSTALL_RATE    splits as  RRRL,        agree=0.655, adj=0.188, (0 split)\n",
      "      DURATION        < 12.5    to the left,  agree=0.640, adj=0.153, (0 split)\n",
      "      JOB             splits as  RLRR,        agree=0.630, adj=0.129, (0 split)\n",
      "      MALE_MAR_or_WID splits as  RL,          agree=0.605, adj=0.071, (0 split)\n",
      "      AGE             < 45      to the right, agree=0.605, adj=0.071, (0 split)\n",
      "\n",
      "Node number 91: 34 observations\n",
      "  predicted class=1  expected loss=0.1176471  P(node) =0.034\n",
      "    class counts:     4    30\n",
      "   probabilities: 0.118 0.882 \n",
      "\n",
      "Node number 180: 85 observations,    complexity param=0.014\n",
      "  predicted class=1  expected loss=0.4941176  P(node) =0.085\n",
      "    class counts:    42    43\n",
      "   probabilities: 0.494 0.506 \n",
      "  left son=360 (48 obs) right son=361 (37 obs)\n",
      "  Primary splits:\n",
      "      REAL_ESTATE      splits as  LR,   improve=6.566190, (0 missing)\n",
      "      NUM_CREDITS      splits as  LRRL, improve=5.462697, (0 missing)\n",
      "      GUARANTOR        splits as  LR,   improve=4.715579, (0 missing)\n",
      "      PRESENT_RESIDENT splits as  LLLR, improve=4.440830, (0 missing)\n",
      "      JOB              splits as  LRLR, improve=3.176089, (0 missing)\n",
      "  Surrogate splits:\n",
      "      Radio.TV        splits as  LR,          agree=0.729, adj=0.378, (0 split)\n",
      "      JOB             splits as  LRLL,        agree=0.671, adj=0.243, (0 split)\n",
      "      GUARANTOR       splits as  LR,          agree=0.659, adj=0.216, (0 split)\n",
      "      AMOUNT          < 632     to the right, agree=0.624, adj=0.135, (0 split)\n",
      "      MALE_MAR_or_WID splits as  LR,          agree=0.624, adj=0.135, (0 split)\n",
      "\n",
      "Node number 181: 115 observations\n",
      "  predicted class=1  expected loss=0.2695652  P(node) =0.115\n",
      "    class counts:    31    84\n",
      "   probabilities: 0.270 0.730 \n",
      "\n",
      "Node number 360: 48 observations,    complexity param=0.014\n",
      "  predicted class=0  expected loss=0.3333333  P(node) =0.048\n",
      "    class counts:    32    16\n",
      "   probabilities: 0.667 0.333 \n",
      "  left son=720 (37 obs) right son=721 (11 obs)\n",
      "  Primary splits:\n",
      "      NUM_CREDITS      splits as  LRRL,        improve=4.429156, (0 missing)\n",
      "      AGE              < 37.5    to the left,  improve=3.787115, (0 missing)\n",
      "      PRESENT_RESIDENT splits as  RLRR,        improve=2.807018, (0 missing)\n",
      "      AMOUNT           < 967     to the left,  improve=1.864802, (0 missing)\n",
      "      EMPLOYMENT       splits as  LLRRR,       improve=1.434174, (0 missing)\n",
      "  Surrogate splits:\n",
      "      HISTORY      splits as  --L-R,       agree=0.854, adj=0.364, (0 split)\n",
      "      SAV_ACCT     splits as  LL-RL,       agree=0.812, adj=0.182, (0 split)\n",
      "      AGE          < 54      to the left,  agree=0.812, adj=0.182, (0 split)\n",
      "      JOB          splits as  RLLL,        agree=0.812, adj=0.182, (0 split)\n",
      "      CO-APPLICANT splits as  LR,          agree=0.792, adj=0.091, (0 split)\n",
      "\n",
      "Node number 361: 37 observations\n",
      "  predicted class=1  expected loss=0.2702703  P(node) =0.037\n",
      "    class counts:    10    27\n",
      "   probabilities: 0.270 0.730 \n",
      "\n",
      "Node number 720: 37 observations\n",
      "  predicted class=0  expected loss=0.2162162  P(node) =0.037\n",
      "    class counts:    29     8\n",
      "   probabilities: 0.784 0.216 \n",
      "\n",
      "Node number 721: 11 observations\n",
      "  predicted class=1  expected loss=0.2727273  P(node) =0.011\n",
      "    class counts:     3     8\n",
      "   probabilities: 0.273 0.727 \n",
      "\n"
     ]
    },
    {
     "ename": "ERROR",
     "evalue": "Error in prp(rpModel1, type = 3, under = TRUE, extra = 106, fallen.leaves = FALSE, : could not find function \"prp\"\n",
     "output_type": "error",
     "traceback": [
      "Error in prp(rpModel1, type = 3, under = TRUE, extra = 106, fallen.leaves = FALSE, : could not find function \"prp\"\nTraceback:\n"
     ]
    }
   ],
   "source": [
    "rpModel1 <- rpart(RESPONSE ~ ., data=dataset, method=\"class\")\n",
    "print(rpModel1)\n",
    "\n",
    "summary(rpModel1)"
   ]
  },
  {
   "cell_type": "code",
   "execution_count": 57,
   "metadata": {},
   "outputs": [
    {
     "name": "stderr",
     "output_type": "stream",
     "text": [
      "Installing package into 'C:/Users/mihir/.conda/envs/R_env/Scripts'\n",
      "(as 'lib' is unspecified)\n"
     ]
    },
    {
     "name": "stdout",
     "output_type": "stream",
     "text": [
      "package 'rpart.plot' successfully unpacked and MD5 sums checked\n",
      "\n",
      "The downloaded binary packages are in\n",
      "\tC:\\Users\\mihir\\AppData\\Local\\Temp\\RtmpYLMzsA\\downloaded_packages\n"
     ]
    }
   ],
   "source": [
    "install.packages(\"rpart.plot\", repos = \"http://cran.us.r-project.org\")"
   ]
  },
  {
   "cell_type": "code",
   "execution_count": 61,
   "metadata": {},
   "outputs": [
    {
     "data": {
      "image/png": "[encoded data removed]",
      "text/plain": [
       "Plot with title \"Decision Tree Model using all attributes\""
      ]
     },
     "metadata": {},
     "output_type": "display_data"
    }
   ],
   "source": [
    "library(rpart.plot)\n",
    "options(repr.plot.width = 15, repr.plot.height = 15)\n",
    "prp(rpModel1, type = 3, under = TRUE, extra = 106, fallen.leaves = FALSE, tweak = 2.5, box.palette = \"auto\", main = \"Decision Tree Model using all attributes\", under.cex = 1, clip.right.labs = FALSE, branch = 0.3)"
   ]
  },
  {
   "cell_type": "code",
   "execution_count": null,
   "metadata": {},
   "outputs": [],
   "source": []
  },
  {
   "cell_type": "code",
   "execution_count": null,
   "metadata": {},
   "outputs": [],
   "source": []
  },
  {
   "cell_type": "code",
   "execution_count": null,
   "metadata": {},
   "outputs": [],
   "source": []
  },
  {
   "cell_type": "code",
   "execution_count": null,
   "metadata": {},
   "outputs": [],
   "source": []
  },
  {
   "cell_type": "code",
   "execution_count": null,
   "metadata": {},
   "outputs": [],
   "source": []
  },
  {
   "cell_type": "code",
   "execution_count": null,
   "metadata": {},
   "outputs": [],
   "source": []
  }
 ],
 "metadata": {
  "kernelspec": {
   "display_name": "R",
   "language": "R",
   "name": "ir"
  },
  "language_info": {
   "codemirror_mode": "r",
   "file_extension": ".r",
   "mimetype": "text/x-r-source",
   "name": "R",
   "pygments_lexer": "r",
   "version": "3.6.1"
  }
 },
 "nbformat": 4,
 "nbformat_minor": 4
}
